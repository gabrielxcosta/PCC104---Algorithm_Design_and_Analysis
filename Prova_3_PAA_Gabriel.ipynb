{
  "nbformat": 4,
  "nbformat_minor": 0,
  "metadata": {
    "colab": {
      "provenance": [],
      "collapsed_sections": [
        "aouCqouwFBXc",
        "0vTydeAFJ2qm",
        "GA_K6JJ3LaR-",
        "VdczlRbwOv5o",
        "MBgTfjx1PB2k",
        "nKDIthZDVKdX",
        "MTwcYVpfZGss",
        "dWVGXKx_ZfjA",
        "MXAWnXSoad9i",
        "9KS84DBEbJ_a",
        "_MXeRo4Zbl07",
        "OpXUmzEYq34Y",
        "kvd_HjHP6lSf",
        "5vmaOXzG_mGW",
        "vYGnG4OFAu_7",
        "Ieq51aKiBH16",
        "BlVeeRtwBLVB",
        "nJAUtA7_BQbo",
        "LrEKDns_YwkW",
        "j8kSCgVJa1IY"
      ]
    },
    "kernelspec": {
      "name": "python3",
      "display_name": "Python 3"
    },
    "language_info": {
      "name": "python"
    }
  },
  "cells": [
    {
      "cell_type": "code",
      "source": [
        "import random\n",
        "import math"
      ],
      "metadata": {
        "id": "nfAWT4p3V_J9"
      },
      "execution_count": null,
      "outputs": []
    },
    {
      "cell_type": "markdown",
      "source": [
        "# Sorting methods"
      ],
      "metadata": {
        "id": "Ju8cqKCjE9AX"
      }
    },
    {
      "cell_type": "markdown",
      "source": [
        "## Bubble sort"
      ],
      "metadata": {
        "id": "aouCqouwFBXc"
      }
    },
    {
      "cell_type": "code",
      "execution_count": null,
      "metadata": {
        "id": "UM4CshoJEAJU"
      },
      "outputs": [],
      "source": [
        "def bubble_sort(arr, n=None):\n",
        "    if n is None: # If no length is given, initialize n with the full length of the array\n",
        "        n = len(arr)\n",
        "    if n == 1: # Base case: array of size 1 is already sorted\n",
        "        return arr\n",
        "\n",
        "    for i in range(n - 1): # Perform one pass of bubble sort to move the largest element to the end\n",
        "        if arr[i] > arr[i + 1]: # Swap elements if they are in the wrong order\n",
        "            arr[i], arr[i + 1] = arr[i + 1], arr[i]\n",
        "\n",
        "    return bubble_sort(arr, n - 1) # Recursively sort the first n-1 elements"
      ]
    },
    {
      "cell_type": "code",
      "source": [
        "arr = [random.randint(1, 25) for _ in range(20)]\n",
        "print(arr)\n",
        "print(bubble_sort(arr))"
      ],
      "metadata": {
        "colab": {
          "base_uri": "https://localhost:8080/"
        },
        "id": "EgwV2cfAGC9_",
        "outputId": "1c6d5f46-c5ee-4f22-8bee-5bd083109b80"
      },
      "execution_count": null,
      "outputs": [
        {
          "output_type": "stream",
          "name": "stdout",
          "text": [
            "[1, 7, 1, 1, 17, 11, 4, 15, 4, 19, 1, 6, 18, 1, 6, 23, 1, 24, 24, 12]\n",
            "[1, 1, 1, 1, 1, 1, 4, 4, 6, 6, 7, 11, 12, 15, 17, 18, 19, 23, 24, 24]\n"
          ]
        }
      ]
    },
    {
      "cell_type": "markdown",
      "source": [
        "## Insertion sort"
      ],
      "metadata": {
        "id": "0vTydeAFJ2qm"
      }
    },
    {
      "cell_type": "code",
      "source": [
        "def insertion_sort(arr, n=None):\n",
        "    if n is None: # If n is not provided, set it to the length of the array\n",
        "        n = len(arr)\n",
        "    if n <= 1: # Base case: an array with 0 or 1 elements is already sorted\n",
        "        return arr\n",
        "\n",
        "    insertion_sort(arr, n - 1) # Recursively sort the first n-1 elements\n",
        "    last = arr[n - 1] # Take the last element and insert it into the sorted part\n",
        "    j = n - 2\n",
        "\n",
        "    while j >= 0 and arr[j] > last: # Shift elements to the right until the correct position for 'last' is found\n",
        "        arr[j + 1] = arr[j]\n",
        "        j -= 1\n",
        "\n",
        "    arr[j + 1] = last # Place 'last' in its correct position\n",
        "    return arr # Return the sorted array"
      ],
      "metadata": {
        "id": "Htami6_TJ2CI"
      },
      "execution_count": null,
      "outputs": []
    },
    {
      "cell_type": "code",
      "source": [
        "arr = [random.randint(1, 25) for _ in range(20)]\n",
        "print(arr)\n",
        "print(insertion_sort(arr))"
      ],
      "metadata": {
        "colab": {
          "base_uri": "https://localhost:8080/"
        },
        "id": "yeaoH_peJ6fg",
        "outputId": "59fe7e0f-ca8f-4b4c-a1e3-4a788462da1b"
      },
      "execution_count": null,
      "outputs": [
        {
          "output_type": "stream",
          "name": "stdout",
          "text": [
            "[25, 13, 17, 11, 1, 12, 17, 18, 11, 8, 8, 14, 25, 18, 1, 10, 16, 7, 2, 24]\n",
            "[1, 1, 2, 7, 8, 8, 10, 11, 11, 12, 13, 14, 16, 17, 17, 18, 18, 24, 25, 25]\n"
          ]
        }
      ]
    },
    {
      "cell_type": "markdown",
      "source": [
        "## Selection sort"
      ],
      "metadata": {
        "id": "GA_K6JJ3LaR-"
      }
    },
    {
      "cell_type": "code",
      "source": [
        "def selection_sort(arr, start=0):\n",
        "    if start >= len(arr) - 1:                 # Base case: if only one element is left, it's sorted\n",
        "        return arr\n",
        "    min_idx = start                           # Assume the current start index is the minimum\n",
        "    for i in range(start + 1, len(arr)):      # Iterate through the unsorted portion of the array\n",
        "        if arr[i] < arr[min_idx]:             # Update min_idx if a smaller element is found\n",
        "            min_idx = i\n",
        "    arr[start], arr[min_idx] = arr[min_idx], arr[start]  # Swap the minimum element with the current start\n",
        "    return selection_sort(arr, start + 1)     # Recursively sort the remaining unsorted part"
      ],
      "metadata": {
        "id": "XufRptCjLcKh"
      },
      "execution_count": null,
      "outputs": []
    },
    {
      "cell_type": "code",
      "source": [
        "arr = [random.randint(1, 25) for _ in range(20)]\n",
        "print(arr)\n",
        "print(selection_sort(arr))"
      ],
      "metadata": {
        "colab": {
          "base_uri": "https://localhost:8080/"
        },
        "id": "i999uktBLhdv",
        "outputId": "2cb8a375-d181-479b-8579-a8da57070011"
      },
      "execution_count": null,
      "outputs": [
        {
          "output_type": "stream",
          "name": "stdout",
          "text": [
            "[7, 17, 17, 24, 6, 7, 5, 1, 11, 16, 25, 25, 17, 5, 4, 24, 7, 8, 11, 20]\n",
            "[1, 4, 5, 5, 6, 7, 7, 7, 8, 11, 11, 16, 17, 17, 17, 20, 24, 24, 25, 25]\n"
          ]
        }
      ]
    },
    {
      "cell_type": "markdown",
      "source": [
        "## Quick sort"
      ],
      "metadata": {
        "id": "VdczlRbwOv5o"
      }
    },
    {
      "cell_type": "code",
      "source": [
        "def quick_sort(arr):\n",
        "    if len(arr) <= 1:                              # Base case: arrays with 0 or 1 elements are already sorted\n",
        "        return arr\n",
        "    pivot = arr[0]                                 # Choose the first element as the pivot\n",
        "    lesser = quick_sort([x for x in arr[1:] if x <= pivot])   # Recursively sort elements less than or equal to pivot\n",
        "    greater = quick_sort([x for x in arr[1:] if x > pivot])   # Recursively sort elements greater than pivot\n",
        "    return lesser + [pivot] + greater              # Concatenate sorted lesser elements, pivot, and greater elements"
      ],
      "metadata": {
        "id": "1sy8EFfAOzHv"
      },
      "execution_count": null,
      "outputs": []
    },
    {
      "cell_type": "code",
      "source": [
        "arr = [random.randint(1, 25) for _ in range(20)]\n",
        "print(arr)\n",
        "print(quick_sort(arr))"
      ],
      "metadata": {
        "colab": {
          "base_uri": "https://localhost:8080/"
        },
        "id": "BwE_RDsdO6Ax",
        "outputId": "4f5a12f9-5fd0-4fc6-c33c-4431d7337b43"
      },
      "execution_count": null,
      "outputs": [
        {
          "output_type": "stream",
          "name": "stdout",
          "text": [
            "[7, 3, 9, 8, 10, 5, 10, 14, 25, 13, 10, 17, 6, 22, 8, 17, 23, 6, 5, 15]\n",
            "[3, 5, 5, 6, 6, 7, 8, 8, 9, 10, 10, 10, 13, 14, 15, 17, 17, 22, 23, 25]\n"
          ]
        }
      ]
    },
    {
      "cell_type": "markdown",
      "source": [
        "## Merge sort"
      ],
      "metadata": {
        "id": "MBgTfjx1PB2k"
      }
    },
    {
      "cell_type": "code",
      "source": [
        "def merge_sort(arr):\n",
        "    if len(arr) <= 1:                              # Base case: a list of 0 or 1 element is already sorted\n",
        "        return arr\n",
        "    mid = len(arr) // 2                           # Find the middle index to split the array\n",
        "    L = merge_sort(arr[:mid])                      # Recursively sort the left half\n",
        "    R = merge_sort(arr[mid:])                      # Recursively sort the right half\n",
        "\n",
        "    i = j = 0                                     # Initialize pointers for L and R\n",
        "    merged = []                                   # List to store merged result\n",
        "    while i < len(L) and j < len(R):              # Merge while both lists have elements\n",
        "        if L[i] <= R[j]:                          # Take smaller element from L or R\n",
        "            merged.append(L[i])\n",
        "            i += 1\n",
        "        else:\n",
        "            merged.append(R[j])\n",
        "            j += 1\n",
        "    merged.extend(L[i:])                          # Append any remaining elements from L\n",
        "    merged.extend(R[j:])                          # Append any remaining elements from R\n",
        "    return merged                                 # Return the merged and sorted list"
      ],
      "metadata": {
        "id": "Jf3HQdAoPDqf"
      },
      "execution_count": null,
      "outputs": []
    },
    {
      "cell_type": "code",
      "source": [
        "arr = [random.randint(1, 25) for _ in range(20)]\n",
        "print(arr)\n",
        "print(merge_sort(arr))"
      ],
      "metadata": {
        "colab": {
          "base_uri": "https://localhost:8080/"
        },
        "id": "8LAirudKPVRq",
        "outputId": "3e917d47-3d46-4412-9d8b-e3ab34aba1d1"
      },
      "execution_count": null,
      "outputs": [
        {
          "output_type": "stream",
          "name": "stdout",
          "text": [
            "[20, 4, 1, 24, 23, 10, 3, 20, 3, 1, 11, 12, 13, 5, 12, 12, 17, 11, 25, 17]\n",
            "[1, 1, 3, 3, 4, 5, 10, 11, 11, 12, 12, 12, 13, 17, 17, 20, 20, 23, 24, 25]\n"
          ]
        }
      ]
    },
    {
      "cell_type": "markdown",
      "source": [
        "## Heap sort"
      ],
      "metadata": {
        "id": "nKDIthZDVKdX"
      }
    },
    {
      "cell_type": "code",
      "source": [
        "def heap_sort(arr):\n",
        "    def heapify(arr, n, i):\n",
        "        largest = i\n",
        "        l = 2 * i + 1  # filho esquerdo\n",
        "        r = 2 * i + 2  # filho direito\n",
        "\n",
        "        if l < n and arr[l] > arr[largest]:\n",
        "            largest = l\n",
        "        if r < n and arr[r] > arr[largest]:\n",
        "            largest = r\n",
        "        if largest != i:\n",
        "            arr[i], arr[largest] = arr[largest], arr[i]\n",
        "            heapify(arr, n, largest)\n",
        "\n",
        "    n = len(arr)\n",
        "\n",
        "    # Constrói o max heap (reorganiza o array)\n",
        "    for i in range(n // 2 - 1, -1, -1):\n",
        "        heapify(arr, n, i)\n",
        "\n",
        "    # Extrai elementos do heap um por um\n",
        "    for i in range(n - 1, 0, -1):\n",
        "        arr[0], arr[i] = arr[i], arr[0]  # Move o maior para o fim\n",
        "        heapify(arr, i, 0)               # Corrige o heap reduzido\n",
        "\n",
        "    return arr"
      ],
      "metadata": {
        "id": "edDkssazVKAJ"
      },
      "execution_count": null,
      "outputs": []
    },
    {
      "cell_type": "code",
      "source": [
        "arr = [random.randint(1, 25) for _ in range(20)]\n",
        "print(arr)\n",
        "print(heap_sort(arr))"
      ],
      "metadata": {
        "colab": {
          "base_uri": "https://localhost:8080/"
        },
        "id": "wChtD6TCVbrE",
        "outputId": "d6eff788-7b7e-424a-9e29-b1c122b3577e"
      },
      "execution_count": null,
      "outputs": [
        {
          "output_type": "stream",
          "name": "stdout",
          "text": [
            "[24, 3, 3, 2, 6, 17, 8, 6, 25, 3, 14, 2, 12, 1, 7, 21, 19, 5, 10, 6]\n",
            "[1, 2, 2, 3, 3, 3, 5, 6, 6, 6, 7, 8, 10, 12, 14, 17, 19, 21, 24, 25]\n"
          ]
        }
      ]
    },
    {
      "cell_type": "markdown",
      "source": [
        "## Counting sort"
      ],
      "metadata": {
        "id": "MTwcYVpfZGss"
      }
    },
    {
      "cell_type": "code",
      "source": [
        "def counting_sort(arr, max_val=None):\n",
        "    if max_val is None:\n",
        "        max_val = max(arr)  # Maximum value in arr\n",
        "\n",
        "    count = [0] * (max_val + 1)  # Initialize count array\n",
        "\n",
        "    for num in arr:\n",
        "        count[num] += 1           # Count occurrences\n",
        "\n",
        "    sorted_arr = []\n",
        "    for num, freq in enumerate(count):\n",
        "        sorted_arr.extend([num] * freq)  # Append num freq times\n",
        "\n",
        "    return sorted_arr"
      ],
      "metadata": {
        "id": "LJDDGBylZZWY"
      },
      "execution_count": null,
      "outputs": []
    },
    {
      "cell_type": "code",
      "source": [
        "arr = [random.randint(1, 25) for _ in range(20)]\n",
        "print(arr)\n",
        "print(counting_sort(arr))"
      ],
      "metadata": {
        "colab": {
          "base_uri": "https://localhost:8080/"
        },
        "id": "WlYDhu23Zbd3",
        "outputId": "58af3e05-876d-45d3-8a05-5b001e98ec77"
      },
      "execution_count": null,
      "outputs": [
        {
          "output_type": "stream",
          "name": "stdout",
          "text": [
            "[19, 8, 14, 17, 8, 18, 17, 16, 17, 18, 19, 5, 1, 17, 15, 4, 13, 21, 18, 7]\n",
            "[1, 4, 5, 7, 8, 8, 13, 14, 15, 16, 17, 17, 17, 17, 18, 18, 18, 19, 19, 21]\n"
          ]
        }
      ]
    },
    {
      "cell_type": "markdown",
      "source": [
        "## Radix sort"
      ],
      "metadata": {
        "id": "dWVGXKx_ZfjA"
      }
    },
    {
      "cell_type": "code",
      "source": [
        "def counting_sort_for_radix(arr, exp):\n",
        "    n = len(arr)                                # Get length of the input array\n",
        "    output = [0] * n                            # Output array to store sorted elements by current digit\n",
        "    count = [0] * 10                            # Count array for digits 0-9 (base 10)\n",
        "\n",
        "    for i in range(n):\n",
        "        index = (arr[i] // exp) % 10           # Extract the digit at 'exp' place\n",
        "        count[index] += 1                       # Count frequency of each digit\n",
        "\n",
        "    for i in range(1, 10):\n",
        "        count[i] += count[i - 1]                # Update count[i] to contain actual position of digit in output\n",
        "\n",
        "    for i in reversed(range(n)):\n",
        "        index = (arr[i] // exp) % 10           # Extract the digit again for placement\n",
        "        output[count[index] - 1] = arr[i]      # Place element at its correct sorted position\n",
        "        count[index] -= 1                       # Decrement count for that digit\n",
        "\n",
        "    for i in range(n):\n",
        "        arr[i] = output[i]                      # Copy sorted elements back to original array\n",
        "\n",
        "def radix_sort(arr):\n",
        "    max_val = max(arr)                          # Find the maximum number to know the number of digits\n",
        "    exp = 1                                     # Initialize exponent to 1 (units place)\n",
        "    while max_val // exp > 0:                   # Loop until we've processed all digit places\n",
        "        counting_sort_for_radix(arr, exp)       # Sort array based on current digit\n",
        "        exp *= 10                               # Move to next digit place (tens, hundreds, ...)\n",
        "    return arr                                  # Return the fully sorted array"
      ],
      "metadata": {
        "id": "jImD2P-WZhjK"
      },
      "execution_count": null,
      "outputs": []
    },
    {
      "cell_type": "code",
      "source": [
        "arr = [170, 45, 75, 90, 802, 24, 2, 66]\n",
        "counting_sort_for_radix(arr, 1)   # Ordena pelo dígito das unidades\n",
        "print(arr)  # Resultado parcial ordenado pelo dígito das unidades"
      ],
      "metadata": {
        "colab": {
          "base_uri": "https://localhost:8080/"
        },
        "id": "xvPO9imWZwQK",
        "outputId": "83eadd69-ed32-4a47-bf1e-992a427cfdde"
      },
      "execution_count": null,
      "outputs": [
        {
          "output_type": "stream",
          "name": "stdout",
          "text": [
            "[170, 90, 802, 2, 24, 45, 75, 66]\n"
          ]
        }
      ]
    },
    {
      "cell_type": "markdown",
      "source": [
        "## Bucket sort"
      ],
      "metadata": {
        "id": "MXAWnXSoad9i"
      }
    },
    {
      "cell_type": "code",
      "source": [
        "def bucket_sort(arr):\n",
        "    n = len(arr)                                # Get the number of elements in the array\n",
        "    buckets = [[] for _ in range(n)]            # Create n empty buckets (lists)\n",
        "    max_val = max(arr)                          # Find the maximum value in the array\n",
        "\n",
        "    for num in arr:\n",
        "        # Normalize 'num' to the range [0,1), then scale by n to find the bucket index\n",
        "        index = int((num / (max_val + 1)) * n)\n",
        "        buckets[index].append(num)              # Add the number to the appropriate bucket\n",
        "\n",
        "    for bucket in buckets:\n",
        "        bucket.sort()                           # Sort each bucket individually (can use any sort)\n",
        "\n",
        "    sorted_arr = []                             # Create an empty list to gather sorted elements\n",
        "    for bucket in buckets:\n",
        "        sorted_arr.extend(bucket)              # Concatenate all buckets into sorted_arr\n",
        "    return sorted_arr                           # Return the fully sorted list"
      ],
      "metadata": {
        "id": "icTXqcSlahlH"
      },
      "execution_count": null,
      "outputs": []
    },
    {
      "cell_type": "code",
      "source": [
        "arr = [random.randint(1, 25) for _ in range(20)]\n",
        "print(arr)\n",
        "print(bucket_sort(arr))"
      ],
      "metadata": {
        "colab": {
          "base_uri": "https://localhost:8080/"
        },
        "id": "c-sI6Y_CapCN",
        "outputId": "64c73ccb-755c-421e-bf74-f1c363471b40"
      },
      "execution_count": null,
      "outputs": [
        {
          "output_type": "stream",
          "name": "stdout",
          "text": [
            "[13, 17, 11, 17, 8, 1, 11, 13, 1, 7, 9, 22, 18, 22, 1, 21, 4, 13, 9, 5]\n",
            "[1, 1, 1, 4, 5, 7, 8, 9, 9, 11, 11, 13, 13, 13, 17, 17, 18, 21, 22, 22]\n"
          ]
        }
      ]
    },
    {
      "cell_type": "markdown",
      "source": [
        "## Tim sort"
      ],
      "metadata": {
        "id": "9KS84DBEbJ_a"
      }
    },
    {
      "cell_type": "code",
      "source": [
        "def insertion_sort_subarray(arr, left, right):\n",
        "    for i in range(left + 1, right + 1):         # Iterate over the subarray from left+1 to right\n",
        "        key = arr[i]                             # Store the current element to be inserted\n",
        "        j = i - 1                               # Start comparing with the previous element\n",
        "        while j >= left and arr[j] > key:      # Shift elements greater than 'key' to the right\n",
        "            arr[j + 1] = arr[j]\n",
        "            j -= 1\n",
        "        arr[j + 1] = key                        # Insert the 'key' at its correct position\n",
        "\n",
        "def merge(arr, left, mid, right):\n",
        "    L = arr[left:mid + 1]                       # Copy left half into L\n",
        "    R = arr[mid + 1:right + 1]                  # Copy right half into R\n",
        "    i = j = 0                                  # Initialize pointers for L and R\n",
        "    k = left                                   # Initialize pointer for merged array position\n",
        "\n",
        "    while i < len(L) and j < len(R):           # Merge until one side is exhausted\n",
        "        if L[i] <= R[j]:                       # Choose smaller element from L or R\n",
        "            arr[k] = L[i]\n",
        "            i += 1\n",
        "        else:\n",
        "            arr[k] = R[j]\n",
        "            j += 1\n",
        "        k += 1\n",
        "\n",
        "    while i < len(L):                          # Copy any remaining elements from L\n",
        "        arr[k] = L[i]\n",
        "        i += 1\n",
        "        k += 1\n",
        "\n",
        "    while j < len(R):                          # Copy any remaining elements from R\n",
        "        arr[k] = R[j]\n",
        "        j += 1\n",
        "        k += 1\n",
        "\n",
        "def tim_sort(arr):\n",
        "    RUN = 32\n",
        "    n = len(arr)\n",
        "\n",
        "    # Sort small chunks with insertion sort\n",
        "    for start in range(0, n, RUN):\n",
        "        end = min(start + RUN - 1, n - 1)\n",
        "        insertion_sort_subarray(arr, start, end)\n",
        "\n",
        "    size = RUN\n",
        "    while size < n:\n",
        "        for left in range(0, n, 2 * size):\n",
        "            mid = min(n - 1, left + size - 1)\n",
        "            right = min((left + 2 * size - 1), n - 1)\n",
        "            if mid < right:\n",
        "                merge(arr, left, mid, right)\n",
        "        size *= 2\n",
        "    return arr"
      ],
      "metadata": {
        "id": "5L88RDs8bLmw"
      },
      "execution_count": null,
      "outputs": []
    },
    {
      "cell_type": "code",
      "source": [
        "arr = [random.randint(1, 25) for _ in range(20)]\n",
        "print(arr)\n",
        "print(tim_sort(arr))"
      ],
      "metadata": {
        "colab": {
          "base_uri": "https://localhost:8080/"
        },
        "id": "m00ji7U4bNeq",
        "outputId": "948a5b0f-8bb3-47c6-d8ff-53db9a4412d1"
      },
      "execution_count": null,
      "outputs": [
        {
          "output_type": "stream",
          "name": "stdout",
          "text": [
            "[22, 3, 25, 15, 19, 8, 4, 21, 20, 12, 2, 21, 9, 10, 8, 9, 7, 12, 16, 15]\n",
            "[2, 3, 4, 7, 8, 8, 9, 9, 10, 12, 12, 15, 15, 16, 19, 20, 21, 21, 22, 25]\n"
          ]
        }
      ]
    },
    {
      "cell_type": "markdown",
      "source": [
        "## Tabela\n",
        "\n",
        "| Algoritmo          | Melhor Caso     | Pior Caso       | Caso Médio      | Espaço Adicional | Estável?          |\n",
        "| ------------------ | --------------- | --------------- | --------------- | ---------------- | ----------------- |\n",
        "| **Bubble Sort**    | 𝑂(𝑛)          | 𝑂(𝑛²)         | 𝑂(𝑛²)         | 𝑂(1)            | Sim               |\n",
        "| **Insertion Sort** | 𝑂(𝑛)          | 𝑂(𝑛²)         | 𝑂(𝑛²)         | 𝑂(1)            | Sim               |\n",
        "| **Selection Sort** | 𝑂(𝑛²)         | 𝑂(𝑛²)         | 𝑂(𝑛²)         | 𝑂(1)            | Não               |\n",
        "| **Merge Sort**     | 𝑂(𝑛 log 𝑛)   | 𝑂(𝑛 log 𝑛)   | 𝑂(𝑛 log 𝑛)   | 𝑂(𝑛)           | Sim               |\n",
        "| **Quick Sort**     | 𝑂(𝑛 log 𝑛)   | 𝑂(𝑛²)         | 𝑂(𝑛 log 𝑛)   | 𝑂(log 𝑛)       | Não (normalmente) |\n",
        "| **Heap Sort**      | 𝑂(𝑛 log 𝑛)   | 𝑂(𝑛 log 𝑛)   | 𝑂(𝑛 log 𝑛)   | 𝑂(1)            | Não               |\n",
        "| **Counting Sort**  | 𝑂(𝑛 + 𝑘)     | 𝑂(𝑛 + 𝑘)     | 𝑂(𝑛 + 𝑘)     | 𝑂(𝑛 + 𝑘)      | Sim               |\n",
        "| **Radix Sort**     | 𝑂(𝑑(𝑛 + 𝑘)) | 𝑂(𝑑(𝑛 + 𝑘)) | 𝑂(𝑑(𝑛 + 𝑘)) | 𝑂(𝑛 + 𝑘)      | Sim               |\n",
        "| **Bucket Sort**    | 𝑂(𝑛 + 𝑘)     | 𝑂(𝑛²)         | 𝑂(𝑛 + 𝑘)     | 𝑂(𝑛)           | Sim               |\n",
        "\n",
        "### **Notas importantes:**\n",
        "\n",
        "✅ **𝑛** = número de elementos\n",
        "\n",
        "✅ **𝑘** = intervalo ou valor máximo dos elementos (relevante em Counting, Radix e Bucket)\n",
        "\n",
        "✅ **𝑑** = número de dígitos dos números (Radix Sort)\n",
        "\n",
        "\n"
      ],
      "metadata": {
        "id": "EnYVZrFn15Ik"
      }
    },
    {
      "cell_type": "markdown",
      "source": [
        "# Binary trees"
      ],
      "metadata": {
        "id": "_MXeRo4Zbl07"
      }
    },
    {
      "cell_type": "code",
      "source": [
        "class Node:\n",
        "    def __init__(self, value):\n",
        "        \"\"\"Cria um novo nó com o valor fornecido.\"\"\"\n",
        "        self.value = value\n",
        "        self.left = None\n",
        "        self.right = None\n",
        "\n",
        "class BST:\n",
        "    def __init__(self):\n",
        "        \"\"\"Inicializa uma árvore binária de busca vazia.\"\"\"\n",
        "        self.root = None\n",
        "\n",
        "    def insert(self, value):\n",
        "        \"\"\"Insere um valor na árvore.\"\"\"\n",
        "        if not self.root:\n",
        "            self.root = Node(value)\n",
        "        else:\n",
        "            self._insert(self.root, value)\n",
        "\n",
        "    def _insert(self, node, value):\n",
        "        \"\"\"Insere um valor recursivamente a partir do nó fornecido.\"\"\"\n",
        "        if value < node.value:\n",
        "            if not node.left:\n",
        "                node.left = Node(value)\n",
        "            else:\n",
        "                self._insert(node.left, value)\n",
        "        elif value > node.value:\n",
        "            if not node.right:\n",
        "                node.right = Node(value)\n",
        "            else:\n",
        "                self._insert(node.right, value)\n",
        "\n",
        "    def remove(self, value):\n",
        "        \"\"\"Remove um valor da árvore, se existir.\"\"\"\n",
        "        self.root = self._remove(self.root, value)\n",
        "\n",
        "    def _remove(self, node, value):\n",
        "        \"\"\"Remove um valor recursivamente a partir do nó fornecido.\"\"\"\n",
        "        if not node:\n",
        "            return None\n",
        "\n",
        "        if value < node.value:\n",
        "            node.left = self._remove(node.left, value)\n",
        "        elif value > node.value:\n",
        "            node.right = self._remove(node.right, value)\n",
        "        else:\n",
        "            if not node.left and not node.right:\n",
        "                return None\n",
        "            elif not node.left:\n",
        "                return node.right\n",
        "            elif not node.right:\n",
        "                return node.left\n",
        "            else:\n",
        "                successor = self._min_value_node(node.right)\n",
        "                node.value = successor.value\n",
        "                node.right = self._remove(node.right, successor.value)\n",
        "        return node\n",
        "\n",
        "    def _min_value_node(self, node):\n",
        "        \"\"\"Retorna o nó com o menor valor na subárvore fornecida.\"\"\"\n",
        "        current = node\n",
        "        while current.left:\n",
        "            current = current.left\n",
        "        return current\n",
        "\n",
        "    def search(self, value):\n",
        "        \"\"\"Retorna True se o valor existir na árvore, False caso contrário.\"\"\"\n",
        "        return self._search(self.root, value)\n",
        "\n",
        "    def _search(self, node, value):\n",
        "        \"\"\"Busca recursivamente o valor a partir do nó fornecido.\"\"\"\n",
        "        if not node:\n",
        "            return False\n",
        "        if value == node.value:\n",
        "            return True\n",
        "        elif value < node.value:\n",
        "            return self._search(node.left, value)\n",
        "        else:\n",
        "            return self._search(node.right, value)\n",
        "\n",
        "    def height(self):\n",
        "        \"\"\"Retorna a altura da árvore.\"\"\"\n",
        "        if not self.root:\n",
        "            return 0\n",
        "        return self._height(self.root)\n",
        "\n",
        "    def _height(self, node):\n",
        "        \"\"\"Calcula recursivamente a altura a partir do nó fornecido.\"\"\"\n",
        "        if not node:\n",
        "            return 0\n",
        "        return max(self._height(node.left), self._height(node.right)) + 1\n",
        "\n",
        "    def inorder(self):\n",
        "        \"\"\"Retorna os valores da árvore em ordem crescente.\"\"\"\n",
        "        result = []\n",
        "        self._inorder(self.root, result)\n",
        "        return result\n",
        "\n",
        "    def _inorder(self, node, result):\n",
        "        \"\"\"Percorre recursivamente a árvore em ordem crescente.\"\"\"\n",
        "        if node:\n",
        "            self._inorder(node.left, result)\n",
        "            result.append(node.value)\n",
        "            self._inorder(node.right, result)\n",
        "\n",
        "    def postorder(self):\n",
        "        \"\"\"Retorna os valores da árvore em pós-ordem.\"\"\"\n",
        "        result = []\n",
        "        self._postorder(self.root, result)\n",
        "        return result\n",
        "\n",
        "    def _postorder(self, node, result):\n",
        "        \"\"\"Percorre recursivamente a árvore em pós-ordem.\"\"\"\n",
        "        if node:\n",
        "            self._postorder(node.left, result)\n",
        "            self._postorder(node.right, result)\n",
        "            result.append(node.value)"
      ],
      "metadata": {
        "id": "9tnMGD7Dbn9a"
      },
      "execution_count": null,
      "outputs": []
    },
    {
      "cell_type": "code",
      "source": [
        "if __name__ == '__main__':\n",
        "\n",
        "    tree = BST()\n",
        "\n",
        "    tree.insert(5)            # Insert root\n",
        "    tree.insert(4)            # Insert left child\n",
        "    tree.insert(15)           # Insert right subtree\n",
        "    tree.insert(12)\n",
        "    tree.insert(16)\n",
        "    tree.insert(21)\n",
        "    tree.insert(11)\n",
        "    tree.insert(10)\n",
        "    tree.insert(9)\n",
        "\n",
        "    print(\"Inorder:\", tree.inorder())       # Print sorted values\n",
        "    print(\"Postorder:\", tree.postorder())   # Print postorder traversal\n",
        "    print(\"Search 10:\", tree.search(10))    # Search existing value (True)\n",
        "    print(\"Search 100:\", tree.search(100))  # Search non-existing value (False)\n",
        "\n",
        "    tree.remove(15)                         # Remove node with two children\n",
        "    print(\"Inorder after removing 15:\", tree.inorder())\n",
        "\n",
        "    print(f'Height: {tree.height()}')       # Print tree height"
      ],
      "metadata": {
        "colab": {
          "base_uri": "https://localhost:8080/"
        },
        "id": "1DNqkCtuqe3f",
        "outputId": "da88b19b-58d8-475b-fc41-ac15ba33bcb0"
      },
      "execution_count": null,
      "outputs": [
        {
          "output_type": "stream",
          "name": "stdout",
          "text": [
            "Inorder: [4, 5, 9, 10, 11, 12, 15, 16, 21]\n",
            "Postorder: [4, 9, 10, 11, 12, 21, 16, 15, 5]\n",
            "Search 10: True\n",
            "Search 100: False\n",
            "Inorder after removing 15: [4, 5, 9, 10, 11, 12, 16, 21]\n",
            "Height: 6\n"
          ]
        }
      ]
    },
    {
      "cell_type": "markdown",
      "source": [
        "## ✅ **Tabela de Complexidade dos Métodos da BST**\n",
        "\n",
        "| Método                                       | Melhor Caso | Pior Caso | Descrição                                             |\n",
        "| -------------------------------------------- | ----------- | --------- | ----------------------------------------------------- |\n",
        "| **Inserção**                                 | 𝑂(log n)   | 𝑂(n)     | Insere um valor seguindo a propriedade da BST.        |\n",
        "| **Busca**                                    | 𝑂(log n)   | 𝑂(n)     | Localiza um valor comparando e descendo pela árvore.  |\n",
        "| **Remoção**                                  | 𝑂(log n)   | 𝑂(n)     | Remove um valor, podendo reorganizar parte da árvore. |\n",
        "| **Percursos** (inorder, preorder, postorder) | 𝑂(n)       | 𝑂(n)     | Visita todos os nós em diferentes ordens.             |\n",
        "| **Altura**                                   | 𝑂(n)       | 𝑂(n)     | Calcula a altura percorrendo toda a árvore.           |\n",
        "\n",
        "---\n",
        "\n",
        "## ✅ **Notas Rápidas**\n",
        "\n",
        "✔ Melhor caso ocorre quando a árvore está balanceada: altura ≈ log₂(n).\n",
        "✔ Pior caso ocorre quando a árvore é degenerada, como uma lista: altura ≈ n.\n",
        "✔ Percursos e altura exigem visitar todos os nós, por isso sempre 𝑂(n).\n"
      ],
      "metadata": {
        "id": "9WBQLPcFiW_u"
      }
    },
    {
      "cell_type": "markdown",
      "source": [
        "# Heaps"
      ],
      "metadata": {
        "id": "OpXUmzEYq34Y"
      }
    },
    {
      "cell_type": "code",
      "source": [
        "class HeapPQ:\n",
        "    \"\"\"Uma fila de prioridade mínima baseada em heap binário.\"\"\"\n",
        "\n",
        "    def __init__(self):\n",
        "        \"\"\"Inicializa uma fila de prioridade vazia.\"\"\"\n",
        "        self._entries = []\n",
        "\n",
        "    def insert(self, item, priority):\n",
        "        \"\"\"Insere um novo item na fila de prioridade com a prioridade dada.\"\"\"\n",
        "        self._entries.append((item, priority))\n",
        "        self._upheap(len(self._entries) - 1)\n",
        "\n",
        "    def _parent(self, i):\n",
        "        \"\"\"Retorna o índice do pai de um nó no heap.\"\"\"\n",
        "        return (i - 1) // 2\n",
        "\n",
        "    def _children(self, i):\n",
        "        \"\"\"Retorna os índices dos filhos de um nó no heap.\"\"\"\n",
        "        return [2 * i + 1, 2 * i + 2]\n",
        "\n",
        "    def _upheap(self, i):\n",
        "        \"\"\"Sobe um elemento na árvore até restaurar a propriedade do heap.\"\"\"\n",
        "        if i == 0:\n",
        "            return\n",
        "        parent = self._parent(i)\n",
        "        if self._entries[parent][1] <= self._entries[i][1]:\n",
        "            return\n",
        "        self._entries[parent], self._entries[i] = self._entries[i], self._entries[parent]\n",
        "        self._upheap(parent)\n",
        "\n",
        "    def findmin(self):\n",
        "        \"\"\"Retorna o item com menor prioridade sem removê-lo da fila.\"\"\"\n",
        "        if not self._entries:\n",
        "            return None\n",
        "        return self._entries[0][0]\n",
        "\n",
        "    def removemin(self):\n",
        "        \"\"\"Remove e retorna o item com menor prioridade da fila.\"\"\"\n",
        "        if not self._entries:\n",
        "            return None\n",
        "        min_item = self._entries[0][0]\n",
        "        last = self._entries.pop()\n",
        "        if self._entries:\n",
        "            self._entries[0] = last\n",
        "            self._downheap(0)\n",
        "        return min_item\n",
        "\n",
        "    def _downheap(self, i):\n",
        "        \"\"\"Desce um elemento na árvore até restaurar a propriedade do heap.\"\"\"\n",
        "        children = self._children(i)\n",
        "        smallest = i\n",
        "\n",
        "        for child in children:\n",
        "            if child < len(self._entries) and self._entries[child][1] < self._entries[smallest][1]:\n",
        "                smallest = child\n",
        "\n",
        "        if smallest != i:\n",
        "            self._entries[i], self._entries[smallest] = self._entries[smallest], self._entries[i]\n",
        "            self._downheap(smallest)\n",
        "\n",
        "    def __len__(self):\n",
        "        \"\"\"Retorna o número de elementos na fila de prioridade.\"\"\"\n",
        "        return len(self._entries)"
      ],
      "metadata": {
        "id": "Jdv_ayAiq6mZ"
      },
      "execution_count": null,
      "outputs": []
    },
    {
      "cell_type": "code",
      "source": [
        "if __name__ == '__main__':\n",
        "    pq = HeapPQ()\n",
        "\n",
        "    # Inserções com diferentes prioridades\n",
        "    pq.insert(\"task A\", 4)\n",
        "    pq.insert(\"task B\", 2)\n",
        "    pq.insert(\"task C\", 5)\n",
        "    pq.insert(\"task D\", 1)\n",
        "    pq.insert(\"task E\", 3)\n",
        "    pq.insert(\"task F\", 4)\n",
        "    pq.insert(\"task G\", 5)\n",
        "    pq.insert(\"task H\", 6)\n",
        "    pq.insert(\"task I\", 7)\n",
        "    pq.insert(\"task J\", 8)\n",
        "    pq.insert(\"task K\", 9)\n",
        "    pq.insert(\"task L\", 10)\n",
        "\n",
        "    print(f\"Tamanho da fila: {len(pq)}\")\n",
        "    print(\"Heap interno:\", pq._entries)\n",
        "\n",
        "    print(f\"Item de maior prioridade: {pq.findmin()}\")  # Deve ser \"task D\"\n",
        "\n",
        "    # Remoções sucessivas\n",
        "    while len(pq) > 0:\n",
        "        print(f\"Removido: {pq.removemin()}\")"
      ],
      "metadata": {
        "colab": {
          "base_uri": "https://localhost:8080/"
        },
        "id": "IK0mBaJE6qrk",
        "outputId": "83dc764e-c49b-4906-bd18-922b1d353aeb"
      },
      "execution_count": null,
      "outputs": [
        {
          "output_type": "stream",
          "name": "stdout",
          "text": [
            "Tamanho da fila: 12\n",
            "Heap interno: [('task D', 1), ('task B', 2), ('task F', 4), ('task A', 4), ('task E', 3), ('task C', 5), ('task G', 5), ('task H', 6), ('task I', 7), ('task J', 8), ('task K', 9), ('task L', 10)]\n",
            "Item de maior prioridade: task D\n",
            "Removido: task D\n",
            "Removido: task B\n",
            "Removido: task E\n",
            "Removido: task A\n",
            "Removido: task F\n",
            "Removido: task C\n",
            "Removido: task G\n",
            "Removido: task H\n",
            "Removido: task I\n",
            "Removido: task J\n",
            "Removido: task K\n",
            "Removido: task L\n"
          ]
        }
      ]
    },
    {
      "cell_type": "markdown",
      "source": [
        "| **Operação**                                        | **Pior Caso (Tempo)** | **Melhor Caso (Tempo)** | **Espaço** | **Descrição**                                                                                                                                                                        |\n",
        "| --------------------------------------------------- | --------------------- | ----------------------- | ---------- | ------------------------------------------------------------------------------------------------------------------------------------------------------------------------------------ |\n",
        "| **Inserção**                                        | $O(\\log n)$           | $O(1)$                  | $O(n)$     | A inserção é realizada em uma posição de folha e, no pior caso, pode ser necessário subir até a raiz (devido ao \"upheap\"). No melhor caso, o nó já está na posição correta.          |\n",
        "| **Remoção (Remover a raiz)**                        | $O(\\log n)$           | $O(\\log n)$             | $O(n)$     | A remoção da raiz envolve mover o último nó para a raiz e depois realizar o \"downheap\" para restaurar a propriedade do heap. Esse processo tem complexidade $O(\\log n)$.             |\n",
        "| **Busca do mínimo (Min Heap) ou máximo (Max Heap)** | $O(1)$                | $O(1)$                  | $O(1)$     | O mínimo (Min Heap) ou máximo (Max Heap) está sempre na raiz, logo, a busca é realizada em tempo constante.                                                                          |\n",
        "| **Construção do Heap**                              | $O(n)$                | $O(n)$                  | $O(n)$     | A construção do heap a partir de uma lista não ordenada pode ser feita em tempo linear $O(n)$, utilizando o método \"bottom-up\".                                                      |\n",
        "| **Deletação de um item arbitrário**                 | $O(\\log n)$           | $O(\\log n)$             | $O(n)$     | A deletaçãode um item arbitrário exige localizar o item, movê-lo para a raiz e realizar um \"downheap\". A complexidade no pior caso é $O(\\log n)$, já que um \"downheap\" é necessário. |\n",
        "| **Espaço de Armazenamento**                         | $O(n)$                | $O(n)$                  | $O(n)$     | O espaço de armazenamento é linear, pois o heap precisa armazenar $n$ elementos em uma lista ou array.                                                                               |\n"
      ],
      "metadata": {
        "id": "Q4oQlDJ1hmcc"
      }
    },
    {
      "cell_type": "code",
      "source": [
        "import heapq\n",
        "\n",
        "# Função auxiliar para imprimir o heap de forma \"normal\" (valores positivos)\n",
        "def print_heap(heap):\n",
        "    print([ x for x in heap ])\n",
        "\n",
        "# Lista de elementos a serem inseridos\n",
        "elementos = [20, 10, 45, 5, 6]\n",
        "\n",
        "# Inicializa o heap vazio\n",
        "Min_heap = []\n",
        "\n",
        "print(\"Inserindo elementos no Min-Heap:\")\n",
        "\n",
        "# Inserção passo a passo\n",
        "for elem in elementos:\n",
        "    heapq.heappush(Min_heap, elem)  # Inverte o sinal para simular Min-Heap\n",
        "    print(f\"\\nApós inserir {elem}:\")\n",
        "    print_heap(Min_heap)"
      ],
      "metadata": {
        "colab": {
          "base_uri": "https://localhost:8080/"
        },
        "id": "2wZIlEUS8xUC",
        "outputId": "6ca3774d-da6b-4dd4-c5c4-85b5a6e57cea"
      },
      "execution_count": null,
      "outputs": [
        {
          "output_type": "stream",
          "name": "stdout",
          "text": [
            "Inserindo elementos no Min-Heap:\n",
            "\n",
            "Após inserir 20:\n",
            "[20]\n",
            "\n",
            "Após inserir 10:\n",
            "[10, 20]\n",
            "\n",
            "Após inserir 45:\n",
            "[10, 20, 45]\n",
            "\n",
            "Após inserir 5:\n",
            "[5, 10, 45, 20]\n",
            "\n",
            "Após inserir 6:\n",
            "[5, 6, 45, 20, 10]\n"
          ]
        }
      ]
    },
    {
      "cell_type": "markdown",
      "source": [
        "# Graphs"
      ],
      "metadata": {
        "id": "kvd_HjHP6lSf"
      }
    },
    {
      "cell_type": "code",
      "source": [
        "class Graph:\n",
        "    def __init__(self):\n",
        "        \"\"\"Inicializa um grafo vazio usando lista de adjacência.\"\"\"\n",
        "        self.adj = {}  # Dicionário: nó -> lista de tuplas (vizinho, peso)\n",
        "\n",
        "    def add_edge(self, u, v, weight=1):\n",
        "        \"\"\"\n",
        "        Adiciona uma aresta do nó u para o nó v com peso opcional.\n",
        "\n",
        "        Args:\n",
        "            u: Nó de origem.\n",
        "            v: Nó de destino.\n",
        "            weight: Peso da aresta (padrão é 1).\n",
        "        \"\"\"\n",
        "        if u not in self.adj:\n",
        "            self.adj[u] = []\n",
        "        self.adj[u].append((v, weight))\n",
        "\n",
        "        # Para grafo não direcionado:\n",
        "        # if v not in self.adj:\n",
        "        #     self.adj[v] = []\n",
        "        # self.adj[v].append((u, weight))\n",
        "\n",
        "    def bfs(self, start):\n",
        "        \"\"\"\n",
        "        Executa busca em largura (BFS) a partir do nó start.\n",
        "\n",
        "        Args:\n",
        "            start: Nó inicial da busca.\n",
        "        \"\"\"\n",
        "        visited = set()\n",
        "        queue = [start]  # Lista usada como fila\n",
        "\n",
        "        while queue:\n",
        "            node = queue.pop(0)  # Remove o primeiro elemento (FIFO)\n",
        "            if node not in visited:\n",
        "                print(node)\n",
        "                visited.add(node)\n",
        "                for neighbor, _ in self.adj.get(node, []):\n",
        "                    if neighbor not in visited:\n",
        "                        queue.append(neighbor)\n",
        "\n",
        "    def dfs(self, start):\n",
        "        \"\"\"\n",
        "        Executa busca em profundidade (DFS) recursiva a partir do nó start.\n",
        "\n",
        "        Args:\n",
        "            start: Nó inicial da busca.\n",
        "        \"\"\"\n",
        "        visited = set()\n",
        "        self._dfs_recursive(start, visited)\n",
        "\n",
        "    def _dfs_recursive(self, node, visited):\n",
        "        \"\"\"\n",
        "        Função auxiliar recursiva para DFS.\n",
        "\n",
        "        Args:\n",
        "            node: Nó atual.\n",
        "            visited: Conjunto de nós visitados.\n",
        "        \"\"\"\n",
        "        if node not in visited:\n",
        "            print(node)\n",
        "            visited.add(node)\n",
        "            for neighbor, _ in self.adj.get(node, []):\n",
        "                self._dfs_recursive(neighbor, visited)\n",
        "\n",
        "    def ucs(self, start, goal):\n",
        "        \"\"\"\n",
        "        Executa busca de custo uniforme (UCS) do nó start até o nó goal.\n",
        "\n",
        "        Args:\n",
        "            start: Nó inicial.\n",
        "            goal: Nó objetivo.\n",
        "\n",
        "        Retorna:\n",
        "            Custo do caminho ou None se não encontrado.\n",
        "        \"\"\"\n",
        "        queue = [(0, start)]  # Lista de tuplas (custo acumulado, nó)\n",
        "        visited = set()\n",
        "\n",
        "        while queue:\n",
        "            # Simula uma fila de prioridade buscando o menor custo\n",
        "            queue.sort(reverse=True)\n",
        "            cost, node = queue.pop()\n",
        "\n",
        "            if node == goal:\n",
        "                print(f\"Caminho encontrado com custo {cost}\")\n",
        "                return cost\n",
        "\n",
        "            if node not in visited:\n",
        "                visited.add(node)\n",
        "                for neighbor, weight in self.adj.get(node, []):\n",
        "                    if neighbor not in visited:\n",
        "                        queue.append((cost + weight, neighbor))\n",
        "\n",
        "        print(\"Caminho não encontrado\")\n",
        "        return None\n",
        "\n",
        "    def astar(self, start, goal, heuristic):\n",
        "        \"\"\"\n",
        "        Executa busca A* do nó start até o nó goal.\n",
        "\n",
        "        Args:\n",
        "            start: Nó inicial.\n",
        "            goal: Nó objetivo.\n",
        "            heuristic: Função heurística h(n) estimando o custo até o goal.\n",
        "\n",
        "        Retorna:\n",
        "            Custo do caminho ou None se não encontrado.\n",
        "        \"\"\"\n",
        "        queue = [(heuristic(start), 0, start)]  # (f(n), g(n), nó)\n",
        "        visited = set()\n",
        "\n",
        "        while queue:\n",
        "            # Simula uma fila de prioridade pelo menor f(n)\n",
        "            queue.sort(reverse=True)\n",
        "            f, cost, node = queue.pop()\n",
        "\n",
        "            if node == goal:\n",
        "                print(f\"Caminho encontrado com custo {cost}\")\n",
        "                return cost\n",
        "\n",
        "            if node not in visited:\n",
        "                visited.add(node)\n",
        "                for neighbor, weight in self.adj.get(node, []):\n",
        "                    if neighbor not in visited:\n",
        "                        g = cost + weight\n",
        "                        h = heuristic(neighbor)\n",
        "                        queue.append((g + h, g, neighbor))\n",
        "\n",
        "        print(\"Caminho não encontrado\")\n",
        "        return None"
      ],
      "metadata": {
        "id": "5c7Wm0Ft8VCM"
      },
      "execution_count": null,
      "outputs": []
    },
    {
      "cell_type": "code",
      "source": [
        "if __name__ == '__main__':\n",
        "    # Cria o grafo\n",
        "    g = Graph()\n",
        "\n",
        "    # Adiciona arestas (grafo direcionado com pesos)\n",
        "    g.add_edge('A', 'B', 1)\n",
        "    g.add_edge('A', 'C', 4)\n",
        "    g.add_edge('B', 'C', 2)\n",
        "    g.add_edge('B', 'D', 5)\n",
        "    g.add_edge('C', 'D', 1)\n",
        "    g.add_edge('D', 'E', 3)\n",
        "\n",
        "    print(\"BFS a partir do nó A:\")\n",
        "    g.bfs('A')\n",
        "    print(\"\\nDFS recursivo a partir do nó A:\")\n",
        "    g.dfs('A')\n",
        "\n",
        "    print(\"\\nUCS de A até E:\")\n",
        "    g.ucs('A', 'E')\n",
        "\n",
        "    # Heurística simples para A* (exemplo fictício, distâncias estimadas até E)\n",
        "    heuristic_map = {\n",
        "        'A': 7,\n",
        "        'B': 6,\n",
        "        'C': 2,\n",
        "        'D': 1,\n",
        "        'E': 0\n",
        "    }\n",
        "\n",
        "    def heuristic(n):\n",
        "        return heuristic_map.get(n, float('inf'))\n",
        "\n",
        "    print(\"\\nA* de A até E:\")\n",
        "    g.astar('A', 'E', heuristic)"
      ],
      "metadata": {
        "colab": {
          "base_uri": "https://localhost:8080/"
        },
        "id": "F2GRhIPX-BtM",
        "outputId": "8064b68a-7831-4c69-b3fa-10a9e5f28177"
      },
      "execution_count": null,
      "outputs": [
        {
          "output_type": "stream",
          "name": "stdout",
          "text": [
            "BFS a partir do nó A:\n",
            "A\n",
            "B\n",
            "C\n",
            "D\n",
            "E\n",
            "\n",
            "DFS recursivo a partir do nó A:\n",
            "A\n",
            "B\n",
            "C\n",
            "D\n",
            "E\n",
            "\n",
            "UCS de A até E:\n",
            "Caminho encontrado com custo 7\n",
            "\n",
            "A* de A até E:\n",
            "Caminho encontrado com custo 8\n"
          ]
        }
      ]
    },
    {
      "cell_type": "markdown",
      "source": [
        "# Maze"
      ],
      "metadata": {
        "id": "5vmaOXzG_mGW"
      }
    },
    {
      "cell_type": "code",
      "source": [
        "def neighbors(pos, maze):\n",
        "    \"\"\"Retorna lista de vizinhos válidos (sem paredes, dentro do labirinto).\"\"\"\n",
        "    m, n = len(maze), len(maze[0])\n",
        "    x, y = pos\n",
        "    candidates = [(x-1,y), (x+1,y), (x,y-1), (x,y+1)]\n",
        "    result = []\n",
        "    for cx, cy in candidates:\n",
        "        if 0 <= cx < m and 0 <= cy < n and maze[cx][cy] != 1:\n",
        "            result.append((cx, cy))\n",
        "    return result\n",
        "\n",
        "def find_start_goal(maze):\n",
        "    \"\"\"Encontra posições inicial (s) e objetivo (g) na matriz.\"\"\"\n",
        "    start = goal = None\n",
        "    for i, row in enumerate(maze):\n",
        "        for j, val in enumerate(row):\n",
        "            if val == 's':\n",
        "                start = (i,j)\n",
        "            elif val == 'g':\n",
        "                goal = (i,j)\n",
        "    return start, goal\n",
        "\n",
        "def reconstruct_path(came_from, start, goal):\n",
        "    \"\"\"Reconstrói o caminho da busca, do goal até o start.\"\"\"\n",
        "    path = []\n",
        "    current = goal\n",
        "    while current != start:\n",
        "        path.append(current)\n",
        "        current = came_from[current]\n",
        "    path.append(start)\n",
        "    path.reverse()\n",
        "    return path\n",
        "\n",
        "def dfs(maze):\n",
        "    start, goal = find_start_goal(maze)\n",
        "    stack = [start]\n",
        "    visited = set()\n",
        "    came_from = {}\n",
        "\n",
        "    while stack:\n",
        "        current = stack.pop()\n",
        "        if current == goal:\n",
        "            return reconstruct_path(came_from, start, goal)\n",
        "        if current in visited:\n",
        "            continue\n",
        "        visited.add(current)\n",
        "        for nbr in neighbors(current, maze):\n",
        "            if nbr not in visited:\n",
        "                stack.append(nbr)\n",
        "                if nbr not in came_from:\n",
        "                    came_from[nbr] = current\n",
        "    return None\n",
        "\n",
        "def bfs(maze):\n",
        "    start, goal = find_start_goal(maze)\n",
        "    queue = [start]\n",
        "    visited = set()\n",
        "    came_from = {}\n",
        "\n",
        "    while queue:\n",
        "        current = queue.pop(0)\n",
        "        if current == goal:\n",
        "            return reconstruct_path(came_from, start, goal)\n",
        "        if current in visited:\n",
        "            continue\n",
        "        visited.add(current)\n",
        "        for nbr in neighbors(current, maze):\n",
        "            if nbr not in visited:\n",
        "                queue.append(nbr)\n",
        "                if nbr not in came_from:\n",
        "                    came_from[nbr] = current\n",
        "    return None\n",
        "\n",
        "def heuristic(a, b):\n",
        "    \"\"\"Heurística Manhattan para A*.\"\"\"\n",
        "    return abs(a[0] - b[0]) + abs(a[1] - b[1])\n",
        "\n",
        "def astar(maze):\n",
        "    start, goal = find_start_goal(maze)\n",
        "    open_set = [(heuristic(start, goal), 0, start)]\n",
        "    came_from = {}\n",
        "    g_score = {start: 0}\n",
        "    closed_set = set()\n",
        "\n",
        "    while open_set:\n",
        "        open_set.sort(reverse=True)\n",
        "        _, current_g, current = open_set.pop()\n",
        "        if current == goal:\n",
        "            return reconstruct_path(came_from, start, goal)\n",
        "\n",
        "        closed_set.add(current)\n",
        "\n",
        "        for nbr in neighbors(current, maze):\n",
        "            if nbr in closed_set or maze[nbr[0]][nbr[1]] == 1:\n",
        "                continue\n",
        "            tentative_g = current_g + 1\n",
        "            if tentative_g < g_score.get(nbr, float('inf')):\n",
        "                came_from[nbr] = current\n",
        "                g_score[nbr] = tentative_g\n",
        "                f_score = tentative_g + heuristic(nbr, goal)\n",
        "                open_set.append((f_score, tentative_g, nbr))\n",
        "    return None"
      ],
      "metadata": {
        "id": "klLQPeBl_oJ9"
      },
      "execution_count": null,
      "outputs": []
    },
    {
      "cell_type": "code",
      "source": [
        "if __name__ == \"__main__\":\n",
        "    maze = [\n",
        "        [1, 1, 1, 1, 1, 1, 1],\n",
        "        [1, 's', 0, 0, 0, 'g', 1],\n",
        "        [1, 1, 1, 0, 1, 1, 1],\n",
        "        [1, 0, 0, 0, 1, 0, 1],\n",
        "        [1, 1, 1, 1, 1, 1, 1]\n",
        "    ]\n",
        "\n",
        "    print(\"DFS path:\")\n",
        "    path = dfs(maze)\n",
        "    print(path)\n",
        "\n",
        "    print(\"\\nBFS path:\")\n",
        "    path = bfs(maze)\n",
        "    print(path)\n",
        "\n",
        "    print(\"\\nA* path:\")\n",
        "    path = astar(maze)\n",
        "    print(path)"
      ],
      "metadata": {
        "colab": {
          "base_uri": "https://localhost:8080/"
        },
        "id": "FZqxih3h_7GD",
        "outputId": "2020f481-4a1c-4b64-d95e-02860d5adb4f"
      },
      "execution_count": null,
      "outputs": [
        {
          "output_type": "stream",
          "name": "stdout",
          "text": [
            "DFS path:\n",
            "[(1, 1), (1, 2), (1, 3), (1, 4), (1, 5)]\n",
            "\n",
            "BFS path:\n",
            "[(1, 1), (1, 2), (1, 3), (1, 4), (1, 5)]\n",
            "\n",
            "A* path:\n",
            "[(1, 1), (1, 2), (1, 3), (1, 4), (1, 5)]\n"
          ]
        }
      ]
    },
    {
      "cell_type": "markdown",
      "source": [
        "# Backtracking"
      ],
      "metadata": {
        "id": "8XPdz__t_xPc"
      }
    },
    {
      "cell_type": "markdown",
      "source": [
        "## N-Queens"
      ],
      "metadata": {
        "id": "vYGnG4OFAu_7"
      }
    },
    {
      "cell_type": "code",
      "source": [
        "def is_safe(board, row, col):\n",
        "    \"\"\"Verifica se é seguro colocar rainha em (row, col).\"\"\"\n",
        "    n = len(board)\n",
        "    # Verifica coluna acima\n",
        "    for i in range(row):\n",
        "        if board[i] == col:\n",
        "            return False\n",
        "    # Verifica diagonais\n",
        "    for i, c in enumerate(board[:row]):\n",
        "        if abs(row - i) == abs(col - c):\n",
        "            return False\n",
        "    return True\n",
        "\n",
        "def solve_nqueens(n, row=0, board=None, solutions=None):\n",
        "    \"\"\"Resolve o problema das N rainhas e retorna todas soluções.\"\"\"\n",
        "    if board is None:\n",
        "        board = [-1] * n   # board[i] = coluna da rainha na linha i\n",
        "    if solutions is None:\n",
        "        solutions = []\n",
        "\n",
        "    if row == n:\n",
        "        # Todas rainhas colocadas com sucesso\n",
        "        solutions.append(board[:])\n",
        "        return solutions\n",
        "\n",
        "    for col in range(n):\n",
        "        if is_safe(board, row, col):\n",
        "            board[row] = col\n",
        "            solve_nqueens(n, row+1, board, solutions)\n",
        "            # Backtrack: não precisa desfazer explicitamente porque sobrescreve no próximo loop\n",
        "\n",
        "    return solutions\n",
        "\n",
        "# Exemplo:\n",
        "sols = solve_nqueens(4)\n",
        "for sol in sols:\n",
        "  print(sol)"
      ],
      "metadata": {
        "colab": {
          "base_uri": "https://localhost:8080/"
        },
        "id": "3wJfkZUDAHoK",
        "outputId": "2ff7aee4-2c1f-492d-a366-37577dad6cd4"
      },
      "execution_count": null,
      "outputs": [
        {
          "output_type": "stream",
          "name": "stdout",
          "text": [
            "[1, 3, 0, 2]\n",
            "[2, 0, 3, 1]\n"
          ]
        }
      ]
    },
    {
      "cell_type": "markdown",
      "source": [
        "## Permutação"
      ],
      "metadata": {
        "id": "Ieq51aKiBH16"
      }
    },
    {
      "cell_type": "code",
      "source": [
        "def permute(nums, path=None, used=None, results=None):\n",
        "    \"\"\"Gera todas permutações de nums.\"\"\"\n",
        "    if path is None:\n",
        "        path = []\n",
        "    if used is None:\n",
        "        used = [False] * len(nums)\n",
        "    if results is None:\n",
        "        results = []\n",
        "\n",
        "    if len(path) == len(nums):\n",
        "        results.append(path[:])\n",
        "        return results\n",
        "\n",
        "    for i in range(len(nums)):\n",
        "        if not used[i]:\n",
        "            used[i] = True\n",
        "            path.append(nums[i])\n",
        "            permute(nums, path, used, results)\n",
        "            path.pop()          # backtrack\n",
        "            used[i] = False\n",
        "\n",
        "    return results\n",
        "\n",
        "# Exemplo:\n",
        "print(permute([1,2,3]))\n"
      ],
      "metadata": {
        "colab": {
          "base_uri": "https://localhost:8080/"
        },
        "id": "Og1oZcipA3o9",
        "outputId": "63381108-71bc-4b47-c72f-d60117ba43d6"
      },
      "execution_count": null,
      "outputs": [
        {
          "output_type": "stream",
          "name": "stdout",
          "text": [
            "[[1, 2, 3], [1, 3, 2], [2, 1, 3], [2, 3, 1], [3, 1, 2], [3, 2, 1]]\n"
          ]
        }
      ]
    },
    {
      "cell_type": "markdown",
      "source": [
        "## Coloração de grafos"
      ],
      "metadata": {
        "id": "BlVeeRtwBLVB"
      }
    },
    {
      "cell_type": "code",
      "source": [
        "def is_valid_color(graph, colors, node, c):\n",
        "    \"\"\"Checa se é seguro colorir node com cor c.\"\"\"\n",
        "    for neighbor in graph.get(node, []):\n",
        "        if colors.get(neighbor) == c:\n",
        "            return False\n",
        "    return True\n",
        "\n",
        "def graph_coloring(graph, k, node_list=None, colors=None, idx=0):\n",
        "    \"\"\"\n",
        "    Tenta colorir grafo com k cores usando backtracking.\n",
        "    graph: dict {node: [neighbors]}\n",
        "    k: número de cores\n",
        "    \"\"\"\n",
        "    if node_list is None:\n",
        "        node_list = list(graph.keys())\n",
        "    if colors is None:\n",
        "        colors = {}\n",
        "\n",
        "    if idx == len(node_list):\n",
        "        return colors  # solução encontrada\n",
        "\n",
        "    node = node_list[idx]\n",
        "    for c in range(1, k+1):\n",
        "        if is_valid_color(graph, colors, node, c):\n",
        "            colors[node] = c\n",
        "            result = graph_coloring(graph, k, node_list, colors, idx+1)\n",
        "            if result:\n",
        "                return result\n",
        "            # backtrack\n",
        "            colors.pop(node)\n",
        "    return None\n",
        "\n",
        "# Exemplo:\n",
        "graph = {1:[2,3], 2:[1,3], 3:[1,2]}\n",
        "print(graph_coloring(graph, 3))"
      ],
      "metadata": {
        "colab": {
          "base_uri": "https://localhost:8080/"
        },
        "id": "TKFeQ2mgA_77",
        "outputId": "6c2acefc-d53c-4abd-d82a-6f805fba6b46"
      },
      "execution_count": null,
      "outputs": [
        {
          "output_type": "stream",
          "name": "stdout",
          "text": [
            "{1: 1, 2: 2, 3: 3}\n"
          ]
        }
      ]
    },
    {
      "cell_type": "markdown",
      "source": [
        "## Subset sum"
      ],
      "metadata": {
        "id": "nJAUtA7_BQbo"
      }
    },
    {
      "cell_type": "code",
      "source": [
        "def subset_sum(nums, target, index=0, current_sum=0, path=None):\n",
        "    \"\"\"Retorna True se algum subconjunto de nums soma target.\"\"\"\n",
        "    if path is None:\n",
        "        path = []\n",
        "\n",
        "    if current_sum == target:\n",
        "        print(\"Subconjunto encontrado:\", path)\n",
        "        return True\n",
        "    if current_sum > target or index == len(nums):\n",
        "        return False\n",
        "\n",
        "    # Inclui nums[index]\n",
        "    if subset_sum(nums, target, index+1, current_sum + nums[index], path + [nums[index]]):\n",
        "        return True\n",
        "    # Não inclui nums[index]\n",
        "    if subset_sum(nums, target, index+1, current_sum, path):\n",
        "        return True\n",
        "\n",
        "    return False\n",
        "\n",
        "# Exemplo:\n",
        "subset_sum([3,34,4,12,5,2], 9)\n"
      ],
      "metadata": {
        "colab": {
          "base_uri": "https://localhost:8080/"
        },
        "id": "p9tkTBR6BX0t",
        "outputId": "ef7cae34-5d62-4acc-8725-0330178df4cc"
      },
      "execution_count": null,
      "outputs": [
        {
          "output_type": "stream",
          "name": "stdout",
          "text": [
            "Subconjunto encontrado: [3, 4, 2]\n"
          ]
        },
        {
          "output_type": "execute_result",
          "data": {
            "text/plain": [
              "True"
            ]
          },
          "metadata": {},
          "execution_count": 33
        }
      ]
    },
    {
      "cell_type": "markdown",
      "source": [
        "## Sudoku solver"
      ],
      "metadata": {
        "id": "LrEKDns_YwkW"
      }
    },
    {
      "cell_type": "code",
      "source": [
        "def print_board(board):\n",
        "    \"\"\"Imprime o tabuleiro de Sudoku de forma legível.\"\"\"\n",
        "    for i in range(9):\n",
        "        if i % 3 == 0 and i != 0:\n",
        "            print(\"-\" * 21)\n",
        "        for j in range(9):\n",
        "            if j % 3 == 0 and j != 0:\n",
        "                print(\"|\", end=\" \")\n",
        "            print(board[i][j] if board[i][j] != 0 else \".\", end=\" \")\n",
        "        print()\n",
        "    print()\n",
        "\n",
        "\n",
        "def find_empty(board):\n",
        "    \"\"\"Retorna a próxima posição vazia no tabuleiro (com 0).\"\"\"\n",
        "    for i in range(9):\n",
        "        for j in range(9):\n",
        "            if board[i][j] == 0:\n",
        "                return (i, j)  # linha, coluna\n",
        "    return None\n",
        "\n",
        "\n",
        "def is_valid(board, num, pos):\n",
        "    \"\"\"\n",
        "    Verifica se é válido colocar `num` em `pos` (linha, coluna).\n",
        "    \"\"\"\n",
        "    row, col = pos\n",
        "\n",
        "    # Verifica linha\n",
        "    if num in board[row]:\n",
        "        return False\n",
        "\n",
        "    # Verifica coluna\n",
        "    if num in [board[i][col] for i in range(9)]:\n",
        "        return False\n",
        "\n",
        "    # Verifica quadrante 3x3\n",
        "    box_x = col // 3\n",
        "    box_y = row // 3\n",
        "\n",
        "    for i in range(box_y * 3, box_y * 3 + 3):\n",
        "        for j in range(box_x * 3, box_x * 3 + 3):\n",
        "            if board[i][j] == num:\n",
        "                return False\n",
        "\n",
        "    return True\n",
        "\n",
        "\n",
        "def solve(board):\n",
        "    \"\"\"\n",
        "    Resolve o tabuleiro de Sudoku usando backtracking.\n",
        "    \"\"\"\n",
        "    empty = find_empty(board)\n",
        "    if not empty:\n",
        "        return True  # Solucionado!\n",
        "    row, col = empty\n",
        "\n",
        "    for num in range(1, 10):\n",
        "        if is_valid(board, num, (row, col)):\n",
        "            board[row][col] = num\n",
        "\n",
        "            if solve(board):\n",
        "                return True\n",
        "\n",
        "            board[row][col] = 0  # backtrack\n",
        "\n",
        "    return False"
      ],
      "metadata": {
        "id": "-DVs5bKKYytW"
      },
      "execution_count": null,
      "outputs": []
    },
    {
      "cell_type": "code",
      "source": [
        "sudoku_board = [\n",
        "    [5, 3, 0, 0, 7, 0, 0, 0, 0],\n",
        "    [6, 0, 0, 1, 9, 5, 0, 0, 0],\n",
        "    [0, 9, 8, 0, 0, 0, 0, 6, 0],\n",
        "\n",
        "    [8, 0, 0, 0, 6, 0, 0, 0, 3],\n",
        "    [4, 0, 0, 8, 0, 3, 0, 0, 1],\n",
        "    [7, 0, 0, 0, 2, 0, 0, 0, 6],\n",
        "\n",
        "    [0, 6, 0, 0, 0, 0, 2, 8, 0],\n",
        "    [0, 0, 0, 4, 1, 9, 0, 0, 5],\n",
        "    [0, 0, 0, 0, 8, 0, 0, 7, 9]\n",
        "]\n",
        "\n",
        "print(\"Sudoku original:\")\n",
        "print_board(sudoku_board)\n",
        "\n",
        "if solve(sudoku_board):\n",
        "    print(\"Sudoku resolvido:\")\n",
        "    print_board(sudoku_board)\n",
        "else:\n",
        "    print(\"Não foi possível resolver o Sudoku.\")"
      ],
      "metadata": {
        "colab": {
          "base_uri": "https://localhost:8080/"
        },
        "id": "yTPf1ivjZEvq",
        "outputId": "de322a51-660a-4b42-b1f6-9a2c536f5ac7"
      },
      "execution_count": null,
      "outputs": [
        {
          "output_type": "stream",
          "name": "stdout",
          "text": [
            "Sudoku original:\n",
            "5 3 . | . 7 . | . . . \n",
            "6 . . | 1 9 5 | . . . \n",
            ". 9 8 | . . . | . 6 . \n",
            "---------------------\n",
            "8 . . | . 6 . | . . 3 \n",
            "4 . . | 8 . 3 | . . 1 \n",
            "7 . . | . 2 . | . . 6 \n",
            "---------------------\n",
            ". 6 . | . . . | 2 8 . \n",
            ". . . | 4 1 9 | . . 5 \n",
            ". . . | . 8 . | . 7 9 \n",
            "\n",
            "Sudoku resolvido:\n",
            "5 3 4 | 6 7 8 | 9 1 2 \n",
            "6 7 2 | 1 9 5 | 3 4 8 \n",
            "1 9 8 | 3 4 2 | 5 6 7 \n",
            "---------------------\n",
            "8 5 9 | 7 6 1 | 4 2 3 \n",
            "4 2 6 | 8 5 3 | 7 9 1 \n",
            "7 1 3 | 9 2 4 | 8 5 6 \n",
            "---------------------\n",
            "9 6 1 | 5 3 7 | 2 8 4 \n",
            "2 8 7 | 4 1 9 | 6 3 5 \n",
            "3 4 5 | 2 8 6 | 1 7 9 \n",
            "\n"
          ]
        }
      ]
    },
    {
      "cell_type": "markdown",
      "source": [
        "## Travel salesman problem (TSP)"
      ],
      "metadata": {
        "id": "fGtk6EU5aSiF"
      }
    },
    {
      "cell_type": "code",
      "source": [
        "def tsp_backtracking(G):\n",
        "    \"\"\"\n",
        "    Resolve o problema do Caixeiro Viajante usando backtracking.\n",
        "\n",
        "    Args:\n",
        "        G: matriz de adjacência (G[i][j] é o custo de ir de i para j)\n",
        "\n",
        "    Returns:\n",
        "        (menor_custo, melhor_caminho)\n",
        "    \"\"\"\n",
        "    n = len(G)  # Número de cidades\n",
        "    best_cost = math.inf  # Inicializa com custo infinito\n",
        "    best_path = []        # Caminho ótimo a ser encontrado\n",
        "\n",
        "    def backtrack(path, visited, current_cost):\n",
        "        nonlocal best_cost, best_path  # Permite modificar variáveis externas\n",
        "\n",
        "        if len(path) == n:\n",
        "            # Se todas as cidades foram visitadas, fecha o ciclo retornando à cidade inicial\n",
        "            total_cost = current_cost + G[path[-1]][path[0]]\n",
        "            if total_cost < best_cost:\n",
        "                best_cost = total_cost         # Atualiza menor custo encontrado\n",
        "                best_path = path[:]            # Salva cópia do melhor caminho\n",
        "            return\n",
        "\n",
        "        # Tenta visitar todas as cidades ainda não visitadas\n",
        "        for city in range(n):\n",
        "            if not visited[city]:\n",
        "                visited[city] = True           # Marca a cidade como visitada\n",
        "                path.append(city)              # Adiciona cidade ao caminho\n",
        "\n",
        "                # Custo parcial até aqui\n",
        "                next_cost = current_cost + G[path[-2]][city]\n",
        "\n",
        "                # Poda: só continua se o custo parcial for melhor que o melhor custo atual\n",
        "                if next_cost < best_cost:\n",
        "                    backtrack(path, visited, next_cost)\n",
        "\n",
        "                # Desfaz a escolha (backtracking)\n",
        "                path.pop()\n",
        "                visited[city] = False\n",
        "\n",
        "    # Inicializa com a cidade 0 (ponto de partida)\n",
        "    visited = [False] * n      # Marca quais cidades já foram visitadas\n",
        "    visited[0] = True          # Começa da cidade 0\n",
        "    backtrack([0], visited, 0) # Chama a função recursiva\n",
        "\n",
        "    return best_cost, best_path  # Retorna menor custo e caminho correspondente"
      ],
      "metadata": {
        "id": "OgGQKVCsaclt"
      },
      "execution_count": null,
      "outputs": []
    },
    {
      "cell_type": "code",
      "source": [
        "if __name__ == \"__main__\":\n",
        "    # Exemplo de grafo com 4 cidades e custos entre elas\n",
        "    G = [\n",
        "        [0, 10, 15, 20],\n",
        "        [10, 0, 35, 25],\n",
        "        [15, 35, 0, 30],\n",
        "        [20, 25, 30, 0]\n",
        "    ]\n",
        "\n",
        "    # Executa a função e imprime o resultado\n",
        "    cost, path = tsp_backtracking(G)\n",
        "    print(f\"Melhor caminho: {path} com custo {cost}\")"
      ],
      "metadata": {
        "colab": {
          "base_uri": "https://localhost:8080/"
        },
        "id": "dePAU7YDaiwX",
        "outputId": "3cf846f0-51c3-4310-c01a-2b3bcbf7f63d"
      },
      "execution_count": null,
      "outputs": [
        {
          "output_type": "stream",
          "name": "stdout",
          "text": [
            "Melhor caminho: [0, 1, 3, 2] com custo 80\n"
          ]
        }
      ]
    },
    {
      "cell_type": "markdown",
      "source": [
        "## Knapsack problem"
      ],
      "metadata": {
        "id": "j8kSCgVJa1IY"
      }
    },
    {
      "cell_type": "code",
      "source": [
        "def knapsack_backtracking(weights, values, capacity):\n",
        "    n = len(weights)\n",
        "    max_value = 0\n",
        "\n",
        "    def backtrack(i, current_weight, current_value):\n",
        "        nonlocal max_value\n",
        "\n",
        "        # Se ultrapassou a capacidade, retorna\n",
        "        if current_weight > capacity:\n",
        "            return\n",
        "\n",
        "        # Atualiza a melhor solução\n",
        "        if current_value > max_value:\n",
        "            max_value = current_value\n",
        "\n",
        "        # Se já processou todos os itens, para\n",
        "        if i == n:\n",
        "            return\n",
        "\n",
        "        # Tenta incluir o item i\n",
        "        backtrack(i + 1,\n",
        "                  current_weight + weights[i],\n",
        "                  current_value + values[i])\n",
        "\n",
        "        # Tenta não incluir o item i\n",
        "        backtrack(i + 1,\n",
        "                  current_weight,\n",
        "                  current_value)\n",
        "\n",
        "    # Chamada inicial\n",
        "    backtrack(0, 0, 0)\n",
        "    return max_value"
      ],
      "metadata": {
        "id": "UhflcenZa0Xp"
      },
      "execution_count": null,
      "outputs": []
    },
    {
      "cell_type": "code",
      "source": [
        "weights = [2, 3, 4, 5]\n",
        "values = [3, 4, 5, 8]\n",
        "capacity = 5\n",
        "\n",
        "print(knapsack_backtracking(weights, values, capacity))"
      ],
      "metadata": {
        "colab": {
          "base_uri": "https://localhost:8080/"
        },
        "id": "qaIeqKZbbWHT",
        "outputId": "9d3ddf89-debc-424a-c9ea-283eb76a00f4"
      },
      "execution_count": null,
      "outputs": [
        {
          "output_type": "stream",
          "name": "stdout",
          "text": [
            "8\n"
          ]
        }
      ]
    }
  ]
}