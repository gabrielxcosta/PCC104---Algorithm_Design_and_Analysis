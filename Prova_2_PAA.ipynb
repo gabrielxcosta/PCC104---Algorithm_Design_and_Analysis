{
  "nbformat": 4,
  "nbformat_minor": 0,
  "metadata": {
    "colab": {
      "provenance": []
    },
    "kernelspec": {
      "name": "python3",
      "display_name": "Python 3"
    },
    "language_info": {
      "name": "python"
    }
  },
  "cells": [
    {
      "cell_type": "code",
      "source": [
        "from graphviz import Digraph\n",
        "from IPython.display import Image"
      ],
      "metadata": {
        "id": "7YYa5QDwS_L_"
      },
      "execution_count": null,
      "outputs": []
    },
    {
      "cell_type": "markdown",
      "source": [
        "# Lista 3"
      ],
      "metadata": {
        "id": "yX425a9xZDzI"
      }
    },
    {
      "cell_type": "markdown",
      "source": [
        "## Capítulo 6"
      ],
      "metadata": {
        "id": "u85iAr1brT6G"
      }
    },
    {
      "cell_type": "markdown",
      "source": [
        "### Questão 1"
      ],
      "metadata": {
        "id": "7omhgl-LZIxl"
      }
    },
    {
      "cell_type": "code",
      "execution_count": null,
      "metadata": {
        "colab": {
          "base_uri": "https://localhost:8080/"
        },
        "id": "fw26V5jLYcY_",
        "outputId": "7a332d21-6dc4-4cdb-807f-ddbea75415a3"
      },
      "outputs": [
        {
          "output_type": "stream",
          "name": "stdout",
          "text": [
            "[]\n",
            "None\n",
            "True\n"
          ]
        }
      ],
      "source": [
        "class SimpleStack:\n",
        "    def __init__(self):\n",
        "        self.stack = []\n",
        "\n",
        "    def push(self, item):\n",
        "        self.stack.append(item)\n",
        "\n",
        "    def pop(self):\n",
        "        if self.is_empty():\n",
        "            return None\n",
        "        return self.stack.pop()\n",
        "\n",
        "    def top(self):\n",
        "        if self.is_empty():\n",
        "            return None\n",
        "        return self.stack[-1]\n",
        "\n",
        "    def is_empty(self):\n",
        "        return len(self.stack) == 0\n",
        "\n",
        "    def size(self):\n",
        "        return len(self.stack)\n",
        "\n",
        "    def __str__(self):\n",
        "        return str(self.stack)\n",
        "\n",
        "stack = SimpleStack()\n",
        "stack.push(1)\n",
        "stack.pop()\n",
        "stack.push(2)\n",
        "stack.pop()\n",
        "print(stack)\n",
        "print(stack.top())\n",
        "print(stack.is_empty())"
      ]
    },
    {
      "cell_type": "markdown",
      "source": [
        "### Questão 2"
      ],
      "metadata": {
        "id": "vqxKrAtpb2-Z"
      }
    },
    {
      "cell_type": "code",
      "source": [
        "def reverse_str(string):\n",
        "  stack = []\n",
        "\n",
        "  for char in string[::-1]:\n",
        "    stack.append(char)\n",
        "\n",
        "  return ''.join(stack)\n",
        "\n",
        "reverse_str('Gabriel Ferreira da Costa - 2025')"
      ],
      "metadata": {
        "colab": {
          "base_uri": "https://localhost:8080/",
          "height": 35
        },
        "id": "sfBTUX3DaYTQ",
        "outputId": "e4db8809-dc1f-4f75-a24e-ac2e7db1521f"
      },
      "execution_count": null,
      "outputs": [
        {
          "output_type": "execute_result",
          "data": {
            "text/plain": [
              "'5202 - atsoC ad arierreF leirbaG'"
            ],
            "application/vnd.google.colaboratory.intrinsic+json": {
              "type": "string"
            }
          },
          "metadata": {},
          "execution_count": 5
        }
      ]
    },
    {
      "cell_type": "markdown",
      "source": [
        "### Questão 3"
      ],
      "metadata": {
        "id": "L4eYOv3scuSw"
      }
    },
    {
      "cell_type": "code",
      "source": [
        "def is_balanced(string):\n",
        "    # Inicializa uma pilha vazia para armazenar os caracteres de abertura\n",
        "    stack = []\n",
        "\n",
        "    # Dicionário que mapeia cada caractere de fechamento para seu respectivo caractere de abertura\n",
        "    pairs = {')': '(', '}': '{', ']': '['}\n",
        "\n",
        "    # Percorre cada caractere da string de entrada\n",
        "    for char in string:\n",
        "        # Se for um caractere de abertura, adiciona à pilha\n",
        "        if char in pairs.values():\n",
        "            stack.append(char)\n",
        "        # Se for um caractere de fechamento\n",
        "        elif char in pairs:\n",
        "            # Verifica se a pilha está vazia ou se o topo da pilha não corresponde ao par correto\n",
        "            if not stack or stack.pop() != pairs[char]:\n",
        "                return False  # Desbalanceado\n",
        "    # Se a pilha estiver vazia no final, todos os pares foram fechados corretamente\n",
        "    return not stack\n",
        "\n",
        "print(is_balanced('({[]})'))\n",
        "print(is_balanced('({[})'))"
      ],
      "metadata": {
        "colab": {
          "base_uri": "https://localhost:8080/"
        },
        "id": "vHnsJONFcwfc",
        "outputId": "36a1f2b8-5677-4462-dc73-0205ae312e1a"
      },
      "execution_count": null,
      "outputs": [
        {
          "output_type": "stream",
          "name": "stdout",
          "text": [
            "True\n",
            "False\n"
          ]
        }
      ]
    },
    {
      "cell_type": "markdown",
      "source": [
        "### Questão 4"
      ],
      "metadata": {
        "id": "3J3mtgoffnWC"
      }
    },
    {
      "cell_type": "code",
      "source": [
        "# Define a classe MinStack que implementa uma pilha com recuperação eficiente do menor valor (get_min em O(1))\n",
        "class MinStack:\n",
        "    def __init__(self):\n",
        "        # Pilha principal onde os elementos são armazenados normalmente\n",
        "        self.stack = []\n",
        "        # Pilha auxiliar que acompanha o menor valor até o momento, em cada posição da pilha principal\n",
        "        self.min_stack = []\n",
        "\n",
        "    # Adiciona um elemento à pilha\n",
        "    def push(self, x):\n",
        "        self.stack.append(x)  # Insere o elemento na pilha principal\n",
        "\n",
        "        # Se a min_stack estiver vazia ou o novo elemento for menor ou igual ao mínimo atual,\n",
        "        # ele se torna o novo mínimo e é empilhado na min_stack\n",
        "        if not self.min_stack or x <= self.min_stack[-1]:\n",
        "            self.min_stack.append(x)\n",
        "        else:\n",
        "            # Caso contrário, repetimos o mínimo atual no topo da min_stack\n",
        "            self.min_stack.append(self.min_stack[-1])\n",
        "\n",
        "    # Remove o elemento do topo da pilha\n",
        "    def pop(self):\n",
        "        if self.stack:\n",
        "            self.stack.pop()       # Remove da pilha principal\n",
        "            self.min_stack.pop()   # Remove da pilha de mínimos (sempre sincronizadas)\n",
        "\n",
        "    # Retorna o topo da pilha sem remover\n",
        "    def top(self):\n",
        "        if self.stack:\n",
        "            return self.stack[-1]  # Retorna o último elemento da pilha principal\n",
        "        return None  # Se a pilha estiver vazia\n",
        "\n",
        "    # Retorna o menor elemento da pilha atual\n",
        "    def get_min(self):\n",
        "        if self.min_stack:\n",
        "            return self.min_stack[-1]  # O topo da min_stack sempre guarda o menor valor atual\n",
        "        return None\n",
        "\n",
        "    # Método especial para imprimir a pilha de forma legível\n",
        "    def __str__(self):\n",
        "        return str(self.stack)\n",
        "\n",
        "min_stack = MinStack()\n",
        "min_stack.push(3)\n",
        "min_stack.push(5)\n",
        "min_stack.push(2)\n",
        "min_stack.push(1)\n",
        "print(min_stack)\n",
        "print(min_stack.get_min())\n",
        "min_stack.pop()\n",
        "print(min_stack.get_min())"
      ],
      "metadata": {
        "colab": {
          "base_uri": "https://localhost:8080/"
        },
        "id": "bYwJSL5Efmyl",
        "outputId": "86026031-641b-4903-d77c-5c72fd035f43"
      },
      "execution_count": null,
      "outputs": [
        {
          "output_type": "stream",
          "name": "stdout",
          "text": [
            "[3, 5, 2, 1]\n",
            "1\n",
            "2\n"
          ]
        }
      ]
    },
    {
      "cell_type": "markdown",
      "source": [
        "### Questão 5"
      ],
      "metadata": {
        "id": "tFoRD7t_qUUn"
      }
    },
    {
      "cell_type": "code",
      "source": [
        "class Queue:\n",
        "    def __init__(self):\n",
        "        # Pilha para enfileirar elementos (entrada)\n",
        "        self.stack_1 = []\n",
        "        # Pilha para desenfileirar elementos (saída)\n",
        "        self.stack_2 = []\n",
        "\n",
        "    def enqueue(self, x):\n",
        "        # Inserimos sempre na stack_1\n",
        "        self.stack_1.append(x)\n",
        "\n",
        "    def dequeue(self):\n",
        "        # Se stack_2 estiver vazia, transferimos os elementos de stack_1 para ela\n",
        "        if not self.stack_2:\n",
        "            while self.stack_1:\n",
        "                self.stack_2.append(self.stack_1.pop())\n",
        "        # Removemos o elemento da frente (topo de stack_2)\n",
        "        if self.stack_2:\n",
        "            return self.stack_2.pop()\n",
        "        return None  # Fila vazia\n",
        "\n",
        "    def front(self):\n",
        "        # Mesmo processo da dequeue, mas sem remover\n",
        "        if not self.stack_2:\n",
        "            while self.stack_1:\n",
        "                self.stack_2.append(self.stack_1.pop())\n",
        "        if self.stack_2:\n",
        "            return self.stack_2[-1]\n",
        "        return None\n",
        "\n",
        "    def is_empty(self):\n",
        "        # A fila está vazia se ambas as pilhas estiverem vazias\n",
        "        return not self.stack_1 and not self.stack_2\n",
        "\n",
        "    def __str__(self):\n",
        "        # Apenas para visualização — não faz parte da lógica principal\n",
        "        return str(self.stack_2[::-1] + self.stack_1)\n",
        "\n",
        "\n",
        "queue = Queue()\n",
        "queue.enqueue(1)\n",
        "queue.enqueue(2)\n",
        "queue.enqueue(3)\n",
        "print(queue)\n",
        "print(queue.dequeue())\n",
        "print(queue)\n",
        "print(queue.front())\n",
        "print(queue.is_empty())"
      ],
      "metadata": {
        "colab": {
          "base_uri": "https://localhost:8080/"
        },
        "id": "xDaRatU9qWhh",
        "outputId": "ce7cf6e9-7397-4cc9-f3b2-7f66477969fb"
      },
      "execution_count": null,
      "outputs": [
        {
          "output_type": "stream",
          "name": "stdout",
          "text": [
            "[1, 2, 3]\n",
            "1\n",
            "[2, 3]\n",
            "2\n",
            "False\n"
          ]
        }
      ]
    },
    {
      "cell_type": "markdown",
      "source": [
        "### Questão 6"
      ],
      "metadata": {
        "id": "aSbPKAI8s3mY"
      }
    },
    {
      "cell_type": "code",
      "source": [
        "class CircularQueue:\n",
        "    def __init__(self, k):\n",
        "        self.queue = [None] * k  # Lista fixa de tamanho k\n",
        "        self.size = k            # Capacidade total\n",
        "        self.front_index = 0     # Índice do início da fila\n",
        "        self.rear_index = -1     # Índice do fim da fila\n",
        "        self.count = 0           # Número atual de elementos\n",
        "\n",
        "    def enqueue(self, x):\n",
        "        if self.is_full():\n",
        "            return False  # Não há espaço\n",
        "        # Avança o índice de rear com wrap-around\n",
        "        self.rear_index = (self.rear_index + 1) % self.size\n",
        "        self.queue[self.rear_index] = x\n",
        "        self.count += 1\n",
        "        return True\n",
        "\n",
        "    def dequeue(self):\n",
        "        if self.is_empty():\n",
        "            return False  # Nada para remover\n",
        "        # Remove o elemento da frente e avança o índice com wrap-around\n",
        "        self.queue[self.front_index] = None\n",
        "        self.front_index = (self.front_index + 1) % self.size\n",
        "        self.count -= 1\n",
        "        return True\n",
        "\n",
        "    def front(self):\n",
        "        if self.is_empty():\n",
        "            return None\n",
        "        return self.queue[self.front_index]\n",
        "\n",
        "    def rear(self):\n",
        "        if self.is_empty():\n",
        "            return None\n",
        "        return self.queue[self.rear_index]\n",
        "\n",
        "    def is_empty(self):\n",
        "        return self.count == 0\n",
        "\n",
        "    def is_full(self):\n",
        "        return self.count == self.size\n",
        "\n",
        "    def __str__(self):\n",
        "        # Visualização\n",
        "        result = []\n",
        "        i = self.front_index\n",
        "        for _ in range(self.count):\n",
        "            result.append(self.queue[i])\n",
        "            i = (i + 1) % self.size\n",
        "        return str(result)\n",
        "\n",
        "def main():\n",
        "    # Crie uma fila circular com capacidade 5\n",
        "    my_queue = CircularQueue(5)\n",
        "\n",
        "    # Verifique se a fila está vazia e imprima o resultado\n",
        "    print(\"Fila vazia?\", my_queue.is_empty())\n",
        "\n",
        "    # Enfileire alguns elementos\n",
        "    my_queue.enqueue(1)\n",
        "    my_queue.enqueue(2)\n",
        "    my_queue.enqueue(3)\n",
        "\n",
        "    # Imprima a fila\n",
        "    print(\"Fila:\", my_queue)\n",
        "\n",
        "    # Verifique a frente e a traseira da fila e imprima os resultados\n",
        "    print(\"Frente:\", my_queue.front())\n",
        "    print(\"Traseira:\", my_queue.rear())\n",
        "\n",
        "    # Desenfileire um elemento\n",
        "    my_queue.dequeue()\n",
        "\n",
        "    # Imprima a fila novamente\n",
        "    print(\"Fila após dequeue:\", my_queue)\n",
        "\n",
        "    # Verifique a frente e a traseira novamente e imprima os resultados\n",
        "    print(\"Frente:\", my_queue.front())\n",
        "    print(\"Traseira:\", my_queue.rear())\n",
        "\n",
        "    # Enfileire mais elementos até que esteja cheia\n",
        "    my_queue.enqueue(4)\n",
        "    my_queue.enqueue(5)\n",
        "    my_queue.enqueue(6)  # Tentativa de enfileirar quando está cheia\n",
        "\n",
        "    # Verifique se a fila está cheia e imprima o resultado\n",
        "    print(\"Fila cheia?\", my_queue.is_full())\n",
        "\n",
        "    # Imprima a fila novamente\n",
        "    print(\"Fila:\", my_queue)\n",
        "\n",
        "    # Desenfileire todos os elementos\n",
        "    my_queue.dequeue()\n",
        "    my_queue.dequeue()\n",
        "    my_queue.dequeue()\n",
        "    my_queue.dequeue()\n",
        "    my_queue.dequeue()\n",
        "\n",
        "    print(\"Fila:\", my_queue)\n",
        "\n",
        "    # Verifique se a fila está vazia novamente e imprima o resultado\n",
        "    print(\"Fila vazia?\", my_queue.is_empty())\n",
        "\n",
        "# Chame a função main para executar os testes\n",
        "main()"
      ],
      "metadata": {
        "colab": {
          "base_uri": "https://localhost:8080/"
        },
        "id": "pKji3Ribs6v_",
        "outputId": "b3e9e62d-e2ea-4acd-c12f-9f03c3af90d1"
      },
      "execution_count": null,
      "outputs": [
        {
          "output_type": "stream",
          "name": "stdout",
          "text": [
            "Fila vazia? True\n",
            "Fila: [1, 2, 3]\n",
            "Frente: 1\n",
            "Traseira: 3\n",
            "Fila após dequeue: [2, 3]\n",
            "Frente: 2\n",
            "Traseira: 3\n",
            "Fila cheia? True\n",
            "Fila: [2, 3, 4, 5, 6]\n",
            "Fila: []\n",
            "Fila vazia? True\n"
          ]
        }
      ]
    },
    {
      "cell_type": "markdown",
      "source": [
        "### Questão 7"
      ],
      "metadata": {
        "id": "NQrF_3FTrv8e"
      }
    },
    {
      "cell_type": "code",
      "source": [
        "# Classe Browser\n",
        "class Browser:\n",
        "    def __init__(self):\n",
        "        self.stack_1 = []\n",
        "        self.stack_2 = []\n",
        "\n",
        "    def is_empty(self):\n",
        "        return len(self.stack_1) == 0\n",
        "\n",
        "    def visit(self, url):\n",
        "        self.stack_1.append(url)\n",
        "        self.stack_2.clear()\n",
        "\n",
        "    def back(self):\n",
        "        if len(self.stack_1) <= 1:\n",
        "            return None\n",
        "        self.stack_2.append(self.stack_1.pop())\n",
        "        print(self.current())\n",
        "\n",
        "    def forward(self):\n",
        "        if not self.stack_2:\n",
        "            return None\n",
        "        self.stack_1.append(self.stack_2.pop())\n",
        "        print(self.current())\n",
        "\n",
        "    def current(self):\n",
        "        if self.stack_1:\n",
        "            return self.stack_1[-1]\n",
        "        return None\n",
        "\n",
        "# Instanciando o navegador\n",
        "browser = Browser()\n",
        "\n",
        "print(\"===== TESTE 1: Navegação básica =====\")\n",
        "browser.visit(\"google.com\")\n",
        "print(\"Atual (esperado: google.com):\", browser.current())\n",
        "\n",
        "browser.visit(\"wikipedia.org\")\n",
        "print(\"Atual (esperado: wikipedia.org):\", browser.current())\n",
        "\n",
        "browser.visit(\"openai.com\")\n",
        "print(\"Atual (esperado: openai.com):\", browser.current())\n",
        "\n",
        "print(\"\\n===== TESTE 2: Voltando no histórico =====\")\n",
        "browser.back()  # Esperado: wikipedia.org\n",
        "browser.back()  # Esperado: google.com\n",
        "browser.back()  # Esperado: Não pode voltar\n",
        "\n",
        "print(\"\\n===== TESTE 3: Avançando =====\")\n",
        "browser.forward()  # Esperado: wikipedia.org\n",
        "print(\"Atual (esperado: wikipedia.org):\", browser.current())\n",
        "\n",
        "browser.forward()  # Esperado: openai.com\n",
        "print(\"Atual (esperado: openai.com):\", browser.current())\n",
        "\n",
        "browser.forward()  # Esperado: Não pode avançar\n",
        "\n",
        "print(\"\\n===== TESTE 4: Visitando nova página (limpa stack_2) =====\")\n",
        "browser.back()  # Voltar para wikipedia\n",
        "browser.visit(\"github.com\")  # Deve limpar a stack_2\n",
        "print(\"Atual (esperado: github.com):\", browser.current())\n",
        "\n",
        "browser.forward()  # Esperado: Não pode avançar\n",
        "\n",
        "print(\"\\n===== TESTE 5: Verificando estado vazio =====\")\n",
        "empty_browser = Browser()\n",
        "print(\"Está vazio (esperado: True):\", empty_browser.is_empty())\n",
        "print(\"Atual (esperado: None):\", empty_browser.current())\n",
        "empty_browser.back()     # Esperado: No page to go back to.\n",
        "empty_browser.forward()  # Esperado: No page to go forward to."
      ],
      "metadata": {
        "colab": {
          "base_uri": "https://localhost:8080/"
        },
        "id": "uWMElg-urRig",
        "outputId": "6701f6ed-e50c-4339-cda2-fb2672bf803f"
      },
      "execution_count": null,
      "outputs": [
        {
          "output_type": "stream",
          "name": "stdout",
          "text": [
            "===== TESTE 1: Navegação básica =====\n",
            "Atual (esperado: google.com): google.com\n",
            "Atual (esperado: wikipedia.org): wikipedia.org\n",
            "Atual (esperado: openai.com): openai.com\n",
            "\n",
            "===== TESTE 2: Voltando no histórico =====\n",
            "wikipedia.org\n",
            "google.com\n",
            "\n",
            "===== TESTE 3: Avançando =====\n",
            "wikipedia.org\n",
            "Atual (esperado: wikipedia.org): wikipedia.org\n",
            "openai.com\n",
            "Atual (esperado: openai.com): openai.com\n",
            "\n",
            "===== TESTE 4: Visitando nova página (limpa stack_2) =====\n",
            "wikipedia.org\n",
            "Atual (esperado: github.com): github.com\n",
            "\n",
            "===== TESTE 5: Verificando estado vazio =====\n",
            "Está vazio (esperado: True): True\n",
            "Atual (esperado: None): None\n"
          ]
        }
      ]
    },
    {
      "cell_type": "markdown",
      "source": [
        "## Capítulo 7"
      ],
      "metadata": {
        "id": "ztIm_xhYHhEc"
      }
    },
    {
      "cell_type": "markdown",
      "source": [
        "### Questão 1"
      ],
      "metadata": {
        "id": "ikTuO5qNLSui"
      }
    },
    {
      "cell_type": "code",
      "source": [
        "# Define o nó da lista, contendo o valor e uma referência para o próximo nó\n",
        "class Node:\n",
        "    def __init__(self, value):\n",
        "        self.value = value  # Valor armazenado no nó\n",
        "        self.next = None    # Ponteiro para o próximo nó (inicialmente None)\n",
        "\n",
        "# Classe para a lista encadeada\n",
        "class SinglyLinkedList:\n",
        "    def __init__(self):\n",
        "        self.head = None  # Ponteiro para o início da lista\n",
        "        self.tail = None  # Ponteiro para o fim da lista (otimização para inserção O(1) no fim)\n",
        "\n",
        "    # Insere um novo nó no início da lista\n",
        "    def insert_at_head(self, value):\n",
        "        new_node = Node(value)           # Cria um novo nó\n",
        "        if not self.head:                # Se a lista está vazia\n",
        "            self.head = self.tail = new_node\n",
        "        else:\n",
        "            new_node.next = self.head    # O novo nó aponta para o antigo primeiro\n",
        "            self.head = new_node         # O novo nó se torna o primeiro\n",
        "\n",
        "    # Insere um novo nó no final da lista\n",
        "    def insert_at_tail(self, value):\n",
        "        new_node = Node(value)\n",
        "        if not self.head:                # Se a lista está vazia\n",
        "            self.head = self.tail = new_node\n",
        "        else:\n",
        "            self.tail.next = new_node    # O antigo último aponta para o novo\n",
        "            self.tail = new_node         # O novo nó se torna o último\n",
        "\n",
        "    # Remove o primeiro nó com o valor especificado\n",
        "    def delete_by_value(self, value):\n",
        "        if not self.head:                # Se a lista está vazia, não faz nada\n",
        "            return\n",
        "        if self.head.value == value:     # Se o valor está no primeiro nó\n",
        "            self.head = self.head.next   # Atualiza o head\n",
        "            if not self.head:            # Se a lista ficou vazia após remoção\n",
        "                self.tail = None         # Remove a referência do tail\n",
        "            return\n",
        "        prev = self.head\n",
        "        curr = self.head.next\n",
        "        while curr:\n",
        "            if curr.value == value:              # Se encontrou o valor\n",
        "                prev.next = curr.next            # Remove o nó atual da lista\n",
        "                if curr == self.tail:            # Se era o último nó\n",
        "                    self.tail = prev             # Atualiza o tail\n",
        "                return\n",
        "            prev, curr = curr, curr.next         # Avança os ponteiros\n",
        "\n",
        "    # Busca um valor na lista, retorna True se encontrado\n",
        "    def search(self, value):\n",
        "        curr = self.head\n",
        "        while curr:\n",
        "            if curr.value == value:\n",
        "                return True\n",
        "            curr = curr.next\n",
        "        return False\n",
        "\n",
        "    # Exibe os valores da lista em ordem\n",
        "    def display(self):\n",
        "        curr = self.head\n",
        "        output = \"\"\n",
        "        while curr:\n",
        "            output += f\"{curr.value} -> \"    # Concatena os valores com setas\n",
        "            curr = curr.next\n",
        "        print(output.rstrip(\" -> \") if output else \"Lista vazia\")\n",
        "\n",
        "print(\"=== Teste 1: Inserção na cabeça ===\")\n",
        "lista = SinglyLinkedList()\n",
        "lista.insert_at_head(10)\n",
        "lista.insert_at_head(20)\n",
        "lista.insert_at_head(30)\n",
        "lista.display()  # Esperado: 30 -> 20 -> 10\n",
        "\n",
        "print(\"\\n=== Teste 2: Inserção na cauda ===\")\n",
        "lista2 = SinglyLinkedList()\n",
        "lista2.insert_at_tail(1)\n",
        "lista2.insert_at_tail(2)\n",
        "lista2.insert_at_tail(3)\n",
        "lista2.display()  # Esperado: 1 -> 2 -> 3\n",
        "\n",
        "print(\"\\n=== Teste 3: Mistura de cabeça e cauda ===\")\n",
        "lista3 = SinglyLinkedList()\n",
        "lista3.insert_at_head(5)\n",
        "lista3.insert_at_tail(10)\n",
        "lista3.insert_at_head(2)\n",
        "lista3.insert_at_tail(20)\n",
        "lista3.display()  # Esperado: 2 -> 5 -> 10 -> 20\n",
        "\n",
        "print(\"\\n=== Teste 4: Deletar por valor ===\")\n",
        "lista4 = SinglyLinkedList()\n",
        "lista4.insert_at_tail(7)\n",
        "lista4.insert_at_tail(8)\n",
        "lista4.insert_at_tail(9)\n",
        "lista4.insert_at_tail(10)\n",
        "lista4.display()  # Esperado: 7 -> 8 -> 9 -> 10\n",
        "lista4.delete_by_value(9)\n",
        "lista4.display()  # Esperado: 7 -> 8 -> 10\n",
        "lista4.delete_by_value(7)\n",
        "lista4.display()  # Esperado: 8 -> 10\n",
        "\n",
        "print(\"\\n=== Teste 5: Buscar valor ===\")\n",
        "lista5 = SinglyLinkedList()\n",
        "lista5.insert_at_tail(100)\n",
        "lista5.insert_at_tail(200)\n",
        "lista5.insert_at_tail(300)\n",
        "print(\"Buscar 200 (esperado: True):\", lista5.search(200))\n",
        "print(\"Buscar 400 (esperado: False):\", lista5.search(400))"
      ],
      "metadata": {
        "colab": {
          "base_uri": "https://localhost:8080/"
        },
        "id": "aiIfwPCqHm0W",
        "outputId": "37c0db7a-1a9e-411b-b0ed-a5166417499e"
      },
      "execution_count": null,
      "outputs": [
        {
          "output_type": "stream",
          "name": "stdout",
          "text": [
            "=== Teste 1: Inserção na cabeça ===\n",
            "30 -> 20 -> 10\n",
            "\n",
            "=== Teste 2: Inserção na cauda ===\n",
            "1 -> 2 -> 3\n",
            "\n",
            "=== Teste 3: Mistura de cabeça e cauda ===\n",
            "2 -> 5 -> 10 -> 20\n",
            "\n",
            "=== Teste 4: Deletar por valor ===\n",
            "7 -> 8 -> 9 -> 10\n",
            "7 -> 8 -> 10\n",
            "8 -> 10\n",
            "\n",
            "=== Teste 5: Buscar valor ===\n",
            "Buscar 200 (esperado: True): True\n",
            "Buscar 400 (esperado: False): False\n"
          ]
        }
      ]
    },
    {
      "cell_type": "markdown",
      "source": [
        "### Questão 2"
      ],
      "metadata": {
        "id": "1eRaoH1MLNDe"
      }
    },
    {
      "cell_type": "code",
      "source": [
        "def reverse(head):\n",
        "    prev = None            # Inicialmente, o nó anterior é None\n",
        "    current = head         # Começa do início da lista\n",
        "    while current:\n",
        "        next_node = current.next  # Salva o próximo nó temporariamente\n",
        "        current.next = prev       # Inverte o ponteiro do nó atual\n",
        "        prev = current            # Move prev para o nó atual\n",
        "        current = next_node       # Avança para o próximo nó\n",
        "    return prev  # Novo head da lista é o último nó visitado\n",
        "\n",
        "# Converte lista para string (útil para testes)\n",
        "def list_to_string(head):\n",
        "    current = head\n",
        "    result = \"\"\n",
        "    while current:\n",
        "        result += f\"{current.value} -> \"\n",
        "        current = current.next\n",
        "    return result.rstrip(\" -> \") if result else \"Lista vazia\"\n",
        "\n",
        "# Criar lista: 1 -> 2 -> 3 -> 4 -> None\n",
        "n1 = Node(1)\n",
        "n2 = Node(2)\n",
        "n3 = Node(3)\n",
        "n4 = Node(4)\n",
        "n1.next = n2\n",
        "n2.next = n3\n",
        "n3.next = n4\n",
        "head = n1\n",
        "\n",
        "print(\"Original:\", list_to_string(head))\n",
        "reversed_head = reverse(head)\n",
        "print(\"Reversa :\", list_to_string(reversed_head))"
      ],
      "metadata": {
        "colab": {
          "base_uri": "https://localhost:8080/"
        },
        "id": "lWFiagYoLMxs",
        "outputId": "dc1d9b9d-837d-43be-aa15-a7943381ed41"
      },
      "execution_count": null,
      "outputs": [
        {
          "output_type": "stream",
          "name": "stdout",
          "text": [
            "Original: 1 -> 2 -> 3 -> 4\n",
            "Reversa : 4 -> 3 -> 2 -> 1\n"
          ]
        }
      ]
    },
    {
      "cell_type": "markdown",
      "source": [
        "### Questão 3"
      ],
      "metadata": {
        "id": "WaEMWjkeL58e"
      }
    },
    {
      "cell_type": "code",
      "source": [
        "def has_cycle(head):\n",
        "    slow = head     # ponteiro lento (avança 1 por vez)\n",
        "    fast = head     # ponteiro rápido (avança 2 por vez)\n",
        "\n",
        "    while fast and fast.next:\n",
        "        slow = slow.next\n",
        "        fast = fast.next.next\n",
        "\n",
        "        if slow == fast:\n",
        "            return True  # há um ciclo se os ponteiros se encontrarem\n",
        "\n",
        "    return False  # se fast chegar ao final, não há ciclo\n",
        "\n",
        "# Lista acíclica: 1 -> 2 -> 3 -> None\n",
        "a = Node(1)\n",
        "b = Node(2)\n",
        "c = Node(3)\n",
        "a.next = b\n",
        "b.next = c\n",
        "\n",
        "print(\"Tem ciclo (esperado False):\", has_cycle(a))\n",
        "\n",
        "# Lista cíclica: 1 -> 2 -> 3 -> 2 ...\n",
        "x = Node(1)\n",
        "y = Node(2)\n",
        "z = Node(3)\n",
        "x.next = y\n",
        "y.next = z\n",
        "z.next = y  # cria ciclo de volta para y\n",
        "\n",
        "print(\"Tem ciclo (esperado True):\", has_cycle(x))"
      ],
      "metadata": {
        "colab": {
          "base_uri": "https://localhost:8080/"
        },
        "id": "RrkDpMqDL_y2",
        "outputId": "2605dbf8-f93b-451c-9aee-e50499a36226"
      },
      "execution_count": null,
      "outputs": [
        {
          "output_type": "stream",
          "name": "stdout",
          "text": [
            "Tem ciclo (esperado False): False\n",
            "Tem ciclo (esperado True): True\n"
          ]
        }
      ]
    },
    {
      "cell_type": "markdown",
      "source": [
        "### Questão 4"
      ],
      "metadata": {
        "id": "wGvHe87VQxR4"
      }
    },
    {
      "cell_type": "code",
      "source": [
        "def merge_sorted(l1, l2):\n",
        "    # Nó fictício que serve como ponto de partida\n",
        "    dummy = Node(0)\n",
        "    tail = dummy\n",
        "\n",
        "    # Percorre ambas as listas enquanto ambas têm elementos\n",
        "    while l1 and l2:\n",
        "        if l1.value < l2.value:\n",
        "            tail.next = l1\n",
        "            l1 = l1.next\n",
        "        else:\n",
        "            tail.next = l2\n",
        "            l2 = l2.next\n",
        "        tail = tail.next  # Avança o ponteiro final\n",
        "\n",
        "    # Conecta o restante da lista que ainda tiver elementos\n",
        "    tail.next = l1 if l1 else l2\n",
        "\n",
        "    return dummy.next  # Retorna a cabeça da nova lista (descarta o dummy)\n",
        "\n",
        "# Função auxiliar para imprimir uma lista\n",
        "def print_list(head):\n",
        "    current = head\n",
        "    while current:\n",
        "        print(current.value, end=\" -> \" if current.next else \"\\n\")\n",
        "        current = current.next\n",
        "\n",
        "# Criar lista 1: 1 -> 3 -> 5\n",
        "a = Node(1)\n",
        "b = Node(3)\n",
        "c = Node(5)\n",
        "a.next = b\n",
        "b.next = c\n",
        "\n",
        "# Criar lista 2: 2 -> 4 -> 6\n",
        "x = Node(2)\n",
        "y = Node(4)\n",
        "z = Node(6)\n",
        "x.next = y\n",
        "y.next = z\n",
        "\n",
        "# Mesclar\n",
        "merged_head = merge_sorted(a, x)\n",
        "\n",
        "# Resultado: 1 -> 2 -> 3 -> 4 -> 5 -> 6\n",
        "print_list(merged_head)"
      ],
      "metadata": {
        "colab": {
          "base_uri": "https://localhost:8080/"
        },
        "id": "byqwc5WkQ11X",
        "outputId": "133af7b0-667e-4009-d891-085fa9b46082"
      },
      "execution_count": null,
      "outputs": [
        {
          "output_type": "stream",
          "name": "stdout",
          "text": [
            "1 -> 2 -> 3 -> 4 -> 5 -> 6\n"
          ]
        }
      ]
    },
    {
      "cell_type": "markdown",
      "source": [
        "### Questão 5"
      ],
      "metadata": {
        "id": "IIXLQMvmRzRU"
      }
    },
    {
      "cell_type": "code",
      "source": [
        "def find_middle(head):\n",
        "    slow = head        # Avança 1 passo por vez\n",
        "    fast = head        # Avança 2 passos por vez\n",
        "\n",
        "    while fast and fast.next:\n",
        "        slow = slow.next\n",
        "        fast = fast.next.next\n",
        "\n",
        "    return slow  # Quando fast atingir o fim, slow estará no meio\n",
        "\n",
        "# Função auxiliar para criar uma lista a partir de uma lista Python\n",
        "def create_linked_list(values):\n",
        "    if not values:\n",
        "        return None\n",
        "    head = Node(values[0])\n",
        "    current = head\n",
        "    for v in values[1:]:\n",
        "        current.next = Node(v)\n",
        "        current = current.next\n",
        "    return head\n",
        "\n",
        "# Função auxiliar para imprimir uma lista\n",
        "def print_list(head):\n",
        "    current = head\n",
        "    while current:\n",
        "        print(current.value, end=\" -> \" if current.next else \"\\n\")\n",
        "        current = current.next\n",
        "\n",
        "# Lista com número ímpar de nós\n",
        "odd_head = create_linked_list([1, 2, 3, 4, 5])\n",
        "print(\"Lista ímpar:\")\n",
        "print_list(odd_head)\n",
        "middle_node = find_middle(odd_head)\n",
        "print(\"Nó do meio:\", middle_node.value)  # Esperado: 3\n",
        "\n",
        "# Lista com número par de nós\n",
        "even_head = create_linked_list([1, 2, 3, 4, 5, 6])\n",
        "print(\"\\nLista par:\")\n",
        "print_list(even_head)\n",
        "middle_node = find_middle(even_head)\n",
        "print(\"Nó do meio:\", middle_node.value)  # Esperado: 4\n"
      ],
      "metadata": {
        "colab": {
          "base_uri": "https://localhost:8080/"
        },
        "id": "RSnWjTzRR2iO",
        "outputId": "ae3be834-5a2f-4546-da4e-419a23dc3bf3"
      },
      "execution_count": null,
      "outputs": [
        {
          "output_type": "stream",
          "name": "stdout",
          "text": [
            "Lista ímpar:\n",
            "1 -> 2 -> 3 -> 4 -> 5\n",
            "Nó do meio: 3\n",
            "\n",
            "Lista par:\n",
            "1 -> 2 -> 3 -> 4 -> 5 -> 6\n",
            "Nó do meio: 4\n"
          ]
        }
      ]
    },
    {
      "cell_type": "markdown",
      "source": [
        "### Questão 6"
      ],
      "metadata": {
        "id": "m2OojdXHZ6DM"
      }
    },
    {
      "cell_type": "code",
      "source": [
        "# Classe do nó da lista duplamente ligada\n",
        "class Node:\n",
        "    def __init__(self, value):\n",
        "        self.value = value    # Valor armazenado no nó\n",
        "        self.prev = None      # Ponteiro para o nó anterior\n",
        "        self.next = None      # Ponteiro para o próximo nó\n",
        "\n",
        "# Classe principal da lista duplamente ligada\n",
        "class DoublyLinkedList:\n",
        "    def __init__(self):\n",
        "        self.head = None  # Primeiro nó da lista\n",
        "        self.tail = None  # Último nó da lista\n",
        "\n",
        "    # Insere um novo nó no início da lista\n",
        "    def insert_at_head(self, value):\n",
        "        new_node = Node(value)      # Cria novo nó\n",
        "        new_node.next = self.head   # Aponta para o antigo head como próximo\n",
        "\n",
        "        if self.head:               # Se lista não estiver vazia\n",
        "            self.head.prev = new_node  # Atualiza o ponteiro anterior do antigo head\n",
        "        else:\n",
        "            self.tail = new_node    # Se for o primeiro nó, também é o tail\n",
        "\n",
        "        self.head = new_node        # Atualiza o head para o novo nó\n",
        "\n",
        "    # Insere um novo nó no final da lista\n",
        "    def insert_at_tail(self, value):\n",
        "        new_node = Node(value)      # Cria novo nó\n",
        "        new_node.prev = self.tail   # Aponta para o antigo tail como anterior\n",
        "\n",
        "        if self.tail:               # Se lista não estiver vazia\n",
        "            self.tail.next = new_node  # Atualiza o ponteiro próximo do antigo tail\n",
        "        else:\n",
        "            self.head = new_node    # Se for o primeiro nó, também é o head\n",
        "\n",
        "        self.tail = new_node        # Atualiza o tail para o novo nó\n",
        "\n",
        "    # Remove o primeiro nó que contém o valor fornecido\n",
        "    def delete_by_value(self, value):\n",
        "        current = self.head\n",
        "\n",
        "        # Percorre a lista até encontrar o valor\n",
        "        while current:\n",
        "            if current.value == value:\n",
        "                if current.prev:\n",
        "                    current.prev.next = current.next  # Liga o anterior ao próximo\n",
        "                else:\n",
        "                    self.head = current.next          # Atualiza o head se for o primeiro\n",
        "\n",
        "                if current.next:\n",
        "                    current.next.prev = current.prev  # Liga o próximo ao anterior\n",
        "                else:\n",
        "                    self.tail = current.prev          # Atualiza o tail se for o último\n",
        "\n",
        "                return True  # Valor foi encontrado e removido\n",
        "            current = current.next\n",
        "\n",
        "        return False  # Valor não encontrado\n",
        "\n",
        "    # Exibe a lista do início ao fim\n",
        "    def display_forward(self):\n",
        "        current = self.head\n",
        "        while current:\n",
        "            print(current.value, end=\" <-> \" if current.next else \"\\n\")\n",
        "            current = current.next\n",
        "\n",
        "    # Exibe a lista do fim ao início\n",
        "    def display_backward(self):\n",
        "        current = self.tail\n",
        "        while current:\n",
        "            print(current.value, end=\" <-> \" if current.prev else \"\\n\")\n",
        "            current = current.prev\n",
        "\n",
        "dll = DoublyLinkedList()\n",
        "\n",
        "print(\"Inserindo no início:\")\n",
        "dll.insert_at_head(3)  # Lista: 3\n",
        "dll.insert_at_head(2)  # Lista: 2 <-> 3\n",
        "dll.insert_at_head(1)  # Lista: 1 <-> 2 <-> 3\n",
        "dll.display_forward()     # Saída esperada: 1 <-> 2 <-> 3\n",
        "dll.display_backward()    # Saída esperada: 3 <-> 2 <-> 1\n",
        "\n",
        "print(\"\\nInserindo no fim:\")\n",
        "dll.insert_at_tail(4)  # Lista: 1 <-> 2 <-> 3 <-> 4\n",
        "dll.insert_at_tail(5)  # Lista: 1 <-> 2 <-> 3 <-> 4 <-> 5\n",
        "dll.display_forward()     # Saída esperada: 1 <-> 2 <-> 3 <-> 4 <-> 5\n",
        "dll.display_backward()    # Saída esperada: 5 <-> 4 <-> 3 <-> 2 <-> 1\n",
        "\n",
        "print(\"\\nRemovendo valor 3:\")\n",
        "dll.delete_by_value(3)  # Remove o 3 do meio\n",
        "dll.display_forward()   # Esperado: 1 <-> 2 <-> 4 <-> 5\n",
        "\n",
        "print(\"\\nRemovendo valor 1 (cabeça):\")\n",
        "dll.delete_by_value(1)  # Remove o primeiro\n",
        "dll.display_forward()   # Esperado: 2 <-> 4 <-> 5\n",
        "\n",
        "print(\"\\nRemovendo valor 5 (cauda):\")\n",
        "dll.delete_by_value(5)  # Remove o último\n",
        "dll.display_forward()   # Esperado: 2 <-> 4\n",
        "dll.display_backward()  # Esperado: 4 <-> 2"
      ],
      "metadata": {
        "colab": {
          "base_uri": "https://localhost:8080/"
        },
        "id": "czl2bOrWZ7s4",
        "outputId": "4e22e50a-acd3-448f-fea8-6ab36eec0b6a"
      },
      "execution_count": null,
      "outputs": [
        {
          "output_type": "stream",
          "name": "stdout",
          "text": [
            "Inserindo no início:\n",
            "1 <-> 2 <-> 3\n",
            "3 <-> 2 <-> 1\n",
            "\n",
            "Inserindo no fim:\n",
            "1 <-> 2 <-> 3 <-> 4 <-> 5\n",
            "5 <-> 4 <-> 3 <-> 2 <-> 1\n",
            "\n",
            "Removendo valor 3:\n",
            "1 <-> 2 <-> 4 <-> 5\n",
            "\n",
            "Removendo valor 1 (cabeça):\n",
            "2 <-> 4 <-> 5\n",
            "\n",
            "Removendo valor 5 (cauda):\n",
            "2 <-> 4\n",
            "4 <-> 2\n"
          ]
        }
      ]
    },
    {
      "cell_type": "markdown",
      "source": [
        "### Questão 7"
      ],
      "metadata": {
        "id": "FV-KPCpga2ZK"
      }
    },
    {
      "cell_type": "code",
      "source": [
        "def is_palindrome(head):\n",
        "    # Etapa 1: Encontrar o meio com ponteiros lento (slow) e rápido (fast)\n",
        "    slow = fast = head\n",
        "    while fast and fast.next:\n",
        "        slow = slow.next\n",
        "        fast = fast.next.next\n",
        "\n",
        "    # Etapa 2: Inverter a segunda metade da lista\n",
        "    prev = None\n",
        "    while slow:\n",
        "        next_node = slow.next\n",
        "        slow.next = prev\n",
        "        prev = slow\n",
        "        slow = next_node\n",
        "\n",
        "    # Etapa 3: Comparar primeira metade com a segunda metade invertida\n",
        "    left = head\n",
        "    right = prev  # Início da segunda metade invertida\n",
        "\n",
        "    while right:\n",
        "        if left.value != right.value:\n",
        "            return False\n",
        "        left = left.next\n",
        "        right = right.next\n",
        "\n",
        "    return True\n",
        "\n",
        "# Cria uma lista ligada: 1 -> 2 -> 2 -> 1\n",
        "head = Node(1)\n",
        "head.next = Node(2)\n",
        "head.next.next = Node(2)\n",
        "head.next.next.next = Node(1)\n",
        "\n",
        "print(is_palindrome(head))  # Saída esperada: True\n",
        "\n",
        "# Outra lista: 1 -> 2 -> 3\n",
        "head2 = Node(1)\n",
        "head2.next = Node(2)\n",
        "head2.next.next = Node(3)\n",
        "\n",
        "print(is_palindrome(head2))  # Saída esperada: False"
      ],
      "metadata": {
        "colab": {
          "base_uri": "https://localhost:8080/"
        },
        "id": "RS0BejVicI8O",
        "outputId": "00d0ea50-29ac-42be-8675-5331c7288914"
      },
      "execution_count": null,
      "outputs": [
        {
          "output_type": "stream",
          "name": "stdout",
          "text": [
            "True\n",
            "False\n"
          ]
        }
      ]
    },
    {
      "cell_type": "markdown",
      "source": [
        "# Lista 4"
      ],
      "metadata": {
        "id": "oritAsuN7jJW"
      }
    },
    {
      "cell_type": "markdown",
      "source": [
        "## Capítulo 9"
      ],
      "metadata": {
        "id": "bl5EG5oj7maX"
      }
    },
    {
      "cell_type": "markdown",
      "source": [
        "### Questão 1"
      ],
      "metadata": {
        "id": "c_RK_ly77qH5"
      }
    },
    {
      "cell_type": "code",
      "source": [
        "def find_max(L):\n",
        "    if len(L) == 1:\n",
        "        return L[0]\n",
        "    else:\n",
        "        max_rest = find_max(L[1:])\n",
        "        return L[0] if L[0] > max_rest else max_rest\n",
        "\n",
        "find_max([1, 5, 3, 9, 2])"
      ],
      "metadata": {
        "colab": {
          "base_uri": "https://localhost:8080/"
        },
        "id": "1G4C1Zxb7ukw",
        "outputId": "4e8d35d8-7ec5-493c-ec83-cc4c836e9eed"
      },
      "execution_count": null,
      "outputs": [
        {
          "output_type": "execute_result",
          "data": {
            "text/plain": [
              "9"
            ]
          },
          "metadata": {},
          "execution_count": 18
        }
      ]
    },
    {
      "cell_type": "code",
      "source": [
        "def find_max_graph(L):\n",
        "    graph = Digraph(comment=\"Árvore de Chamadas - find_max\")\n",
        "\n",
        "    def recurse(sublist, node_id):\n",
        "        label = f\"{sublist}\"\n",
        "        graph.node(node_id, label)\n",
        "\n",
        "        if len(sublist) == 1:\n",
        "            return sublist[0]\n",
        "\n",
        "        # Cria o próximo nó para o subproblema L[1:]\n",
        "        next_node_id = f\"{node_id}_1\"\n",
        "        graph.edge(node_id, next_node_id)\n",
        "\n",
        "        max_rest = recurse(sublist[1:], next_node_id)\n",
        "        result = sublist[0] if sublist[0] > max_rest else max_rest\n",
        "        return result\n",
        "\n",
        "    recurse(L, \"root\")\n",
        "    return graph\n",
        "\n",
        "# Gerar e renderizar a árvore de chamadas\n",
        "tree = find_max_graph([1, 5, 3, 9, 2])\n",
        "tree.render('find_max_tree', format='png', cleanup=True)\n",
        "Image(filename='find_max_tree.png')"
      ],
      "metadata": {
        "colab": {
          "base_uri": "https://localhost:8080/",
          "height": 460
        },
        "id": "QOufolq-SXzE",
        "outputId": "39ce8058-0a8f-43a7-b08a-ac95e0522533"
      },
      "execution_count": null,
      "outputs": [
        {
          "output_type": "execute_result",
          "data": {
            "image/png": "[encoded data removed]",
            "text/plain": [
              "<IPython.core.display.Image object>"
            ]
          },
          "metadata": {},
          "execution_count": 19
        }
      ]
    },
    {
      "cell_type": "markdown",
      "source": [
        "### Questão 2"
      ],
      "metadata": {
        "id": "IY5Jlabo8pbW"
      }
    },
    {
      "cell_type": "code",
      "source": [
        "def reverse(s):\n",
        "    if len(s) <= 1:\n",
        "        return s\n",
        "    else:\n",
        "        return reverse(s[1:]) + s[0]\n",
        "\n",
        "reverse('python')"
      ],
      "metadata": {
        "colab": {
          "base_uri": "https://localhost:8080/",
          "height": 35
        },
        "id": "mBNo7la1824I",
        "outputId": "c405ef5c-7fd4-4293-ff0d-7a6f505f2376"
      },
      "execution_count": null,
      "outputs": [
        {
          "output_type": "execute_result",
          "data": {
            "text/plain": [
              "'nohtyp'"
            ],
            "application/vnd.google.colaboratory.intrinsic+json": {
              "type": "string"
            }
          },
          "metadata": {},
          "execution_count": 20
        }
      ]
    },
    {
      "cell_type": "code",
      "source": [
        "def reverse_graph(s):\n",
        "    graph = Digraph(comment=\"Árvore de Chamadas - reverse\")\n",
        "\n",
        "    def recurse(substring, node_id):\n",
        "        label = f\"reverse('{substring}')\"\n",
        "        graph.node(node_id, label)\n",
        "\n",
        "        if len(substring) <= 1:\n",
        "            return substring\n",
        "\n",
        "        next_node_id = f\"{node_id}_1\"\n",
        "        graph.edge(node_id, next_node_id)\n",
        "\n",
        "        rest = recurse(substring[1:], next_node_id)\n",
        "        result = rest + substring[0]\n",
        "\n",
        "        # Adiciona o resultado da concatenação como anotação\n",
        "        result_node = f\"{node_id}_res\"\n",
        "        graph.node(result_node, f\"'{result}'\", shape=\"note\", style=\"filled\", fillcolor=\"lightgrey\")\n",
        "        graph.edge(node_id, result_node, style=\"dashed\")\n",
        "\n",
        "        return result\n",
        "\n",
        "    recurse(s, \"root\")\n",
        "    return graph\n",
        "\n",
        "# Gerar e renderizar a árvore de chamadas\n",
        "tree = reverse_graph(\"python\")\n",
        "tree.render('reverse_tree', format='png', cleanup=True)\n",
        "Image(filename='reverse_tree.png')"
      ],
      "metadata": {
        "colab": {
          "base_uri": "https://localhost:8080/",
          "height": 556
        },
        "id": "oX3WDzWrS6KK",
        "outputId": "5121130a-b392-4d90-c170-849c0ed66dcd"
      },
      "execution_count": null,
      "outputs": [
        {
          "output_type": "execute_result",
          "data": {
            "image/png": "[encoded data removed]",
            "text/plain": [
              "<IPython.core.display.Image object>"
            ]
          },
          "metadata": {},
          "execution_count": 21
        }
      ]
    },
    {
      "cell_type": "markdown",
      "source": [
        "### Questão 3"
      ],
      "metadata": {
        "id": "9sjFtnru9SYq"
      }
    },
    {
      "cell_type": "code",
      "source": [
        "def sum_digits(n):\n",
        "    if n < 10:\n",
        "        return n\n",
        "    else:\n",
        "        return n % 10 + sum_digits(n // 10)\n",
        "\n",
        "sum_digits(1234)"
      ],
      "metadata": {
        "colab": {
          "base_uri": "https://localhost:8080/"
        },
        "id": "h_-FTgy-9UMM",
        "outputId": "669014e0-c7a8-47d3-af13-5a2b677ad73d"
      },
      "execution_count": null,
      "outputs": [
        {
          "output_type": "execute_result",
          "data": {
            "text/plain": [
              "10"
            ]
          },
          "metadata": {},
          "execution_count": 22
        }
      ]
    },
    {
      "cell_type": "code",
      "source": [
        "def sum_digits_graph(n):\n",
        "    graph = Digraph(comment=\"Árvore de Chamadas - sum_digits\")\n",
        "\n",
        "    def recurse(n, node_id):\n",
        "        label = f\"sum_digits({n})\"\n",
        "        graph.node(node_id, label)\n",
        "\n",
        "        if n < 10:\n",
        "            # Nó final com resultado direto\n",
        "            result_node = f\"{node_id}_res\"\n",
        "            graph.node(result_node, f\"{n}\", shape=\"note\", style=\"filled\", fillcolor=\"lightgrey\")\n",
        "            graph.edge(node_id, result_node, style=\"dashed\")\n",
        "            return n\n",
        "\n",
        "        next_n = n // 10\n",
        "        next_node_id = f\"{node_id}_next\"\n",
        "        graph.edge(node_id, next_node_id)\n",
        "\n",
        "        result = n % 10 + recurse(next_n, next_node_id)\n",
        "\n",
        "        # Mostra o valor somado nesse nível\n",
        "        result_node = f\"{node_id}_res\"\n",
        "        graph.node(result_node, f\"{result}\", shape=\"note\", style=\"filled\", fillcolor=\"lightgrey\")\n",
        "        graph.edge(node_id, result_node, style=\"dashed\")\n",
        "\n",
        "        return result\n",
        "\n",
        "    recurse(n, \"root\")\n",
        "    return graph\n",
        "\n",
        "# Gerar e salvar a imagem da árvore\n",
        "tree = sum_digits_graph(742)\n",
        "tree.render('sum_digits_tree', format='png', cleanup=True)\n",
        "Image(filename='sum_digits_tree.png')"
      ],
      "metadata": {
        "colab": {
          "base_uri": "https://localhost:8080/",
          "height": 364
        },
        "id": "NdLvEVfYVHQO",
        "outputId": "33d9ca25-84f5-4c1a-8cc5-e69eed52b979"
      },
      "execution_count": null,
      "outputs": [
        {
          "output_type": "execute_result",
          "data": {
            "image/png": "[encoded data removed]",
            "text/plain": [
              "<IPython.core.display.Image object>"
            ]
          },
          "metadata": {},
          "execution_count": 23
        }
      ]
    },
    {
      "cell_type": "markdown",
      "source": [
        "$$T(n) = T(n / 10) + 1, n \\geq 10, T(n < 10) = 0$$\n",
        "$$n = 10^k$$\n",
        "$$T(10^k) = T(10^{k-1}) + 1$$\n",
        "$$= T(10^{k-2}) + 1 + 1$$\n",
        "$$= T(10^{k-3}) + 1 + 1 + 1$$\n",
        "$$...$$\n",
        "$$T(10^{k-i}) + i$$\n",
        "$$k-i = 0, k=i$$\n",
        "$$= T(0) + k = k = log_{10} n$$"
      ],
      "metadata": {
        "id": "QZF7B_H4z85G"
      }
    },
    {
      "cell_type": "markdown",
      "source": [
        "### Questão 4"
      ],
      "metadata": {
        "id": "-GlexRAk-neB"
      }
    },
    {
      "cell_type": "code",
      "source": [
        "def is_palindrome(s):\n",
        "    if len(s) <= 1:\n",
        "        return True\n",
        "    elif s[0] != s[-1]:\n",
        "        return False\n",
        "    else:\n",
        "        return is_palindrome(s[1:-1])\n",
        "\n",
        "print(is_palindrome('racecar'))\n",
        "print(is_palindrome('hello'))"
      ],
      "metadata": {
        "colab": {
          "base_uri": "https://localhost:8080/"
        },
        "id": "iryhHUay_WEJ",
        "outputId": "08bf4f60-fe95-4c1a-d626-507114bbfba6"
      },
      "execution_count": null,
      "outputs": [
        {
          "output_type": "stream",
          "name": "stdout",
          "text": [
            "True\n",
            "False\n"
          ]
        }
      ]
    },
    {
      "cell_type": "markdown",
      "source": [
        "$$T(n) = T(n - 2) + n, n \\geq 10, T(n < 10) = 0$$\n",
        "$$n = 10^k$$\n",
        "$$T(10^k) = T(10^{k-1}) + 1$$\n",
        "$$= T(10^{k-2}) + 1 + 1$$\n",
        "$$= T(10^{k-3}) + 1 + 1 + 1$$\n",
        "$$...$$\n",
        "$$T(10^{k-i}) + i$$\n",
        "$$k-i = 0, k=i$$\n",
        "$$= T(0) + k = k = log_{10} n$$"
      ],
      "metadata": {
        "id": "yJzcJxU22LsO"
      }
    },
    {
      "cell_type": "code",
      "source": [
        "def is_palindrome_graph(s):\n",
        "    graph = Digraph(comment=\"Árvore de Chamadas - is_palindrome\")\n",
        "\n",
        "    def recurse(s, node_id):\n",
        "        label = f\"is_palindrome('{s}')\"\n",
        "        graph.node(node_id, label)\n",
        "\n",
        "        if len(s) <= 1:\n",
        "            res_node = f\"{node_id}_res\"\n",
        "            graph.node(res_node, \"True ✅\", shape=\"note\", style=\"filled\", fillcolor=\"lightgreen\")\n",
        "            graph.edge(node_id, res_node, style=\"dashed\")\n",
        "            return True\n",
        "\n",
        "        if s[0] != s[-1]:\n",
        "            res_node = f\"{node_id}_res\"\n",
        "            graph.node(res_node, \"False ❌\", shape=\"note\", style=\"filled\", fillcolor=\"lightcoral\")\n",
        "            graph.edge(node_id, res_node, style=\"dashed\")\n",
        "            return False\n",
        "\n",
        "        next_s = s[1:-1]\n",
        "        next_node_id = f\"{node_id}_next\"\n",
        "        graph.edge(node_id, next_node_id)\n",
        "\n",
        "        result = recurse(next_s, next_node_id)\n",
        "\n",
        "        return result\n",
        "\n",
        "    recurse(s, \"root\")\n",
        "    return graph\n",
        "\n",
        "# Gerar a árvore para 'racecar'\n",
        "tree = is_palindrome_graph('racecar')\n",
        "tree.render('is_palindrome_tree', format='png', cleanup=True)\n",
        "Image(filename='is_palindrome_tree.png')"
      ],
      "metadata": {
        "colab": {
          "base_uri": "https://localhost:8080/",
          "height": 460
        },
        "id": "jDn8NCOqX5nZ",
        "outputId": "6d8a3dc9-a4fc-47ce-863e-12a7662d4db7"
      },
      "execution_count": null,
      "outputs": [
        {
          "output_type": "execute_result",
          "data": {
            "image/png": "[encoded data removed]",
            "text/plain": [
              "<IPython.core.display.Image object>"
            ]
          },
          "metadata": {},
          "execution_count": 25
        }
      ]
    },
    {
      "cell_type": "markdown",
      "source": [
        "## Capítulo 10"
      ],
      "metadata": {
        "id": "HMjbqs0dAUFC"
      }
    },
    {
      "cell_type": "code",
      "source": [
        "def process(s):\n",
        "  stack = []\n",
        "\n",
        "  for char in s:\n",
        "    if char == '#':\n",
        "      stack.pop()\n",
        "    else:\n",
        "      stack.append(char)\n",
        "\n",
        "  return ''.join(stack)\n",
        "\n",
        "process('ab#cd#efg')"
      ],
      "metadata": {
        "colab": {
          "base_uri": "https://localhost:8080/",
          "height": 35
        },
        "id": "WChHhJ2smKoL",
        "outputId": "92006487-f066-425c-b92b-3284082ebeae"
      },
      "execution_count": null,
      "outputs": [
        {
          "output_type": "execute_result",
          "data": {
            "text/plain": [
              "'acefg'"
            ],
            "application/vnd.google.colaboratory.intrinsic+json": {
              "type": "string"
            }
          },
          "metadata": {},
          "execution_count": 41
        }
      ]
    },
    {
      "cell_type": "markdown",
      "source": [
        "### Questão 5"
      ],
      "metadata": {
        "id": "T3fkCC7VA16Y"
      }
    },
    {
      "cell_type": "code",
      "source": [
        "def fib(n, memo={}):\n",
        "    if n in memo:\n",
        "        return memo[n]\n",
        "    if n <= 1:\n",
        "        return n\n",
        "    memo[n] = fib(n - 1, memo) + fib(n - 2, memo)\n",
        "    return memo[n]\n",
        "\n",
        "fib(10)"
      ],
      "metadata": {
        "colab": {
          "base_uri": "https://localhost:8080/"
        },
        "id": "q86ZvFbPAoGL",
        "outputId": "67120e95-61f9-446a-c951-d5026f19732c"
      },
      "execution_count": null,
      "outputs": [
        {
          "output_type": "execute_result",
          "data": {
            "text/plain": [
              "55"
            ]
          },
          "metadata": {},
          "execution_count": 26
        }
      ]
    },
    {
      "cell_type": "markdown",
      "source": [
        "### Questão 6"
      ],
      "metadata": {
        "id": "49N9zxWxBUgp"
      }
    },
    {
      "cell_type": "code",
      "source": [
        "def min_coins(coins, amount):\n",
        "    # Inicializa um array para armazenar o mínimo de moedas para cada valor até amount\n",
        "    dp = [float('inf')] * (amount + 1)\n",
        "    dp[0] = 0  # zero moedas para formar o valor 0\n",
        "\n",
        "    for coin in coins:\n",
        "        for x in range(coin, amount + 1):\n",
        "            dp[x] = min(dp[x], dp[x - coin] + 1)\n",
        "\n",
        "    return dp[amount] if dp[amount] != float('inf') else -1\n",
        "\n",
        "min_coins([1, 3, 4], 6)"
      ],
      "metadata": {
        "colab": {
          "base_uri": "https://localhost:8080/"
        },
        "id": "msCh3J8sBXbt",
        "outputId": "790c76eb-7d9b-4553-ae87-9fdb9be29c73"
      },
      "execution_count": null,
      "outputs": [
        {
          "output_type": "execute_result",
          "data": {
            "text/plain": [
              "2"
            ]
          },
          "metadata": {},
          "execution_count": 27
        }
      ]
    },
    {
      "cell_type": "code",
      "source": [
        "float('inf')"
      ],
      "metadata": {
        "colab": {
          "base_uri": "https://localhost:8080/"
        },
        "id": "AudfPykePJPT",
        "outputId": "a6e1c2fa-3fb0-48b5-f81d-14b8d0ea9bb9"
      },
      "execution_count": null,
      "outputs": [
        {
          "output_type": "execute_result",
          "data": {
            "text/plain": [
              "inf"
            ]
          },
          "metadata": {},
          "execution_count": 28
        }
      ]
    },
    {
      "cell_type": "markdown",
      "source": [
        "### Questão 7"
      ],
      "metadata": {
        "id": "rSC1VWHPB7t8"
      }
    },
    {
      "cell_type": "code",
      "source": [
        "def lcs(X, Y):\n",
        "    m, n = len(X), len(Y)\n",
        "    # Cria uma matriz (m+1) x (n+1) para armazenar os resultados parciais\n",
        "    dp = [[0] * (n + 1) for _ in range(m + 1)]\n",
        "\n",
        "    # Preenche a matriz\n",
        "    for i in range(1, m + 1):\n",
        "        for j in range(1, n + 1):\n",
        "            if X[i - 1] == Y[j - 1]:\n",
        "                dp[i][j] = dp[i - 1][j - 1] + 1\n",
        "            else:\n",
        "                dp[i][j] = max(dp[i - 1][j], dp[i][j - 1])\n",
        "\n",
        "    return dp[m][n]"
      ],
      "metadata": {
        "id": "QAlyu__ICD0n"
      },
      "execution_count": null,
      "outputs": []
    },
    {
      "cell_type": "markdown",
      "source": [
        "### Questão 8"
      ],
      "metadata": {
        "id": "5PZe__hzCdbc"
      }
    },
    {
      "cell_type": "code",
      "source": [
        "def knapsack(W, weights, values):\n",
        "    n = len(weights)\n",
        "    # Cria uma matriz (n+1) x (W+1) com valores iniciais 0\n",
        "    dp = [[0] * (W + 1) for _ in range(n + 1)]\n",
        "\n",
        "    # Preenche a matriz dp\n",
        "    for i in range(1, n + 1):\n",
        "        for w in range(W + 1):\n",
        "            if weights[i - 1] <= w:\n",
        "                dp[i][w] = max(\n",
        "                    values[i - 1] + dp[i - 1][w - weights[i - 1]],  # inclui o item\n",
        "                    dp[i - 1][w]  # exclui o item\n",
        "                )\n",
        "            else:\n",
        "                dp[i][w] = dp[i - 1][w]\n",
        "\n",
        "    return dp[n][W]\n",
        "\n",
        "knapsack(50, [10, 20, 30], [60, 100, 120])"
      ],
      "metadata": {
        "colab": {
          "base_uri": "https://localhost:8080/"
        },
        "id": "4Rt8YGdvCfLp",
        "outputId": "4b0d29d9-d0d8-42a1-e392-d4f6838358a9"
      },
      "execution_count": null,
      "outputs": [
        {
          "output_type": "execute_result",
          "data": {
            "text/plain": [
              "220"
            ]
          },
          "metadata": {},
          "execution_count": 30
        }
      ]
    },
    {
      "cell_type": "markdown",
      "source": [
        "## Capítulo 11"
      ],
      "metadata": {
        "id": "z-2AeY7ZDVWa"
      }
    },
    {
      "cell_type": "markdown",
      "source": [
        "### Questão 9"
      ],
      "metadata": {
        "id": "Rcp4pvSYDPF0"
      }
    },
    {
      "cell_type": "code",
      "source": [
        "def binary_search(L, x):\n",
        "    if not L:\n",
        "        return False\n",
        "    mid = len(L) // 2\n",
        "    if L[mid] == x:\n",
        "        return True\n",
        "    elif x < L[mid]:\n",
        "        return binary_search(L[:mid], x)\n",
        "    else:\n",
        "        return binary_search(L[mid + 1:], x)\n",
        "\n",
        "print(binary_search([ 1 , 3 , 5 , 7 , 9 ] , 3))\n",
        "print(binary_search([ 1 , 3 , 5 , 7 , 9 ] , 4))"
      ],
      "metadata": {
        "colab": {
          "base_uri": "https://localhost:8080/"
        },
        "id": "MZ3WMwi_DTJd",
        "outputId": "cda7b14d-ea5c-4b57-f2c8-2f33409c6860"
      },
      "execution_count": null,
      "outputs": [
        {
          "output_type": "stream",
          "name": "stdout",
          "text": [
            "True\n",
            "False\n"
          ]
        }
      ]
    },
    {
      "cell_type": "markdown",
      "source": [
        "### Questão 10"
      ],
      "metadata": {
        "id": "gahD_rQyIuFx"
      }
    },
    {
      "cell_type": "code",
      "source": [
        "def binary_search_first(L, x):\n",
        "    low, high = 0, len(L) - 1\n",
        "    result = -1  # valor padrão para \"não encontrado\"\n",
        "\n",
        "    while low <= high:\n",
        "        mid = (low + high) // 2\n",
        "\n",
        "        if L[mid] == x:\n",
        "            result = mid      # possível primeira ocorrência\n",
        "            high = mid - 1    # continua procurando à esquerda\n",
        "        elif L[mid] < x:\n",
        "            low = mid + 1\n",
        "        else:\n",
        "            high = mid - 1\n",
        "\n",
        "    return result"
      ],
      "metadata": {
        "id": "YVJY-HfmIwVs"
      },
      "execution_count": null,
      "outputs": []
    },
    {
      "cell_type": "markdown",
      "source": [
        "### Questão 11"
      ],
      "metadata": {
        "id": "l2hhaBmoE9py"
      }
    },
    {
      "cell_type": "code",
      "source": [
        "def sqrt_binary(n):\n",
        "    if n < 2:\n",
        "        return n  # A raiz quadrada de 0 é 0 e de 1 é 1\n",
        "\n",
        "    low, high = 0, n\n",
        "    while low <= high:\n",
        "        mid = (low + high) // 2\n",
        "        square = mid * mid\n",
        "\n",
        "        if square == n:\n",
        "            return mid\n",
        "        elif square < n:\n",
        "            low = mid + 1\n",
        "        else:\n",
        "            high = mid - 1\n",
        "\n",
        "    return high  # O maior valor tal que high^2 <= n\n",
        "\n",
        "print(sqrt_binary(10))\n",
        "print(sqrt_binary(16))"
      ],
      "metadata": {
        "colab": {
          "base_uri": "https://localhost:8080/"
        },
        "id": "u5c_PeYEFACj",
        "outputId": "8f07b90b-87f2-47fb-8da8-21e44b635523"
      },
      "execution_count": null,
      "outputs": [
        {
          "output_type": "stream",
          "name": "stdout",
          "text": [
            "3\n",
            "4\n"
          ]
        }
      ]
    },
    {
      "cell_type": "markdown",
      "source": [
        "### Questão 12"
      ],
      "metadata": {
        "id": "-xmolQHvKOBj"
      }
    },
    {
      "cell_type": "code",
      "source": [
        "def find_peak(L):\n",
        "    def binary_search_peak(low, high):\n",
        "        mid = (low + high) // 2\n",
        "\n",
        "        # Verifica se mid é um pico\n",
        "        if (mid == 0 or L[mid] >= L[mid - 1]) and (mid == len(L) - 1 or L[mid] >= L[mid + 1]):\n",
        "            return mid\n",
        "        # Se o elemento da esquerda é maior, procure à esquerda\n",
        "        elif mid > 0 and L[mid - 1] > L[mid]:\n",
        "            return binary_search_peak(low, mid - 1)\n",
        "        # Caso contrário, procure à direita\n",
        "        else:\n",
        "            return binary_search_peak(mid + 1, high)\n",
        "\n",
        "    if not L:\n",
        "        return None  # lista vazia não tem pico\n",
        "    return binary_search_peak(0, len(L) - 1)\n",
        "\n",
        "\n",
        "find_peak([1, 3, 20, 4, 1, 0])"
      ],
      "metadata": {
        "colab": {
          "base_uri": "https://localhost:8080/"
        },
        "id": "YLUmS7l2FXsV",
        "outputId": "b39e44f9-ba79-4596-9b51-9878ce6d1ec3"
      },
      "execution_count": null,
      "outputs": [
        {
          "output_type": "execute_result",
          "data": {
            "text/plain": [
              "2"
            ]
          },
          "metadata": {},
          "execution_count": 34
        }
      ]
    }
  ]
}