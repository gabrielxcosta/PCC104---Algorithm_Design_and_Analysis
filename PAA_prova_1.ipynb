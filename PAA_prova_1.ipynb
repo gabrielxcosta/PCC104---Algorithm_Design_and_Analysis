{
  "nbformat": 4,
  "nbformat_minor": 0,
  "metadata": {
    "colab": {
      "provenance": [],
      "collapsed_sections": [
        "DStYWs-DR7jm",
        "CN_KticNXgcv",
        "d_-ai1y9bEzQ",
        "mBlexTV7fBEw",
        "XURT6qa5iNup",
        "kBwAPxrLsemp",
        "Eswl0cHztgu_",
        "hd44uoCQuSZN",
        "NJVHOSxxu3ad",
        "G08unStFwTAN",
        "GmQq7Sj3yA4i",
        "yGQMN4Ohzp2D",
        "0DQZrNaez9Yq",
        "CTNzblYZ01mD",
        "mxXliqxF3J6V",
        "aY5hcUCK4STP"
      ],
      "toc_visible": true
    },
    "kernelspec": {
      "name": "python3",
      "display_name": "Python 3"
    },
    "language_info": {
      "name": "python"
    }
  },
  "cells": [
    {
      "cell_type": "markdown",
      "source": [
        "# Prova 1 - 24.2"
      ],
      "metadata": {
        "id": "xY0PuT-aATNh"
      }
    },
    {
      "cell_type": "code",
      "source": [
        "def alg(n):\n",
        "  if n == 1:\n",
        "    return 1\n",
        "  else:\n",
        "    return alg(n - 1) + n ** 3\n",
        "\n",
        "def alg_iter(n):\n",
        "    S = 0\n",
        "    for i in range(1, n + 1):  # Corrigido para iterar de 1 até n\n",
        "        S += i ** 3  # Somamos i³, não n³\n",
        "    return S\n",
        "\n",
        "print(alg(4) == alg_iter(4))  # Deve retornar 1³ + 2³ + 3³ + 4³ = 100"
      ],
      "metadata": {
        "colab": {
          "base_uri": "https://localhost:8080/"
        },
        "id": "Scv0SbRHCQn9",
        "outputId": "8efa1095-7b6d-4ada-bacd-00d8411d106a"
      },
      "execution_count": null,
      "outputs": [
        {
          "output_type": "stream",
          "name": "stdout",
          "text": [
            "True\n"
          ]
        }
      ]
    },
    {
      "cell_type": "code",
      "source": [
        "def visualize_matrix(M):\n",
        "  for i in range(len(M)):\n",
        "    for j in range(len(M[0])):\n",
        "      print(M[i][j], end=' ')\n",
        "    print()\n",
        "\n",
        "def sum_matrices(A, B):\n",
        "  C = [[0 for _ in range(len(A[0]))] for _ in range(len(A))]\n",
        "\n",
        "  for i in range(len(A)):\n",
        "    for j in range(len(A[0])):\n",
        "      C[i][j] += A[i][j] + B[i][j]\n",
        "\n",
        "  return C\n",
        "\n",
        "A = [[1, 2, 3], [4, 5, 6], [7, 8, 9]]\n",
        "B = [[10, 11, 12], [13, 14, 15], [16, 17, 19]]\n",
        "\n",
        "C = sum_matrices(A, B)\n",
        "visualize_matrix(C)"
      ],
      "metadata": {
        "colab": {
          "base_uri": "https://localhost:8080/"
        },
        "id": "vNt5y-8frakB",
        "outputId": "e0be1b1a-2963-4a46-cbb7-6c346068199a"
      },
      "execution_count": null,
      "outputs": [
        {
          "output_type": "stream",
          "name": "stdout",
          "text": [
            "11 13 15 \n",
            "17 19 21 \n",
            "23 25 28 \n"
          ]
        }
      ]
    },
    {
      "cell_type": "code",
      "source": [
        "def find_missing_value(arr):\n",
        "  n = len(arr) + 1\n",
        "  tot_sum = n * (n + 1) // 2\n",
        "  act_sum = sum(arr)\n",
        "  return tot_sum - act_sum\n",
        "\n",
        "arr = [1, 2, 4, 6, 3, 7, 8]\n",
        "missing_value = find_missing_value(arr)\n",
        "print(\"Missing value:\", missing_value)"
      ],
      "metadata": {
        "colab": {
          "base_uri": "https://localhost:8080/"
        },
        "id": "9mJ2EJPYAZAw",
        "outputId": "bfa79778-a6c0-4b5f-e6c7-aa8e999c2a44"
      },
      "execution_count": null,
      "outputs": [
        {
          "output_type": "stream",
          "name": "stdout",
          "text": [
            "Missing value: 5\n"
          ]
        }
      ]
    },
    {
      "cell_type": "code",
      "source": [
        "def find_leaders(arr):\n",
        "    leaders = []\n",
        "    max_right = -float('inf')  # Inicializa com \"infinito negativo\"\n",
        "\n",
        "    # Percorre da última posição até a primeira\n",
        "    i = len(arr) - 1\n",
        "    while i >= 0:\n",
        "        if arr[i] >= max_right:\n",
        "            leaders.append(arr[i])\n",
        "            max_right = arr[i]\n",
        "        i -= 1  # Move para o elemento anterior\n",
        "\n",
        "    # Retorna a lista invertida para manter a ordem original\n",
        "    return leaders[::-1]\n",
        "\n",
        "# Exemplo de uso\n",
        "arr = [16, 17, 4, 3, 5, 2]\n",
        "print(find_leaders(arr))  # Saída: [17, 5, 2]"
      ],
      "metadata": {
        "colab": {
          "base_uri": "https://localhost:8080/"
        },
        "id": "mxtQgIxsICVJ",
        "outputId": "3d990e04-ab6a-47d3-ff74-a2ccbea1d9fd"
      },
      "execution_count": null,
      "outputs": [
        {
          "output_type": "stream",
          "name": "stdout",
          "text": [
            "[17, 5, 2]\n"
          ]
        }
      ]
    },
    {
      "cell_type": "code",
      "source": [
        "def rotate(arr, r):\n",
        "  aux = arr[-r::]\n",
        "  print(aux)\n",
        "\n",
        "def flatten(arr):\n",
        "  aux = []\n",
        "\n",
        "  for i in range(len(arr)):\n",
        "    for j in range(len(arr[i])):\n",
        "      aux.append(arr[i][j])\n",
        "\n",
        "  return aux\n",
        "\n",
        "print(flatten([[1, 2], [3, 4], [5]]))\n",
        "#print(rotate([1, 2, 3, 4, 5], 2))"
      ],
      "metadata": {
        "colab": {
          "base_uri": "https://localhost:8080/"
        },
        "id": "iGpjEfVqvYl2",
        "outputId": "23c088e3-2514-40aa-c510-92fb2fd8d46d"
      },
      "execution_count": null,
      "outputs": [
        {
          "output_type": "stream",
          "name": "stdout",
          "text": [
            "[1, 2, 3, 4, 5]\n"
          ]
        }
      ]
    },
    {
      "cell_type": "markdown",
      "source": [
        "# Lista 1"
      ],
      "metadata": {
        "id": "57GF8urtX8h9"
      }
    },
    {
      "cell_type": "markdown",
      "source": [
        "## Chapter 2 - Levitin"
      ],
      "metadata": {
        "id": "vxkhBwKOX-MF"
      }
    },
    {
      "cell_type": "markdown",
      "source": [
        "### Questão 1)"
      ],
      "metadata": {
        "id": "gRFBzh8Ee_b8"
      }
    },
    {
      "cell_type": "markdown",
      "source": [
        "- **Complexidade de Tempo**: Mede quantas operações um algoritmo executa em função da entrada $n$ (ex: $O(n)$, $O(n^2)$).  \n",
        "- **Complexidade de Espaço**: Mede a quantidade de memória extra usada pelo algoritmo em função da entrada $n$."
      ],
      "metadata": {
        "id": "u7vkRWc4fGZA"
      }
    },
    {
      "cell_type": "markdown",
      "source": [
        "### Questão 2)"
      ],
      "metadata": {
        "id": "qcPkWdVcfhOj"
      }
    },
    {
      "cell_type": "markdown",
      "source": [
        "- **Melhor Caso**: O desempenho do algoritmo quando executa a menor quantidade possível de operações (ex: entrada já ordenada em um algoritmo de ordenação).  \n",
        "- **Caso Médio**: O desempenho esperado do algoritmo para uma entrada aleatória, considerando a distribuição de probabilidades dos casos possíveis.  \n",
        "- **Pior Caso**: O desempenho máximo (mais lento) do algoritmo, ou seja, quando ele executa o maior número possível de operações."
      ],
      "metadata": {
        "id": "H94VlplTfj3d"
      }
    },
    {
      "cell_type": "markdown",
      "source": [
        "### Questão 3)"
      ],
      "metadata": {
        "id": "NKmA8iC-fxv5"
      }
    },
    {
      "cell_type": "markdown",
      "source": [
        "Os problemas de usar **unidades de tempo (segundos)** para analisar o tempo de execução de algoritmos são:  \n",
        "\n",
        "1. **Dependência do hardware**: O tempo de execução varia conforme o processador, memória e otimizações do sistema.  \n",
        "2. **Variações externas**: Fatores como carga do sistema operacional e cache afetam o tempo medido.  \n",
        "3. **Escalabilidade ruim**: Não permite comparar algoritmos de forma geral, pois diferentes máquinas podem ter tempos diferentes.  \n",
        "\n",
        "**Estratégia mais adequada**  \n",
        "A melhor abordagem é a **análise assintótica**, que usa a **notação Big-O** ($O(n)$, $O(\\log n)$, etc.). Ela mede a quantidade de operações em função do tamanho da entrada, independentemente do hardware."
      ],
      "metadata": {
        "id": "lmjh_v6Df0DL"
      }
    },
    {
      "cell_type": "markdown",
      "source": [
        "### Questão 4)"
      ],
      "metadata": {
        "id": "NyPusW_6gGi6"
      }
    },
    {
      "cell_type": "markdown",
      "source": [
        "Se o tamanho do argumento **$n$** aumentar **4 vezes** (ou seja, substituir $n$ por $4n$), o crescimento das funções será:  \n",
        "\n",
        "(a) **$\\log_2 n$** → $\\log_2 (4n) = \\log_2 4 + \\log_2 n = 2 + \\log_2 n$ → **Aumenta em 2 unidades**.  \n",
        "\n",
        "(b) **$\\sqrt{n}$** → $\\sqrt{4n} = 2\\sqrt{n}$ → **Multiplica por 2**.  \n",
        "\n",
        "(c) **$n$** → $4n$ → **Multiplica por 4**.  \n",
        "\n",
        "(d) **$n^2$** → $(4n)^2 = 16n^2$ → **Multiplica por $4^2$**.  \n",
        "\n",
        "(e) **$n^3$** → $(4n)^3 = 64n^3$ → **Multiplica por $4^3$**.  \n",
        "\n",
        "(f) **$2^n$** → $2^{4n}$ → $\\frac{2^{4n}}{2^n} = 2^{3n}$**Triplica o expoente**, ou seja, **cresce exponencialmente mais rápido**."
      ],
      "metadata": {
        "id": "3BmWXGoMgImh"
      }
    },
    {
      "cell_type": "markdown",
      "source": [
        "### Questão 5)"
      ],
      "metadata": {
        "id": "2teGNug-k66C"
      }
    },
    {
      "cell_type": "markdown",
      "source": [
        "(a) O número de multiplicações do algoritmo de **Eliminação Gaussiana** é aproximadamente $\\frac{1}{3} n^3$. Assim, a razão entre os tempos de execução para **$n = 1000$** e **$n = 500$** será:  \n",
        "\n",
        "$ \\frac{\\frac{1}{3} (1000)^3}{\\frac{1}{3} (500)^3} = \\frac{1000^3}{500^3} = \\left(\\frac{1000}{500}\\right)^3 = 2^3 = 8 $  \n",
        "\n",
        "Ou seja, **o sistema com 1000 equações levará aproximadamente 8 vezes mais tempo** que o sistema com 500 equações.  \n",
        "\n",
        "---\n",
        "\n",
        "(b) Se o novo computador for **1000 vezes mais rápido**, isso significa que ele pode realizar **1000 vezes mais operações no mesmo tempo**. Queremos determinar o novo tamanho **$n_{\\text{novo}}$** que pode ser resolvido no mesmo tempo que um sistema de tamanho **$n_{\\text{antigo}}$** no computador antigo.  \n",
        "\n",
        "Sabemos que o tempo de execução cresce como **$n^3$**, então precisamos resolver:  \n",
        "\n",
        "$ (n_{\\text{novo}})^3 = 1000 \\cdot (n_{\\text{antigo}})^3 $  \n",
        "\n",
        "Tomando a raiz cúbica em ambos os lados:  \n",
        "\n",
        "$ n_{\\text{novo}} = \\sqrt[3]{1000} \\cdot n_{\\text{antigo}} = 10 \\cdot n_{\\text{antigo}} $  \n",
        "\n",
        "Isso significa que **o novo computador permitirá resolver sistemas 10 vezes maiores no mesmo tempo**."
      ],
      "metadata": {
        "id": "4TONtT2Uk-El"
      }
    },
    {
      "cell_type": "markdown",
      "source": [
        "### Questão 6)"
      ],
      "metadata": {
        "id": "evIiaE2umI-z"
      }
    },
    {
      "cell_type": "markdown",
      "source": [
        "As notações **Big-O ($O$), Ômega ($\\Omega$) e Teta ($\\Theta$)** são usadas para descrever a complexidade assintótica de algoritmos:  \n",
        "\n",
        "- **$O(g(n))$ (Limite Superior - \"no pior caso\")**  \n",
        "  Representa um limite superior para o crescimento da função. Formalmente, uma função $f(n)$ está em $O(g(n))$ se existirem constantes positivas $c$ e $n_0$ tais que:  \n",
        "  $$ f(n) \\leq c \\cdot g(n), \\quad \\text{para todo } n \\geq n_0 $$  \n",
        "  **Exemplo:** Se um algoritmo tem complexidade $O(n^2)$, ele nunca crescerá mais rápido do que uma função proporcional a $n^2$ para entradas suficientemente grandes.  \n",
        "\n",
        "- **$\\Omega(g(n))$ (Limite Inferior - \"no melhor caso\")**  \n",
        "  Representa um limite inferior para o crescimento da função. Formalmente, $f(n)$ está em $\\Omega(g(n))$ se existirem constantes positivas $c$ e $n_0$ tais que:  \n",
        "  $$ f(n) \\geq c \\cdot g(n), \\quad \\text{para todo } n \\geq n_0 $$  \n",
        "  **Exemplo:** Se um algoritmo tem complexidade $\\Omega(n)$, ele sempre executará pelo menos um número de operações proporcional a $n$ para entradas suficientemente grandes.  \n",
        "\n",
        "- **$\\Theta(g(n))$ (Limite Exato - \"crescimento exato\")**  \n",
        "  Indica que $f(n)$ cresce na mesma taxa que $g(n)$. Formalmente, $f(n)$ está em $\\Theta(g(n))$ se existirem constantes positivas $c_1$, $c_2$ e $n_0$ tais que:  \n",
        "  $$ c_1 \\cdot g(n) \\leq f(n) \\leq c_2 \\cdot g(n), \\quad \\text{para todo } n \\geq n_0 $$  \n",
        "  **Exemplo:** Se um algoritmo tem complexidade $\\Theta(n^2)$, isso significa que ele cresce **exatamente** na ordem de $n^2$ (nem mais rápido, nem mais lento) para entradas grandes."
      ],
      "metadata": {
        "id": "AqFG7D9amKnw"
      }
    },
    {
      "cell_type": "markdown",
      "source": [
        "### Questão 7)"
      ],
      "metadata": {
        "id": "zgTrB_wLmOsU"
      }
    },
    {
      "cell_type": "markdown",
      "source": [
        "Para provar o teorema, precisamos mostrar que se $t_1(n) \\in O(g_1(n))$ e $t_2(n) \\in O(g_2(n))$, então:  \n",
        "\n",
        "$$\n",
        "t_1(n) + t_2(n) \\in O(\\max\\{g_1(n), g_2(n)\\})\n",
        "$$\n",
        "\n",
        "#### **Passo 1: Definições de Notação Big-O**  \n",
        "Pela definição de Big-O, sabemos que:  \n",
        "\n",
        "$$\n",
        "t_1(n) \\leq c_1 g_1(n), \\quad \\text{para todo } n \\geq n_1\n",
        "$$\n",
        "\n",
        "$$\n",
        "t_2(n) \\leq c_2 g_2(n), \\quad \\text{para todo } n \\geq n_2\n",
        "$$\n",
        "\n",
        "#### **Passo 2: Somando as desigualdades**  \n",
        "Se tomarmos $n_0 = \\max\\{n_1, n_2\\}$, então para todo $n \\geq n_0$, temos:  \n",
        "\n",
        "$$\n",
        "t_1(n) + t_2(n) \\leq c_1 g_1(n) + c_2 g_2(n)\n",
        "$$\n",
        "\n",
        "Como **$\\max\\{g_1(n), g_2(n)\\}$** representa a função dominante entre $g_1(n)$ e $g_2(n)$, sabemos que ambas as funções são menores ou iguais a um múltiplo de $\\max\\{g_1(n), g_2(n)\\}$, ou seja:  \n",
        "\n",
        "$$\n",
        "g_1(n) \\leq \\max\\{g_1(n), g_2(n)\\}, \\quad g_2(n) \\leq \\max\\{g_1(n), g_2(n)\\}\n",
        "$$\n",
        "\n",
        "Portanto, podemos escrever:  \n",
        "\n",
        "$$\n",
        "t_1(n) + t_2(n) \\leq c_1 \\max\\{g_1(n), g_2(n)\\} + c_2 \\max\\{g_1(n), g_2(n)\\}\n",
        "$$\n",
        "\n",
        "$$\n",
        "t_1(n) + t_2(n) \\leq (c_1 + c_2) \\max\\{g_1(n), g_2(n)\\}\n",
        "$$\n",
        "\n",
        "#### **Passo 3: Conclusão**  \n",
        "A última desigualdade mostra que $t_1(n) + t_2(n)$ está limitado superiormente por uma constante vezes $\\max\\{g_1(n), g_2(n)\\}$ para todo $n \\geq n_0$. Isso significa que:  \n",
        "\n",
        "$$\n",
        "t_1(n) + t_2(n) \\in O(\\max\\{g_1(n), g_2(n)\\})\n",
        "$$  "
      ],
      "metadata": {
        "id": "S4RtD09nnTe2"
      }
    },
    {
      "cell_type": "markdown",
      "source": [
        "### Questão 8)"
      ],
      "metadata": {
        "id": "7UjDqkzaom3R"
      }
    },
    {
      "cell_type": "markdown",
      "source": [
        "Aqui estão as equações com as modificações solicitadas:\n",
        "\n",
        "**(a) $n(n - 1), n^2$**\n",
        "\n",
        "1. **Limite:**\n",
        "\n",
        "$$\n",
        "\\lim_{n \\to \\infty} \\frac{n(n - 1)}{n^2} = 1 - \\frac{1}{n}\n",
        "$$\n",
        "\n",
        "O limite é 1, o que indica que $ n(n - 1) $ e $ n^2 $ têm o mesmo comportamento assintótico.\n",
        "\n",
        "2. **Conclusão em termos de Big-O, Theta e Omega:**\n",
        "   - Como o limite é uma constante diferente de zero, podemos concluir que:\n",
        "\n",
        "$$\n",
        "n(n - 1) \\in \\Theta(n^2)\n",
        "$$\n",
        "\n",
        "Isso significa que $ n(n - 1) $ e $ n^2 $ crescem na mesma taxa assintótica.\n",
        "\n",
        "Além disso, já que o limite é 1 e não 0, isso implica também que:\n",
        "\n",
        "$$\n",
        "n(n - 1) \\in O(n^2) \\quad \\text{e} \\quad n^2 \\in \\Omega(n(n - 1))\n",
        "$$\n",
        "\n",
        "**(b) $ \\log_2 n $ e $ \\sqrt{n} $**\n",
        "\n",
        "1. **Limite:**\n",
        "\n",
        "$$\n",
        "\\lim_{n \\to \\infty} \\frac{\\log_2 n}{\\sqrt{n}} = 0\n",
        "$$\n",
        "\n",
        "Como o limite é 0, isso indica que $ \\log_2 n $ cresce mais lentamente que $ \\sqrt{n} $.\n",
        "\n",
        "2. **Conclusão em termos de Big-O, Theta e Omega:**\n",
        "\n",
        "- Como o limite é 0, podemos concluir que:\n",
        "\n",
        "$$\n",
        "\\log_2 n \\in o(\\sqrt{n})\n",
        "$$\n",
        "\n",
        "Ou seja, $ \\log_2 n $ cresce mais lentamente que $ \\sqrt{n} $, ou seja, $ \\log_2 n $ está em uma classe de complexidade menor que $ \\sqrt{n} $.\n",
        "\n",
        "- Isso também implica:\n",
        "\n",
        "$$\n",
        "\\log_2 n \\in O(\\sqrt{n}) \\quad \\text{e} \\quad \\sqrt{n} \\in \\Omega(\\log_2 n)\n",
        "$$\n",
        "\n",
        "**(c) $ n! $ e $ 2^n $**\n",
        "\n",
        "1. **Limite:**\n",
        "\n",
        "$$\n",
        "\\lim_{n \\to \\infty} \\frac{n!}{2^n} = \\infty\n",
        "$$\n",
        "\n",
        "Como o limite é infinito, isso indica que $ n! $ cresce muito mais rapidamente que $ 2^n $.\n",
        "\n",
        "2. **Conclusão em termos de Big-O, Theta e Omega:**\n",
        "\n",
        "- Como o limite é infinito, podemos concluir que:\n",
        "\n",
        "$$\n",
        "n! \\in \\omega(2^n)\n",
        "$$\n",
        "\n",
        "Ou seja, $ n! $ cresce mais rapidamente que $ 2^n $, ou seja, $ n! $ está em uma classe de complexidade maior que $ 2^n $.\n",
        "\n",
        "- Isso também implica:\n",
        "\n",
        "$$\n",
        "2^n \\in O(n!) \\quad \\text{e} \\quad n! \\in \\Omega(2^n)\n",
        "$$\n",
        "\n",
        "**Resumo Final:**\n",
        "\n",
        "1. $ n(n - 1) $ e $ n^2 $ têm a mesma ordem de crescimento assintótica, ou seja:\n",
        "\n",
        "$$\n",
        "n(n - 1) \\in \\Theta(n^2)\n",
        "$$\n",
        "\n",
        "Além disso:\n",
        "\n",
        "$$\n",
        "n(n - 1) \\in O(n^2) \\quad \\text{e} \\quad n^2 \\in \\Omega(n(n - 1))\n",
        "$$\n",
        "\n",
        "2. $ \\log_2 n $ cresce mais lentamente que $ \\sqrt{n} $, ou seja:\n",
        "\n",
        "$$\n",
        "\\log_2 n \\in o(\\sqrt{n})\n",
        "$$\n",
        "\n",
        "E também:\n",
        "\n",
        "$$\n",
        "\\log_2 n \\in O(\\sqrt{n}) \\quad \\text{e} \\quad \\sqrt{n} \\in \\Omega(\\log_2 n)\n",
        "$$\n",
        "\n",
        "3. $ n! $ cresce muito mais rapidamente que $ 2^n $, ou seja:\n",
        "\n",
        "$$\n",
        "n! \\in \\omega(2^n)\n",
        "$$\n",
        "\n",
        "E também:\n",
        "\n",
        "$$\n",
        "2^n \\in O(n!) \\quad \\text{e} \\quad n! \\in \\Omega(2^n)\n",
        "$$"
      ],
      "metadata": {
        "id": "6VD5WWu9ospr"
      }
    },
    {
      "cell_type": "markdown",
      "source": [
        "### Questão 9"
      ],
      "metadata": {
        "id": "ZLU8mMhNu2xv"
      }
    },
    {
      "cell_type": "markdown",
      "source": [
        "Aqui está a revisão das equações com as modificações solicitadas, utilizando `$$` para as equações:\n",
        "\n",
        "(a) $ \\frac{n(n + 1)}{2} \\in O(n^3) $\n",
        "\n",
        "**Definição de Big-O:**\n",
        "Uma função $ f(n) \\in O(g(n)) $ se existem constantes positivas $ c $ e $ n_0 $ tais que:\n",
        "\n",
        "$$\n",
        "f(n) \\leq c \\cdot g(n) \\quad \\text{para todo } n \\geq n_0\n",
        "$$\n",
        "\n",
        "Aqui, temos que $ f(n) = \\frac{n(n + 1)}{2} $, que é uma função de ordem $ O(n^2) $, e $ g(n) = n^3 $. Sabemos que $ n^3 $ cresce mais rapidamente que $ n^2 $, então, existe uma constante $ c $ tal que:\n",
        "\n",
        "$$\n",
        "\\frac{n(n + 1)}{2} \\leq c \\cdot n^3 \\quad \\text{para algum } n_0\n",
        "$$\n",
        "\n",
        "**Conclusão:** Esta afirmação é **verdadeira**. A função quadrática está, de fato, limitada por $ O(n^3) $.\n",
        "\n",
        "(b) $ \\frac{n(n + 1)}{2} \\in \\Theta(n^3) $\n",
        "\n",
        "**Definição de Theta:**\n",
        "Uma função $ f(n) \\in \\Theta(g(n)) $ se existem constantes positivas $ c_1 $, $ c_2 $ e $ n_0 $ tais que:\n",
        "\n",
        "$$\n",
        "c_1 \\cdot g(n) \\leq f(n) \\leq c_2 \\cdot g(n) \\quad \\text{para todo } n \\geq n_0\n",
        "$$\n",
        "\n",
        "Aqui, $ f(n) = \\frac{n(n + 1)}{2} $ e $ g(n) = n^3 $. Como $ f(n) $ é uma função quadrática e $ g(n) $ é cúbica, não podemos encontrar constantes $ c_1 $ e $ c_2 $ tais que $ f(n) $ esteja entre essas duas constantes multiplicadas por $ n^3 $ para $ n $ suficientemente grande.\n",
        "\n",
        "**Conclusão:** Esta afirmação é **falsa**. A função quadrática não está em $ \\Theta(n^3) $, pois a ordem de crescimento de $ n^3 $ é maior.\n",
        "\n",
        "(c) $ \\frac{n(n + 1)}{2} \\in O(n^2) $\n",
        "\n",
        "**Definição de Big-O:**\n",
        "Novamente, temos $ f(n) = \\frac{n(n + 1)}{2} $, que é uma função quadrática, e $ g(n) = n^2 $. Como $ f(n) $ é de ordem $ O(n^2) $, podemos facilmente ver que existe uma constante $ c $ tal que:\n",
        "\n",
        "$$\n",
        "\\frac{n(n + 1)}{2} \\leq c \\cdot n^2 \\quad \\text{para algum } n_0\n",
        "$$\n",
        "\n",
        "**Conclusão:** Esta afirmação é **verdadeira**. A função $ \\frac{n(n + 1)}{2} $ está em $ O(n^2) $, pois seu crescimento é quadrático.\n",
        "\n",
        "(d) $ \\frac{n(n + 1)}{2} \\in \\Omega(n) $\n",
        "\n",
        "**Definição de Omega:**\n",
        "Uma função $ f(n) \\in \\Omega(g(n)) $ se existem constantes positivas $ c $ e $ n_0 $ tais que:\n",
        "\n",
        "$$\n",
        "f(n) \\geq c \\cdot g(n) \\quad \\text{para todo } n \\geq n_0\n",
        "$$\n",
        "\n",
        "Aqui, $ f(n) = \\frac{n(n + 1)}{2} $, que é uma função quadrática, e $ g(n) = n $. Sabemos que $ \\frac{n(n + 1)}{2} $ é uma função de ordem $ O(n^2) $, ou seja, cresce mais rápido que $ n $. Assim, existe uma constante $ c $ tal que:\n",
        "\n",
        "$$\n",
        "\\frac{n(n + 1)}{2} \\geq c \\cdot n \\quad \\text{para todo } n \\geq n_0\n",
        "$$\n",
        "\n",
        "**Conclusão:** Esta afirmação é **verdadeira**. A função quadrática está em $ \\Omega(n) $, pois cresce mais rapidamente do que $ n $ para grandes valores de $ n $.\n",
        "\n",
        "Resumo:\n",
        "\n",
        "- **(a)** $ \\frac{n(n + 1)}{2} \\in O(n^3) $: **Verdadeiro**\n",
        "- **(b)** $ \\frac{n(n + 1)}{2} \\in \\Theta(n^3) $: **Falso**\n",
        "- **(c)** $ \\frac{n(n + 1)}{2} \\in O(n^2) $: **Verdadeiro**\n",
        "- **(d)** $ \\frac{n(n + 1)}{2} \\in \\Omega(n) $: **Verdadeiro**"
      ],
      "metadata": {
        "id": "qjLUa9ucu4iK"
      }
    },
    {
      "cell_type": "markdown",
      "source": [
        "### Questão 10"
      ],
      "metadata": {
        "id": "KIQ7nG53yTJE"
      }
    },
    {
      "cell_type": "markdown",
      "source": [
        "$$\\lim_{n \\to \\infty} \\frac{p(n)}{n^k} = \\lim_{n \\to \\infty} \\frac{a_k n^k + a_{k-1} n^{k-1} + \\ ... \\ +a_0}{n^k} = \\lim_{n \\to \\infty} a^k + \\frac{a^{k-1}}{n} + \\frac{a^{k-2}}{n^2} + \\ ... \\ + \\frac{a_0}{n^k}$$\n",
        "\n",
        "$$\\therefore p(n) \\in \\Theta(n^k)$$"
      ],
      "metadata": {
        "id": "deXQ60xKyakH"
      }
    },
    {
      "cell_type": "markdown",
      "source": [
        "### Questão 11)"
      ],
      "metadata": {
        "id": "6HDR8vXw17_l"
      }
    },
    {
      "cell_type": "markdown",
      "source": [
        "Para provar que funções exponenciais $ a^n $, para diferentes valores de $ a > 0 $, têm diferentes ordens de crescimento, vamos analisar o limite:\n",
        "\n",
        "$$\n",
        "\\lim_{n \\to \\infty} \\frac{a_1^n}{a_2^n}\n",
        "$$\n",
        "\n",
        "onde $ a_1 $ e $ a_2 $ são constantes positivas e $ a_1 \\neq a_2 $.\n",
        "\n",
        "Passo 1: Simplificação da expressão\n",
        "Podemos reescrever a expressão da seguinte forma:\n",
        "\n",
        "$$\n",
        "\\frac{a_1^n}{a_2^n} = \\left( \\frac{a_1}{a_2} \\right)^n\n",
        "$$\n",
        "\n",
        "Isso mostra que o limite que precisamos analisar é:\n",
        "\n",
        "$$\n",
        "\\lim_{n \\to \\infty} \\left( \\frac{a_1}{a_2} \\right)^n\n",
        "$$\n",
        "\n",
        "Passo 2: Análise dos diferentes casos\n",
        "\n",
        "Agora, vamos considerar os diferentes casos com base na relação entre $ a_1 $ e $ a_2 $.\n",
        "\n",
        "Caso 1: $ a_1 > a_2 $\n",
        "\n",
        "Se $ a_1 > a_2 $, então $ \\frac{a_1}{a_2} > 1 $. Portanto, o termo $ \\left( \\frac{a_1}{a_2} \\right)^n $ cresce exponencialmente à medida que $ n $ aumenta. Em termos de limite, temos:\n",
        "\n",
        "$$\n",
        "\\lim_{n \\to \\infty} \\left( \\frac{a_1}{a_2} \\right)^n = \\infty\n",
        "$$\n",
        "\n",
        "Isso significa que $ a_1^n $ cresce mais rápido do que $ a_2^n $ quando $ a_1 > a_2 $.\n",
        "\n",
        "Caso 2: $ a_1 < a_2 $\n",
        "\n",
        "Se $ a_1 < a_2 $, então $ \\frac{a_1}{a_2} < 1 $. Neste caso, o termo $ \\left( \\frac{a_1}{a_2} \\right)^n $ decai para zero à medida que $ n $ aumenta. O limite é:\n",
        "\n",
        "$$\n",
        "\\lim_{n \\to \\infty} \\left( \\frac{a_1}{a_2} \\right)^n = 0\n",
        "$$\n",
        "\n",
        "Isso significa que $ a_1^n $ cresce mais lentamente que $ a_2^n $ quando $ a_1 < a_2 $.\n",
        "\n",
        "Caso 3: $ a_1 = a_2 $\n",
        "\n",
        "Se $ a_1 = a_2 $, então $ \\frac{a_1}{a_2} = 1 $, e o limite se torna:\n",
        "\n",
        "$$\n",
        "\\lim_{n \\to \\infty} 1^n = 1\n",
        "$$\n",
        "\n",
        "Nesse caso, $ a_1^n $ e $ a_2^n $ crescem na mesma taxa, e o comportamento das funções é idêntico.\n",
        "\n",
        "Passo 3: Conclusão\n",
        "\n",
        "A análise do limite $ \\lim_{n \\to \\infty} \\frac{a_1^n}{a_2^n} $ mostra que:\n",
        "\n",
        "- Se $ a_1 > a_2 $, então $ a_1^n $ cresce mais rápido que $ a_2^n $.\n",
        "- Se $ a_1 < a_2 $, então $ a_1^n $ cresce mais devagar que $ a_2^n $.\n",
        "- Se $ a_1 = a_2 $, então $ a_1^n $ e $ a_2^n $ crescem na mesma taxa.\n",
        "\n",
        "Isso prova que funções exponenciais com diferentes bases $ a_1 $ e $ a_2 $ têm ordens de crescimento diferentes, dependendo do valor de $ a_1 $ e $ a_2 $."
      ],
      "metadata": {
        "id": "0Gw1a8he19zo"
      }
    },
    {
      "cell_type": "markdown",
      "source": [
        "### Questão 12)"
      ],
      "metadata": {
        "id": "WbR1dyrJPxpL"
      }
    },
    {
      "cell_type": "markdown",
      "source": [
        "#### **Algoritmo 1: Mystery(n)**\n",
        "```plaintext\n",
        "ALGORITHM Mystery(n)\n",
        "//Input: A nonnegative integer n\n",
        "S ← 0\n",
        "for i ← 1 to n do\n",
        "    S ← S + i * i\n",
        "return S\n",
        "```\n",
        "\n",
        "**(a) O que este algoritmo computa?**  \n",
        "O algoritmo calcula a soma dos quadrados dos primeiros $ n $ números naturais, ou seja:  \n",
        "$\n",
        "S = 1^2 + 2^2 + 3^2 + \\dots + n^2\n",
        "$\n",
        "\n",
        "**(b) Qual a operação básica deste algoritmo?**  \n",
        "A operação básica é a multiplicação `i * i` (ou a adição `S + i * i`).\n",
        "\n",
        "**(c) Quantas vezes esta operação básica é executada?**  \n",
        "A operação é executada $ n $ vezes, uma vez para cada iteração do loop.\n",
        "\n",
        "**(d) Qual a classe deste algoritmo em relação à eficiência?**  \n",
        "O algoritmo tem complexidade de tempo $ O(n) $ (linear).\n",
        "\n",
        "**(e) Sugira alguma melhora ou um novo algoritmo melhor:**  \n",
        "Uma melhoria seria utilizar a fórmula matemática para a soma dos quadrados:  \n",
        "$\n",
        "S = \\frac{n(n + 1)(2n + 1)}{6}\n",
        "$  \n",
        "Isso reduziria a complexidade para $ O(1) $ (constante), pois o cálculo seria direto sem loops.\n",
        "\n",
        "---\n",
        "\n",
        "#### **Algoritmo 2: Secret(A[0..n-1])**\n",
        "```plaintext\n",
        "ALGORITHM Secret(A[0..n-1])\n",
        "//Input: An array A[0..n-1] of n real numbers\n",
        "minval ← A[0]; maxval ← A[0]\n",
        "for i ← 1 to n-1 do\n",
        "    if A[i] < minval\n",
        "        minval ← A[i]\n",
        "    if A[i] > maxval\n",
        "        maxval ← A[i]\n",
        "return maxval - minval\n",
        "```\n",
        "\n",
        "**(a) O que este algoritmo computa?**  \n",
        "O algoritmo calcula a amplitude (diferença entre o maior e o menor valor) de um array.\n",
        "\n",
        "**(b) Qual a operação básica deste algoritmo?**  \n",
        "A operação básica é a comparação `A[i] < minval` ou `A[i] > maxval`.\n",
        "\n",
        "**(c) Quantas vezes esta operação básica é executada?**  \n",
        "São feitas $ 2(n - 1) $ comparações (duas por elemento, exceto o primeiro).\n",
        "\n",
        "**(d) Qual a classe deste algoritmo em relação à eficiência?**  \n",
        "O algoritmo tem complexidade $ O(n) $ (linear), pois percorre o array uma vez.\n",
        "\n",
        "**(e) Sugira alguma melhora ou um novo algoritmo melhor:**  \n",
        "Não é possível melhorar a complexidade assintótica, pois qualquer algoritmo que precise verificar todos os elementos terá $ O(n) $.  \n",
        "Uma pequena otimização seria reduzir o número de comparações por iteração, mas ainda seria $ O(n) $.\n",
        "\n",
        "---\n",
        "\n",
        "#### **Algoritmo 3: Enigma(A[0..n-1, 0..n-1])**\n",
        "```plaintext\n",
        "ALGORITHM Enigma(A[0..n-1, 0..n-1])\n",
        "//Input: A matrix A[0..n-1, 0..n-1] of real numbers\n",
        "for i ← 0 to n-2 do\n",
        "    for j ← i+1 to n-1 do\n",
        "        if A[i, j] ≠ A[j, i]\n",
        "            return false\n",
        "return true\n",
        "```\n",
        "\n",
        "**(a) O que este algoritmo computa?**  \n",
        "O algoritmo verifica se uma matriz quadrada é simétrica (ou seja, $ A[i, j] = A[j, i] $ para todo $ i, j $).\n",
        "\n",
        "**(b) Qual a operação básica deste algoritmo?**  \n",
        "A operação básica é a comparação `A[i, j] ≠ A[j, i]`.\n",
        "\n",
        "**(c) Quantas vezes esta operação básica é executada?**  \n",
        "O número de comparações é:  \n",
        "$\n",
        "\\sum_{i=0}^{n-2} (n - 1 - i) = \\frac{n(n - 1)}{2}\n",
        "$  \n",
        "(metade dos elementos fora da diagonal principal).\n",
        "\n",
        "**(d) Qual a classe deste algoritmo em relação à eficiência?**  \n",
        "O algoritmo tem complexidade $ O(n^2) $ (quadrática), pois percorre metade da matriz.\n",
        "\n",
        "**(e) Sugira alguma melhora ou um novo algoritmo melhor:**  \n",
        "Não é possível reduzir a complexidade assintótica, pois todas as entradas relevantes devem ser verificadas.  \n",
        "Uma pequena otimização seria interromper o loop assim que uma desigualdade for encontrada, mas no pior caso ainda seria $ O(n^2) $.\n",
        "\n",
        "---\n",
        "\n",
        "### **Resumo das Classes de Eficiência:**\n",
        "| Algoritmo | Operação Básica       | Nº de Execuções | Complexidade |\n",
        "|-----------|-----------------------|-----------------|--------------|\n",
        "| Mystery   | Multiplicação (`i*i`) | $ n $         | $ O(n) $   |\n",
        "| Secret    | Comparação (`A[i] <>`) | $ 2(n-1) $    | $ O(n) $   |\n",
        "| Enigma    | Comparação (`A[i,j]`) | $ \\frac{n(n-1)}{2} $ | $ O(n^2) $ |"
      ],
      "metadata": {
        "id": "YJM-sgjjPz9y"
      }
    },
    {
      "cell_type": "markdown",
      "source": [
        "### Questão 14)"
      ],
      "metadata": {
        "id": "janBy9Bsc7i3"
      }
    },
    {
      "cell_type": "code",
      "source": [
        "def alg(n):\n",
        "    # Caso base\n",
        "    if n == 0:\n",
        "        return 1\n",
        "    # Passo recursivo\n",
        "    return 2 * alg(n - 1)\n",
        "\n",
        "# Testando o algoritmo\n",
        "n = 3\n",
        "resultado = alg(n)\n",
        "print(f\"2^{n} = {resultado}\")"
      ],
      "metadata": {
        "colab": {
          "base_uri": "https://localhost:8080/"
        },
        "id": "D-1Ajcv1c_v8",
        "outputId": "3eca2881-a3af-49e5-8d11-c91614720bf9"
      },
      "execution_count": null,
      "outputs": [
        {
          "output_type": "stream",
          "name": "stdout",
          "text": [
            "2^3 = 8\n"
          ]
        }
      ]
    },
    {
      "cell_type": "markdown",
      "source": [
        "### Questão 15)"
      ],
      "metadata": {
        "id": "AqQtGep2gwf0"
      }
    },
    {
      "cell_type": "markdown",
      "source": [
        "#### **Algoritmo: Riddle(A[0..n-1])**\n",
        "```plaintext\n",
        "ALGORITHM Riddle(A[0..n-1])\n",
        "//Input: An array A[0..n-1] of real numbers\n",
        "if n = 1\n",
        "    return A[0]\n",
        "else\n",
        "    temp ← Riddle(A[0..n-2])\n",
        "    if temp ≤ A[n-1]\n",
        "        return temp\n",
        "    else\n",
        "        return A[n-1]\n",
        "```\n",
        "\n",
        "---\n",
        "\n",
        "#### **(a) O que este algoritmo faz?**\n",
        "O algoritmo **encontra o menor elemento** em um array de números reais.  \n",
        "- **Caso base (`n = 1`)**: Retorna o único elemento do array.  \n",
        "- **Passo recursivo**: Compara o menor elemento do subarray `A[0..n-2]` (calculado recursivamente) com o último elemento `A[n-1]` e retorna o menor entre os dois.\n",
        "\n",
        "**Exemplo**:  \n",
        "Para `A = [3, 1, 4, 2]`:  \n",
        "- Chama `Riddle([3, 1, 4])`, que retorna `1` (menor entre `3`, `1`, `4`).  \n",
        "- Compara `1` (temp) com `2` (último elemento) e retorna `1`.\n",
        "\n",
        "---\n",
        "\n",
        "#### **(b) Relação de recorrência e solução**\n",
        "\n",
        "**(i) Operação básica**:  \n",
        "A comparação `temp ≤ A[n-1]` (ou a atribuição de `temp`).  \n",
        "\n",
        "**(ii) Relação de recorrência**:  \n",
        "Seja \\( C(n) \\) o número de operações básicas para um array de tamanho \\( n \\):  \n",
        "- **Caso base**: \\( C(1) = 0 \\) (nenhuma comparação).  \n",
        "- **Passo recursivo**: \\( C(n) = C(n-1) + 1 \\), onde:  \n",
        "  - \\( C(n-1) \\): Chamada recursiva para `A[0..n-2]`.  \n",
        "  - \\( +1 \\): Comparação entre `temp` e `A[n-1]`.  \n",
        "\n",
        "**(iii) Resolução da recorrência**:  \n",
        "A recorrência é linear e homogênea. Podemos expandir:  \n",
        "\\[\n",
        "C(n) = C(n-1) + 1 = C(n-2) + 1 + 1 = \\dots = C(1) + (n-1) = 0 + (n-1) = n-1.\n",
        "\\]  \n",
        "Portanto, \\( C(n) = n - 1 \\).\n",
        "\n",
        "**(iv) Complexidade**:  \n",
        "O algoritmo executa \\( n-1 \\) comparações no total, logo sua complexidade é \\( O(n) \\).\n",
        "\n",
        "---\n",
        "\n",
        "#### **(c) Observações**\n",
        "- **Eficiência**: O algoritmo é eficiente para encontrar o mínimo em \\( O(n) \\), que é ótimo para o problema (todo algoritmo deve verificar todos os elementos no pior caso).  \n",
        "- **Melhorias**:  \n",
        "  - **Versão iterativa**: Pode ser reescrito sem recursão (evitando overhead de chamadas), mas mantendo \\( O(n) \\).  \n",
        "  - **Paralelização**: Em ambientes paralelos, divisão do array em subarrays pode acelerar, mas a complexidade assintótica permanece \\( O(n) \\).\n",
        "\n",
        "---\n",
        "\n",
        "### **Resumo Final**\n",
        "| Item               | Resposta                                                                 |\n",
        "|--------------------|--------------------------------------------------------------------------|\n",
        "| **Função**         | Encontra o menor elemento em um array.                                  |\n",
        "| **Operação básica**| Comparação `temp ≤ A[n-1]`.                                             |\n",
        "| **Relação**        | \\( C(n) = C(n-1) + 1 \\), com \\( C(1) = 0 \\).                           |\n",
        "| **Solução**        | \\( C(n) = n - 1 \\).                                                    |\n",
        "| **Complexidade**   | \\( O(n) \\) (linear).                                                   |"
      ],
      "metadata": {
        "id": "TbuiTJM2gy6B"
      }
    },
    {
      "cell_type": "markdown",
      "source": [
        "### Questão 16)"
      ],
      "metadata": {
        "id": "6zwCjplphbEG"
      }
    },
    {
      "cell_type": "markdown",
      "source": [
        "#### **Algoritmo: GraphComplete(A[0..n-1, 0..n-1])**\n",
        "```plaintext\n",
        "ALGORITHM GraphComplete(A[0..n-1, 0..n-1])\n",
        "//Input: Adjacency matrix A[0..n-1, 0..n-1] of an undirected graph G\n",
        "//Output: 1 (true) if G is complete, 0 (false) otherwise\n",
        "if n = 1\n",
        "    return 1  // Um grafo com 1 vértice é completo por definição\n",
        "else\n",
        "    if not GraphComplete(A[0..n-2, 0..n-2])\n",
        "        return 0\n",
        "    else\n",
        "        for j ← 0 to n-2 do\n",
        "            if A[n-1, j] = 0\n",
        "                return 0\n",
        "        return 1\n",
        "```\n",
        "\n",
        "---\n",
        "\n",
        "#### **(a) O que o algoritmo faz?**\n",
        "O algoritmo verifica se um grafo não direcionado (representado por sua **matriz de adjacência**) é **completo**.  \n",
        "- Um grafo completo tem uma aresta entre todo par de vértices distintos (ou seja, \\( A[i, j] = 1 \\) para todo \\( i \\neq j \\)).  \n",
        "- O algoritmo usa **recursão** para verificar a completude:  \n",
        "  1. **Caso base**: Grafo com 1 vértice é trivialmente completo.  \n",
        "  2. **Passo recursivo**:  \n",
        "     - Verifica se o subgrafo \\( A[0..n-2, 0..n-2] \\) é completo.  \n",
        "     - Se for, verifica se o vértice \\( n-1 \\) está conectado a todos os outros vértices \\( 0 \\) a \\( n-2 \\).\n",
        "\n",
        "---\n",
        "\n",
        "#### **(b) Operação básica**  \n",
        "A operação básica é a **comparação** `A[n-1, j] = 0` (verificação de ausência de aresta).\n",
        "\n",
        "---\n",
        "\n",
        "#### **(c) Número de operações básicas**  \n",
        "Seja \\( T(n) \\) o número de operações para uma matriz \\( n \\times n \\):  \n",
        "- **Caso base**: \\( T(1) = 0 \\) (nenhuma comparação).  \n",
        "- **Passo recursivo**:  \n",
        "  - Chamada recursiva para \\( T(n-1) \\).  \n",
        "  - Loop para verificar arestas do vértice \\( n-1 \\): \\( n-1 \\) comparações.  \n",
        "\n",
        "**Relação de recorrência**:  \n",
        "\\[\n",
        "T(n) = T(n-1) + (n-1), \\quad T(1) = 0\n",
        "\\]\n",
        "\n",
        "**Resolução**:  \n",
        "Expandindo a recorrência:  \n",
        "\\[\n",
        "T(n) = T(n-1) + (n-1) = T(n-2) + (n-2) + (n-1) = \\dots = \\sum_{k=1}^{n-1} k = \\frac{n(n-1)}{2}.\n",
        "\\]  \n",
        "Portanto, \\( T(n) = \\frac{n(n-1)}{2} \\).\n",
        "\n",
        "---\n",
        "\n",
        "#### **(d) Classe de eficiência no pior caso**  \n",
        "- **Número total de comparações**: \\( \\frac{n(n-1)}{2} \\) (equivalente a verificar todas as entradas acima da diagonal principal).  \n",
        "- **Complexidade**: \\( O(n^2) \\) (quadrática), pois:  \n",
        "  \\[\n",
        "  \\frac{n(n-1)}{2} \\in \\Theta(n^2).\n",
        "  \\]\n",
        "\n",
        "---\n",
        "\n",
        "#### **(e) Melhorias possíveis**  \n",
        "1. **Abordagem iterativa**:  \n",
        "   - Evitar overhead de recursão usando loops aninhados para verificar \\( A[i, j] = 1 \\) para \\( i \\neq j \\).  \n",
        "   - Complexidade permanece \\( O(n^2) \\), mas reduz custos constantes.  \n",
        "\n",
        "2. **Paralelização**:  \n",
        "   - Verificar arestas em paralelo (em hardware apropriado), mas a complexidade assintótica não muda.  \n",
        "\n",
        "3. **Otimização para grafos esparsos**:  \n",
        "   - Se o grafo é representado por lista de adjacências, pode-se interromper a verificação assim que um vértice com grau \\( \\neq n-1 \\) for encontrado.  \n",
        "   - **No entanto**, para matriz de adjacência, a verificação \\( O(n^2) \\) é inevitável no pior caso.\n",
        "\n",
        "---\n",
        "\n",
        "### **Resumo Final**\n",
        "| Item               | Resposta                                                                 |\n",
        "|--------------------|--------------------------------------------------------------------------|\n",
        "| **Função**         | Verifica se um grafo não direcionado é completo.                        |\n",
        "| **Operação básica**| Comparação `A[i, j] = 0`.                                              |\n",
        "| **Nº de operações**| \\( \\frac{n(n-1)}{2} \\) (triangular).                                   |\n",
        "| **Complexidade**   | \\( O(n^2) \\) (quadrática).                                             |\n",
        "| **Melhorias**      | Iteração sem recursão, mas mantendo \\( O(n^2) \\).                       |\n",
        "\n",
        "**Conclusão**: O algoritmo é ótimo para matriz de adjacência, pois qualquer solução exige verificar \\( \\Omega(n^2) \\) entradas no pior caso."
      ],
      "metadata": {
        "id": "H2EYO9hkhgKZ"
      }
    },
    {
      "cell_type": "markdown",
      "source": [
        "# Lista 2"
      ],
      "metadata": {
        "id": "WDVJD2lCR5BR"
      }
    },
    {
      "cell_type": "markdown",
      "source": [
        "## Chapter 2 - Apostila"
      ],
      "metadata": {
        "id": "EzXwdVFdfcyG"
      }
    },
    {
      "cell_type": "markdown",
      "source": [
        "### Questão 3)"
      ],
      "metadata": {
        "id": "DStYWs-DR7jm"
      }
    },
    {
      "cell_type": "code",
      "execution_count": null,
      "metadata": {
        "colab": {
          "base_uri": "https://localhost:8080/"
        },
        "id": "DqL-YDe5R4Qg",
        "outputId": "4c232864-b63b-45d5-b9db-317cf8a5a2c3"
      },
      "outputs": [
        {
          "output_type": "stream",
          "name": "stdout",
          "text": [
            "[2, 3, 5, 7, 11]\n",
            "\n",
            "[1, 3, 5]\n",
            "\n",
            "45\n",
            "\n",
            "[1, 2, 3, 4, 5]\n",
            "\n",
            "[4, 5, 1, 2, 3]\n",
            "\n",
            "{1: 2, 2: 1, 3: 3, 4: 1}\n"
          ]
        }
      ],
      "source": [
        "# Alternativa a\n",
        "# 1. Usamos list comprehension para gerar uma lista de números primos no intervalo de 2 a 11.\n",
        "# 2. A condição all(x % d != 0 for d in range(2, int(x ** 0.5) + 1)) verifica se um número x é primo:\n",
        "#   - Um número é primo se não for divisível por nenhum outro número além de 1 e ele mesmo.\n",
        "#   - Para eficiência, testamos apenas divisores até int(x ** 0.5) + 1, pois se x tiver um fator maior que sua raiz quadrada,\n",
        "#     ele terá um fator menor também.\n",
        "# 3. O range range(2, 12) foi escolhido para incluir os cinco primeiros números primos [2, 3, 5, 7, 11].\n",
        "fst_primes = [x for x in range(2, 12)\n",
        "              if all(x % d != 0 for d in range(2, int(x ** 0.5) + 1))]\n",
        "\n",
        "print(fst_primes)\n",
        "\n",
        "print()\n",
        "\n",
        "# Alternativa b\n",
        "def remove_even_numbers(array):\n",
        "  return [array[i] for i in range(len(array)) if array[i] % 2 != 0]\n",
        "\n",
        "print(remove_even_numbers([1, 2, 3, 4, 5, 6]))\n",
        "\n",
        "print()\n",
        "\n",
        "# Alternativa c\n",
        "def find_second_largest(array):\n",
        "    largest = second_largest = float('-inf')  # Inicializamos com um valor muito pequeno\n",
        "\n",
        "    for num in array:\n",
        "        if num > largest:\n",
        "            second_largest = largest  # Atualiza o segundo maior número\n",
        "            largest = num  # Atualiza o maior número\n",
        "        elif num > second_largest and num != largest:\n",
        "            second_largest = num  # Atualiza apenas o segundo maior número\n",
        "\n",
        "    if second_largest == float('-inf'):\n",
        "        raise ValueError(\"Todos os elementos do array são iguais.\")\n",
        "\n",
        "    return second_largest\n",
        "\n",
        "print(find_second_largest([10, 20, 4, 45, 99]))\n",
        "\n",
        "print()\n",
        "\n",
        "# Alternativa d\n",
        "def flatten_nested_list(array):\n",
        "    return [item for sublist in array for item in sublist]\n",
        "\n",
        "print(flatten_nested_list([[1, 2], [3, 4], [5]]))\n",
        "\n",
        "print()\n",
        "\n",
        "# Alternativa e\n",
        "def rotate_list(array, pos):\n",
        "    return [array[(i - pos) % len(array)] for i in range(len(array))]\n",
        "\n",
        "print(rotate_list([1, 2, 3, 4, 5], 2))\n",
        "\n",
        "print()\n",
        "\n",
        "# Alternativa f\n",
        "def count_occurrences(array):\n",
        "    counts = {}\n",
        "    for item in array:\n",
        "        counts[item] = counts.get(item, 0) + 1 # Se 'item' já existe no dicionário 'counts', incrementa seu valor em 1.\n",
        "                                              # Caso contrário, 'get(item, 0)' retorna 0 (valor padrão), e o item é adicionado com valor 1.\n",
        "    return counts\n",
        "\n",
        "print(count_occurrences([1, 1, 2, 3, 3, 3, 4]))"
      ]
    },
    {
      "cell_type": "markdown",
      "source": [
        "### Questão 4"
      ],
      "metadata": {
        "id": "CN_KticNXgcv"
      }
    },
    {
      "cell_type": "code",
      "source": [
        "# Alternativa a\n",
        "def convert_list_of_tuples_to_dict(array_of_tuples):\n",
        "  return dict(array_of_tuples)\n",
        "\n",
        "print(convert_list_of_tuples_to_dict([(1,'a'), (2, 'b'), (3, 'c')]))\n",
        "\n",
        "print()\n",
        "\n",
        "# Alternativa b\n",
        "def swap_fst_and_lst_element(tup):\n",
        "  return (tup[-1], *tup[1:-1], tup[0])\n",
        "\n",
        "print(swap_fst_and_lst_element((1, 2, 3, 4, 5)))\n",
        "\n",
        "print()\n",
        "\n",
        "# Alternativa c\n",
        "def find_minmax_tuple(tup):\n",
        "    min_value, max_value = tup[0], tup[0]  # Inicializa com o primeiro elemento\n",
        "\n",
        "    for num in tup:  # Percorre a tupla\n",
        "        if num < min_value:\n",
        "            min_value = num  # Atualiza o menor valor\n",
        "        if num > max_value:\n",
        "            max_value = num  # Atualiza o maior valor\n",
        "\n",
        "    return (max_value, min_value)\n",
        "\n",
        "print(find_minmax_tuple((4, 7, 1, 9)))\n",
        "\n",
        "print()\n",
        "\n",
        "# Alternativa d\n",
        "def concatenate_tuple_into_str(tup):\n",
        "  string = ''\n",
        "  for char in tup:\n",
        "    string += str(char)\n",
        "  return string\n",
        "\n",
        "print(concatenate_tuple_into_str((1, 2, 3, 4)))"
      ],
      "metadata": {
        "colab": {
          "base_uri": "https://localhost:8080/"
        },
        "id": "D1_F6AlfXfV2",
        "outputId": "cea3101f-d4fe-4b6f-8896-eac434c54d5e"
      },
      "execution_count": null,
      "outputs": [
        {
          "output_type": "stream",
          "name": "stdout",
          "text": [
            "{1: 'a', 2: 'b', 3: 'c'}\n",
            "\n",
            "(5, 2, 3, 4, 1)\n",
            "\n",
            "(9, 1)\n",
            "\n",
            "1234\n"
          ]
        }
      ]
    },
    {
      "cell_type": "markdown",
      "source": [
        "### Questão 5"
      ],
      "metadata": {
        "id": "d_-ai1y9bEzQ"
      }
    },
    {
      "cell_type": "code",
      "source": [
        "# Alternativa a\n",
        "def merge_dicts_sum_values(dict1, dict2):\n",
        "    # Merge dictionaries, summing values of common keys\n",
        "    merged_dict = dict1.copy()  # Start with a copy of dict1 to avoid modifying it\n",
        "    for key, value in dict2.items():\n",
        "        if key in merged_dict:\n",
        "            merged_dict[key] += value  # Sum the values for common keys\n",
        "        else:\n",
        "            merged_dict[key] = value  # Add the key-value pair if the key is not in dict1\n",
        "    return merged_dict\n",
        "\n",
        "print(merge_dicts_sum_values({'a' : 1, 'b' : 2}, {'b' : 3, 'c' : 4}))\n",
        "\n",
        "print()\n",
        "\n",
        "# Alternativa b\n",
        "def invert_dict(d):\n",
        "    return {value: key for key, value in d.items()}\n",
        "\n",
        "print(invert_dict({'a' : 1, 'b' : 2}))\n",
        "\n",
        "print()\n",
        "\n",
        "# Alternativa c\n",
        "def most_frequent_value(d):\n",
        "    # Cria um dicionário para armazenar a contagem de cada valor\n",
        "    frequency = {}\n",
        "\n",
        "    # Conta as ocorrências de cada valor no dicionário\n",
        "    for value in d.values():\n",
        "        frequency[value] = frequency.get(value, 0) + 1\n",
        "\n",
        "    # Encontra o valor com a maior contagem\n",
        "    most_frequent = max(frequency, key=frequency.get)\n",
        "\n",
        "    return most_frequent\n",
        "\n",
        "print(most_frequent_value({'a': 3, 'b': 2, 'c': 3}))\n",
        "\n",
        "print()\n",
        "\n",
        "# Alternativa d\n",
        "def group_words_by_first_letter(words):\n",
        "    # Cria um dicionário vazio para armazenar os grupos de palavras\n",
        "    grouped_words = {}\n",
        "\n",
        "    # Itera sobre a lista de palavras\n",
        "    for word in words:\n",
        "        # Obtém a primeira letra da palavra\n",
        "        first_letter = word[0].lower()  # Usar .lower() para garantir que a letra seja minúscula\n",
        "\n",
        "        # Adiciona a palavra ao grupo correspondente à primeira letra\n",
        "        if first_letter not in grouped_words:\n",
        "            grouped_words[first_letter] = [word]  # Se a letra não existir, cria uma nova lista\n",
        "        else:\n",
        "            grouped_words[first_letter].append(word)  # Se a letra existir, adiciona a palavra à lista\n",
        "\n",
        "    return grouped_words\n",
        "\n",
        "print(group_words_by_first_letter([\"apple\", \"banana\", \"apricot\", \"blueberry\", \"cherry\"]))\n",
        "\n",
        "print()\n",
        "\n",
        "# Alternativa e\n",
        "def find_key_with_max_value(d):\n",
        "    # Inicializa o primeiro item do dicionário como o máximo\n",
        "    max_key = max(d, key=d.get)\n",
        "\n",
        "    return max_key\n",
        "\n",
        "print(find_key_with_max_value({'a': 10, 'b': 25, 'c': 17}))"
      ],
      "metadata": {
        "colab": {
          "base_uri": "https://localhost:8080/"
        },
        "id": "iV7fWTf9bETF",
        "outputId": "1ec064a5-b0a2-4762-ef92-683d647e747f"
      },
      "execution_count": null,
      "outputs": [
        {
          "output_type": "stream",
          "name": "stdout",
          "text": [
            "{'a': 1, 'b': 5, 'c': 4}\n",
            "\n",
            "{1: 'a', 2: 'b'}\n",
            "\n",
            "3\n",
            "\n",
            "{'a': ['apple', 'apricot'], 'b': ['banana', 'blueberry'], 'c': ['cherry']}\n",
            "\n",
            "b\n"
          ]
        }
      ]
    },
    {
      "cell_type": "markdown",
      "source": [
        "### Questão 6"
      ],
      "metadata": {
        "id": "mBlexTV7fBEw"
      }
    },
    {
      "cell_type": "code",
      "source": [
        "# Alternativa a\n",
        "def set_operations(set1, set2):\n",
        "    union_set = set1 | set2  # União dos conjuntos\n",
        "    intersection_set = set1 & set2  # Interseção dos conjuntos\n",
        "    difference_set1 = set1 - set2  # Diferença (set1 - set2)\n",
        "    difference_set2 = set2 - set1  # Diferença (set2 - set1)\n",
        "\n",
        "    return {\n",
        "        \"Union\": union_set,\n",
        "        \"Intersection\": intersection_set,\n",
        "        \"Difference (Set 1 - Set 2)\": difference_set1,\n",
        "        \"Difference (Set 2 - Set 1)\": difference_set2\n",
        "    }\n",
        "\n",
        "set1 = {1, 2, 3}\n",
        "set2 = {3, 4, 5}\n",
        "output = set_operations(set1, set2)\n",
        "\n",
        "for key, value in output.items():\n",
        "    print(f\"{key}: {value}\")\n",
        "\n",
        "print()\n",
        "\n",
        "# Alternativa b\n",
        "def symmetric_difference(set1, set2):\n",
        "    return set1 ^ set2  # Operador XOR para diferença simétrica\n",
        "\n",
        "print(symmetric_difference(set([1, 2, 3]), set([2, 3, 4])))\n",
        "\n",
        "print()\n",
        "\n",
        "# Alternativa c\n",
        "def are_disjoint(set1, set2):\n",
        "    return set1.isdisjoint(set2)  # Retorna True se não houver elementos em comum\n",
        "\n",
        "print(are_disjoint(set([1, 2, 3]), set([4, 5, 6])))\n",
        "print(are_disjoint(set([1, 2, 3]), set([3, 4, 5])))"
      ],
      "metadata": {
        "colab": {
          "base_uri": "https://localhost:8080/"
        },
        "id": "Ys4KwXqDfje1",
        "outputId": "8cf22037-7e06-4359-c298-ea89afaa1ccf"
      },
      "execution_count": null,
      "outputs": [
        {
          "output_type": "stream",
          "name": "stdout",
          "text": [
            "Union: {1, 2, 3, 4, 5}\n",
            "Intersection: {3}\n",
            "Difference (Set 1 - Set 2): {1, 2}\n",
            "Difference (Set 2 - Set 1): {4, 5}\n",
            "\n",
            "{1, 4}\n",
            "\n",
            "True\n",
            "False\n"
          ]
        }
      ]
    },
    {
      "cell_type": "markdown",
      "source": [
        "## Chapter 3 - Apostila"
      ],
      "metadata": {
        "id": "XURT6qa5iNup"
      }
    },
    {
      "cell_type": "markdown",
      "source": [
        "### Questão 1"
      ],
      "metadata": {
        "id": "kBwAPxrLsemp"
      }
    },
    {
      "cell_type": "code",
      "source": [
        "class Rectangle:\n",
        "  def __init__(self, length, width):\n",
        "    self.length = length\n",
        "    self.width = width\n",
        "\n",
        "  def area(self):\n",
        "    self.area = self.length * self.width\n",
        "    return self.area\n",
        "\n",
        "  def perimeter(self):\n",
        "    self.perimeter = 2 * (self.length + self.width)\n",
        "    return self.perimeter\n",
        "\n",
        "rectangle = Rectangle(4, 5)\n",
        "print(rectangle.area())\n",
        "print(rectangle.perimeter())"
      ],
      "metadata": {
        "colab": {
          "base_uri": "https://localhost:8080/"
        },
        "id": "EweuvCBwiQNe",
        "outputId": "ad0264e8-2220-4097-bb16-4b7377edc9be"
      },
      "execution_count": null,
      "outputs": [
        {
          "output_type": "stream",
          "name": "stdout",
          "text": [
            "20\n",
            "18\n"
          ]
        }
      ]
    },
    {
      "cell_type": "markdown",
      "source": [
        "### Questão 2"
      ],
      "metadata": {
        "id": "Eswl0cHztgu_"
      }
    },
    {
      "cell_type": "code",
      "source": [
        "import math\n",
        "\n",
        "class Circle:\n",
        "  def __init__(self, radius):\n",
        "    self.radius = radius\n",
        "\n",
        "  def circumference(self):\n",
        "    self.circumference = 2 * math.pi * self.radius\n",
        "    return self.circumference\n",
        "\n",
        "  def area(self):\n",
        "    self.area = math.pi * self.radius ** 2\n",
        "    return self.area\n",
        "\n",
        "circle = Circle(5)\n",
        "print(circle.area())"
      ],
      "metadata": {
        "colab": {
          "base_uri": "https://localhost:8080/"
        },
        "id": "A9KgKds5tjun",
        "outputId": "925286e1-6b42-45cb-e1bd-50ecd43c89a6"
      },
      "execution_count": null,
      "outputs": [
        {
          "output_type": "stream",
          "name": "stdout",
          "text": [
            "78.53981633974483\n"
          ]
        }
      ]
    },
    {
      "cell_type": "markdown",
      "source": [
        "### Questão 3"
      ],
      "metadata": {
        "id": "hd44uoCQuSZN"
      }
    },
    {
      "cell_type": "code",
      "source": [
        "class Student:\n",
        "  def __init__(self, name, age, grades):\n",
        "    self.name = name\n",
        "    self.age = age\n",
        "    self.grades = grades\n",
        "\n",
        "  def average(self):\n",
        "    self.avg = sum(self.grades) / len(self.grades)\n",
        "    return self.avg\n",
        "\n",
        "  def is_passing(self):\n",
        "    return self.average() >= 60\n",
        "\n",
        "alice = Student(\"Alice\", 20, [80, 90])\n",
        "print(alice.average())\n",
        "print(alice.is_passing())"
      ],
      "metadata": {
        "colab": {
          "base_uri": "https://localhost:8080/"
        },
        "id": "nCoj_lituT93",
        "outputId": "ab3d29fa-055c-4fab-a9f2-b25533c20f41"
      },
      "execution_count": null,
      "outputs": [
        {
          "output_type": "stream",
          "name": "stdout",
          "text": [
            "85.0\n",
            "True\n"
          ]
        }
      ]
    },
    {
      "cell_type": "markdown",
      "source": [
        "### Questão 4"
      ],
      "metadata": {
        "id": "NJVHOSxxu3ad"
      }
    },
    {
      "cell_type": "code",
      "source": [
        "class BankAccount:\n",
        "  def __init__(self, balance):\n",
        "    self.balance = balance\n",
        "\n",
        "  def deposit(self, amount):\n",
        "    self.balance += amount\n",
        "\n",
        "  def withdraw(self, amount):\n",
        "    if self.balance >= amount:\n",
        "      self.balance -= amount\n",
        "    else:\n",
        "      print(\"Insufficient funds\")\n",
        "\n",
        "acc = BankAccount(100)\n",
        "acc.deposit(50)\n",
        "print(acc.balance)"
      ],
      "metadata": {
        "colab": {
          "base_uri": "https://localhost:8080/"
        },
        "id": "Vm0jT0VGu5Hp",
        "outputId": "9cdb3f84-ba68-49e7-cdaa-97c38ff3057a"
      },
      "execution_count": null,
      "outputs": [
        {
          "output_type": "stream",
          "name": "stdout",
          "text": [
            "150\n"
          ]
        }
      ]
    },
    {
      "cell_type": "markdown",
      "source": [
        "### Questão 5"
      ],
      "metadata": {
        "id": "G08unStFwTAN"
      }
    },
    {
      "cell_type": "code",
      "source": [
        "# Superclasse Vehicle\n",
        "class Vehicle:\n",
        "    def __init__(self, make, model):\n",
        "        self.make = make  # Marca do veículo\n",
        "        self.model = model  # Modelo do veículo\n",
        "\n",
        "    def display_info(self):\n",
        "        return f\"Make: {self.make}, Model: {self.model}\"\n",
        "\n",
        "# Subclasse Car (herda de Vehicle)\n",
        "class Car(Vehicle):\n",
        "    def __init__(self, make, model, doors):\n",
        "        super().__init__(make, model)  # Chama o construtor da superclasse\n",
        "        self.doors = doors  # Número de portas\n",
        "\n",
        "    def display_info(self):\n",
        "        return f\"{super().display_info()}, Doors: {self.doors}\"\n",
        "\n",
        "# Subclasse Bike (herda de Vehicle)\n",
        "class Bike(Vehicle):\n",
        "    def __init__(self, make, model, bike_type):\n",
        "        super().__init__(make, model)  # Chama o construtor da superclasse\n",
        "        self.bike_type = bike_type  # Tipo de bicicleta (ex: \"mountain\", \"road\")\n",
        "\n",
        "    def display_info(self):\n",
        "        return f\"{super().display_info()}, Type: {self.bike_type}\"\n",
        "\n",
        "# Teste da implementação\n",
        "car = Car(\"Ford\", \"Mustang\", 4)\n",
        "bike = Bike(\"Giant\", \"Escape 3\", \"road\")\n",
        "\n",
        "print(car.display_info())  # Output: Make: Ford, Model: Mustang, Doors: 4\n",
        "print(bike.display_info())  # Output: Make: Giant, Model: Escape 3, Type: road"
      ],
      "metadata": {
        "colab": {
          "base_uri": "https://localhost:8080/"
        },
        "id": "WvAib7c_wSol",
        "outputId": "a7b6f38d-a79e-46c7-c8e6-d7b3f1f78052"
      },
      "execution_count": null,
      "outputs": [
        {
          "output_type": "stream",
          "name": "stdout",
          "text": [
            "Make: Ford, Model: Mustang, Doors: 4\n",
            "Make: Giant, Model: Escape 3, Type: road\n"
          ]
        }
      ]
    },
    {
      "cell_type": "markdown",
      "source": [
        "## Chapter 5 - Apostila"
      ],
      "metadata": {
        "id": "rubnTDl2x7zG"
      }
    },
    {
      "cell_type": "markdown",
      "source": [
        "### Questão 1"
      ],
      "metadata": {
        "id": "GmQq7Sj3yA4i"
      }
    },
    {
      "cell_type": "code",
      "source": [
        "import timeit\n",
        "\n",
        "def sum_using_loop(k):\n",
        "    \"\"\"Soma os primeiros k números naturais usando um loop.\"\"\"\n",
        "    total = 0\n",
        "    for i in range(1, k + 1):\n",
        "        total += i\n",
        "    return total\n",
        "\n",
        "def sum_using_formula(k):\n",
        "    \"\"\"Soma os primeiros k números naturais usando a fórmula S = k(k+1)/2.\"\"\"\n",
        "    return k * (k + 1) // 2  # Fórmula fechada para a soma\n",
        "\n",
        "# Valor de k para teste\n",
        "k = 1000\n",
        "\n",
        "# Medindo tempo com timeit para maior precisão\n",
        "loop_time = timeit.timeit(lambda: sum_using_loop(k), number=1000) / 1000\n",
        "formula_time = timeit.timeit(lambda: sum_using_formula(k), number=1000) / 1000\n",
        "\n",
        "# Exibindo os resultados em milissegundos (ms)\n",
        "print(f\"Time for loop: {loop_time * 1e3:.6f} ms\")\n",
        "print(f\"Time for formula: {formula_time * 1e3:.6f} ms\")"
      ],
      "metadata": {
        "colab": {
          "base_uri": "https://localhost:8080/"
        },
        "id": "Que2l34-yAYt",
        "outputId": "1a4e7cc3-4f6b-4aeb-e911-a1bb4c0149dd"
      },
      "execution_count": null,
      "outputs": [
        {
          "output_type": "stream",
          "name": "stdout",
          "text": [
            "Time for loop: 0.094332 ms\n",
            "Time for formula: 0.000338 ms\n"
          ]
        }
      ]
    },
    {
      "cell_type": "markdown",
      "source": [
        "#### **Sumário de Complexidade**\n",
        "\n",
        "A análise da complexidade de algoritmos ajuda a entender o **desempenho** e a **eficiência** de diferentes abordagens. Aqui estão os conceitos-chave aplicados ao nosso caso:\n",
        "\n",
        "---\n",
        "\n",
        "### **1. Complexidade do Loop**\n",
        "A função `sum_using_loop(k)` percorre todos os números de `1` a `k` e realiza `k` somas.\n",
        "\n",
        "- **Número de operações**: Aproximadamente $k$ somas.\n",
        "- **Complexidade:**  \n",
        "  $$ O(k) $$\n",
        "- **Tempo de execução (para $k=1000$):** `0.094332 ms`  \n",
        "\n",
        "Isso significa que, à medida que $k$ cresce, o tempo de execução **aumenta linearmente**.\n",
        "\n",
        "---\n",
        "\n",
        "### **2. Complexidade da Fórmula**\n",
        "A função `sum_using_formula(k)` calcula a soma diretamente com a fórmula matemática:\n",
        "\n",
        "$$ S = \\frac{k(k+1)}{2} $$\n",
        "\n",
        "- **Número de operações:** Apenas **3** operações (multiplicação, adição e divisão inteira).\n",
        "- **Complexidade:**  \n",
        "  $$ O(1) $$\n",
        "- **Tempo de execução (para $k=1000$):** `0.000338 ms`  \n",
        "\n",
        "Essa abordagem **não depende** do valor de $k$, pois sempre executa a mesma quantidade de operações, tornando-se **extremamente eficiente** para valores grandes.\n",
        "\n",
        "---\n",
        "\n",
        "### **3. Comparação e Implicações**\n",
        "| Método | Complexidade | Tempo para $k=1000$ |\n",
        "|--------|------------|-----------------|\n",
        "| Loop ($O(k)$) | Linear | `0.094332 ms` |\n",
        "| Fórmula ($O(1)$) | Constante | `0.000338 ms` |\n",
        "\n",
        "- **O loop cresce proporcionalmente a $k$**, tornando-se lento para valores grandes.\n",
        "- **A fórmula é instantânea**, pois **independe de $k$**, sendo mais escalável.\n",
        "\n",
        "Se $k$ aumentar para **1 milhão**, a fórmula continuará extremamente rápida, enquanto o loop levará muito mais tempo!\n",
        "\n",
        "🚀 **Conclusão:** A abordagem com **fórmula fechada** é **muito mais eficiente** para somas grandes, devido à sua **complexidade constante $O(1)$**."
      ],
      "metadata": {
        "id": "ngcs524KzTVB"
      }
    },
    {
      "cell_type": "markdown",
      "source": [
        "### Questão 2"
      ],
      "metadata": {
        "id": "yGQMN4Ohzp2D"
      }
    },
    {
      "cell_type": "markdown",
      "source": [
        "#### **Analysis of Time Complexity for Common List Operations in Python**\n",
        "\n",
        "Python lists are implemented as **dynamic arrays**, which impacts the complexity of various operations. Below, we analyze the time complexity of common list operations, including **appending, indexing, and slicing**, with examples and explanations.\n",
        "\n",
        "---\n",
        "\n",
        "## **1. Appending an Element (`list.append()`)**\n",
        "### **Example:**\n",
        "```python\n",
        "lst = [1, 2, 3]\n",
        "lst.append(4)  # Adding an element at the end\n",
        "print(lst)  # Output: [1, 2, 3, 4]\n",
        "```\n",
        "### **Complexity Analysis:**\n",
        "- Appending an element to the end of the list is **$O(1)$ (amortized)**.\n",
        "- In most cases, Python lists have extra allocated space, so adding an element does not require resizing.\n",
        "- If resizing is needed (i.e., when capacity is exceeded), a **new larger array** is allocated, and all elements are copied, making it **$O(n)$ in worst case**.\n",
        "- However, since resizing happens **infrequently**, the **average complexity remains $O(1)$**.\n",
        "\n",
        "---\n",
        "\n",
        "## **2. Indexing an Element (`list[i]`)**\n",
        "### **Example:**\n",
        "```python\n",
        "lst = [10, 20, 30, 40]\n",
        "print(lst[2])  # Output: 30\n",
        "```\n",
        "### **Complexity Analysis:**\n",
        "- Accessing an element by index takes **constant time $O(1)$**.\n",
        "- Lists are stored as contiguous memory arrays, allowing direct access via an index lookup.\n",
        "\n",
        "---\n",
        "\n",
        "## **3. Slicing a List (`list[start:stop:step]`)**\n",
        "### **Example:**\n",
        "```python\n",
        "lst = [0, 1, 2, 3, 4, 5, 6, 7, 8, 9]\n",
        "slice_lst = lst[2:8:2]  # [2, 4, 6]\n",
        "print(slice_lst)\n",
        "```\n",
        "### **Complexity Analysis:**\n",
        "- **Slicing creates a new list**, which requires copying elements.\n",
        "- The number of elements copied is **proportional to the size of the slice**.\n",
        "- If the slice contains **$m$ elements**, the complexity is **$O(m)$**.\n",
        "\n",
        "---\n",
        "\n",
        "## **4. Inserting an Element at a Specific Index (`list.insert()`)**\n",
        "### **Example:**\n",
        "```python\n",
        "lst = [1, 2, 4, 5]\n",
        "lst.insert(2, 3)  # Inserts 3 at index 2\n",
        "print(lst)  # Output: [1, 2, 3, 4, 5]\n",
        "```\n",
        "### **Complexity Analysis:**\n",
        "- Inserting an element at the **beginning or middle** shifts all subsequent elements.\n",
        "- In the worst case (inserting at the start), all **$n$ elements** are shifted right.\n",
        "- **Time Complexity: $O(n)$**.\n",
        "\n",
        "---\n",
        "\n",
        "## **5. Deleting an Element (`del list[i]` or `list.remove(x)`)**\n",
        "### **Example:**\n",
        "```python\n",
        "lst = [1, 2, 3, 4, 5]\n",
        "del lst[2]  # Removes element at index 2\n",
        "print(lst)  # Output: [1, 2, 4, 5]\n",
        "```\n",
        "### **Complexity Analysis:**\n",
        "- Deleting an element from a list **shifts all elements after it**.\n",
        "- **Time Complexity: $O(n)$** in the worst case (deleting the first element).\n",
        "\n",
        "---\n",
        "\n",
        "## **6. Finding an Element (`list.index(x)`)**\n",
        "### **Example:**\n",
        "```python\n",
        "lst = [10, 20, 30, 40, 50]\n",
        "index = lst.index(30)  # Output: 2\n",
        "```\n",
        "### **Complexity Analysis:**\n",
        "- `list.index(x)` **searches through the list**.\n",
        "- **Worst case: $O(n)$** if the element is at the end or absent.\n",
        "\n",
        "---\n",
        "\n",
        "## **Summary of Complexities**\n",
        "| Operation        | Complexity |\n",
        "|-----------------|------------|\n",
        "| `append(x)`     | $O(1)$ (amortized) |\n",
        "| `list[i]`       | $O(1)$ |\n",
        "| `list[a:b:c]`   | $O(m)$ (size of slice) |\n",
        "| `insert(i, x)`  | $O(n)$ |\n",
        "| `del list[i]`   | $O(n)$ |\n",
        "| `list.index(x)` | $O(n)$ |\n",
        "\n",
        "### **Conclusion**\n",
        "- **Appending and indexing are very efficient** ($O(1)$).\n",
        "- **Slicing and deleting elements require copying** ($O(n)$ in worst case).\n",
        "- **Insertion and searching operations degrade to $O(n)$ for large lists**.\n",
        "\n",
        "🚀 **Optimizations:** If frequent insertions/removals are needed, **consider using a `collections.deque`**, which provides **$O(1)$** insert/delete operations at both ends!"
      ],
      "metadata": {
        "id": "0DQZrNaez9Yq"
      }
    },
    {
      "cell_type": "markdown",
      "source": [
        "### Questão 3"
      ],
      "metadata": {
        "id": "CTNzblYZ01mD"
      }
    },
    {
      "cell_type": "code",
      "source": [
        "import timeit\n",
        "import random\n",
        "\n",
        "# Gerar um dicionário com n elementos\n",
        "n = 10**6  # 1 milhão de elementos\n",
        "test_dict = {i: i*2 for i in range(n)}\n",
        "\n",
        "# Selecionar uma chave aleatória para teste de acesso\n",
        "key = random.randint(0, n - 1)\n",
        "new_key = n  # A chave que vamos adicionar para remoção\n",
        "\n",
        "# Inserir a chave no dicionário para garantir que ela existe antes de removê-la\n",
        "test_dict[new_key] = new_key * 2\n",
        "\n",
        "# Medir tempo de acesso\n",
        "access_time = timeit.timeit(lambda: test_dict[key], number=100000) / 100000 * 1000  # em ms\n",
        "\n",
        "# Medir tempo de inserção (já garantimos que a chave foi inserida)\n",
        "insert_time = timeit.timeit(lambda: test_dict.__setitem__(new_key, new_key * 2), number=100000) / 100000 * 1000\n",
        "\n",
        "# Medir tempo de remoção (usando pop, garantindo que a chave existe)\n",
        "delete_time = timeit.timeit(lambda: test_dict.pop(new_key, None), number=100000) / 100000 * 1000\n",
        "\n",
        "# Exibir resultados\n",
        "print(f\"Access Time: {access_time:.6f} ms\")\n",
        "print(f\"Insertion Time: {insert_time:.6f} ms\")\n",
        "print(f\"Deletion Time: {delete_time:.6f} ms\")"
      ],
      "metadata": {
        "colab": {
          "base_uri": "https://localhost:8080/"
        },
        "id": "mXDVI5CN04is",
        "outputId": "56703591-e843-4fe5-e49d-d924763be409"
      },
      "execution_count": null,
      "outputs": [
        {
          "output_type": "stream",
          "name": "stdout",
          "text": [
            "Access Time: 0.000078 ms\n",
            "Insertion Time: 0.000173 ms\n",
            "Deletion Time: 0.000087 ms\n"
          ]
        }
      ]
    },
    {
      "cell_type": "markdown",
      "source": [
        "#### **Análise dos Resultados**\n",
        "\n",
        "Com base nos tempos de execução medidos para as operações de acesso, inserção e remoção em um dicionário Python, podemos comparar os resultados obtidos com as complexidades teóricas esperadas.\n",
        "\n",
        "### **1. Acesso ao Dicionário**\n",
        "\n",
        "**Tempo de Acesso:**  \n",
        "- **Resultado Medido:** `0.000078 ms`\n",
        "- **Complexidade Teórica:**  \n",
        "  O acesso a um dicionário pelo **índice** de uma chave, como `test_dict[key]`, tem uma **complexidade média de tempo O(1)** devido à implementação interna de tabelas de hash.\n",
        "  \n",
        "**Conclusão:**  \n",
        "- O tempo de execução do acesso está de acordo com a **complexidade constante O(1)**. O resultado é muito baixo, refletindo a eficiência da operação.\n",
        "\n",
        "---\n",
        "\n",
        "### **2. Inserção no Dicionário**\n",
        "\n",
        "**Tempo de Inserção:**  \n",
        "- **Resultado Medido:** `0.000173 ms`\n",
        "- **Complexidade Teórica:**  \n",
        "  A inserção de um item em um dicionário, ou seja, a operação `test_dict[key] = value`, tem **complexidade O(1)** em média, pois envolve a computação do hash da chave e a inserção no slot correspondente na tabela de hash.\n",
        "\n",
        "**Conclusão:**  \n",
        "- O tempo de execução de inserção também está dentro da faixa esperada para uma **complexidade constante O(1)**, embora a inserção de novos elementos possa, em algumas situações, envolver uma **remoção de colisões** ou **realocação** de memória, mas isso ocorre de maneira rara e não afeta a complexidade média.\n",
        "\n",
        "---\n",
        "\n",
        "### **3. Remoção do Dicionário**\n",
        "\n",
        "**Tempo de Remoção:**  \n",
        "- **Resultado Medido:** `0.000087 ms`\n",
        "- **Complexidade Teórica:**  \n",
        "  A remoção de um item de um dicionário, como `test_dict.pop(key)`, também tem **complexidade O(1)** em média. A operação envolve encontrar a chave através de seu hash, removê-la e ajustar a tabela de hash se necessário.\n",
        "\n",
        "**Conclusão:**  \n",
        "- O tempo de execução da remoção segue a **complexidade constante O(1)**, como esperado. Assim como a inserção, a operação de remoção é geralmente eficiente devido à tabela de hash.\n",
        "\n",
        "---\n",
        "\n",
        "### **Comparação com a Teoria**\n",
        "\n",
        "A análise dos resultados confirma as **complexidades esperadas**:\n",
        "\n",
        "- **Acesso:** O tempo de `0.000078 ms` está em linha com a **complexidade O(1)**, já que o dicionário em Python utiliza uma tabela de hash para acessos rápidos.\n",
        "- **Inserção:** A operação de inserção leva `0.000173 ms`, que também se alinha com a **complexidade O(1)**.\n",
        "- **Remoção:** O tempo de remoção foi de `0.000087 ms`, novamente refletindo uma **complexidade O(1)**.\n",
        "\n",
        "### **Conclusão Final**\n",
        "\n",
        "As operações de **acesso**, **inserção** e **remoção** em um dicionário Python têm uma **complexidade média de O(1)**. O tempo de execução observado para essas operações é muito baixo, o que é típico para dicionários implementados com tabelas de hash. A análise experimental confirma que, em termos de complexidade teórica e prática, essas operações são extremamente eficientes.\n",
        "\n",
        "Se você tiver mais dúvidas ou precisar de mais análises, sinta-se à vontade para perguntar!"
      ],
      "metadata": {
        "id": "SDYmEFeq3Hd-"
      }
    },
    {
      "cell_type": "markdown",
      "source": [
        "### Questão 4"
      ],
      "metadata": {
        "id": "mxXliqxF3J6V"
      }
    },
    {
      "cell_type": "markdown",
      "source": [
        "#### **Análise de Complexidade de Tempo das Funções**\n",
        "\n",
        "A seguir, realizaremos a análise de complexidade de tempo no pior caso (worst-case) para cada função das alternativas fornecidas.\n",
        "\n",
        "#### **Alternativa a: Lista de Números Primos**\n",
        "```python\n",
        "fst_primes = [x for x in range(2, 12) if all(x % d != 0 for d in range(2, int(x ** 0.5) + 1))]\n",
        "```\n",
        "- **Análise:** Para cada número `x` no intervalo de 2 a 11, a função `all` verifica se `x` é divisível por algum número até a raiz quadrada de `x`. O número de divisores a ser verificado cresce aproximadamente como a raiz quadrada de `x`.\n",
        "- **Complexidade no pior caso:** A iteração principal percorre os números de 2 a 11 (9 números), e a verificação de primalidade para cada número envolve iterar até aproximadamente a raiz quadrada de `x`. A complexidade total é \\(O(n \\cdot \\sqrt{m})\\), onde `n` é o número de elementos na lista (9 elementos) e `m` é o valor máximo no intervalo (11).\n",
        "- **Pior caso:** \\(O(n \\cdot \\sqrt{m}) = O(9 \\cdot \\sqrt{11}) = O(9 \\cdot 3.32) = O(30)\\).\n",
        "\n",
        "#### **Alternativa b: Remover Números Pares**\n",
        "```python\n",
        "def remove_even_numbers(array):\n",
        "    return [array[i] for i in range(len(array)) if array[i] % 2 != 0]\n",
        "```\n",
        "- **Análise:** A função percorre toda a lista, verificando para cada item se é ímpar e adicionando à nova lista.\n",
        "- **Complexidade no pior caso:** A função percorre todos os `n` elementos da lista e realiza uma operação de módulo constante \\(O(1)\\) para cada elemento.\n",
        "- **Pior caso:** \\(O(n)\\), onde `n` é o número de elementos na lista.\n",
        "\n",
        "#### **Alternativa c: Encontrar o Segundo Maior**\n",
        "```python\n",
        "def find_second_largest(array):\n",
        "    largest = second_largest = float('-inf')\n",
        "    for num in array:\n",
        "        if num > largest:\n",
        "            second_largest = largest\n",
        "            largest = num\n",
        "        elif num > second_largest and num != largest:\n",
        "            second_largest = num\n",
        "    if second_largest == float('-inf'):\n",
        "        raise ValueError(\"Todos os elementos do array são iguais.\")\n",
        "    return second_largest\n",
        "```\n",
        "- **Análise:** A função percorre a lista uma vez, comparando cada elemento para atualizar o maior e o segundo maior valor.\n",
        "- **Complexidade no pior caso:** A função percorre todos os `n` elementos da lista, realizando comparações constantes \\(O(1)\\) para cada elemento.\n",
        "- **Pior caso:** \\(O(n)\\), onde `n` é o número de elementos na lista.\n",
        "\n",
        "#### **Alternativa d: Achatar Lista Aninhada**\n",
        "```python\n",
        "def flatten_nested_list(array):\n",
        "    return [item for sublist in array for item in sublist]\n",
        "```\n",
        "- **Análise:** A função percorre todas as sublistas e todos os itens dentro de cada sublista.\n",
        "- **Complexidade no pior caso:** A função percorre todos os `n` itens nas sublistas e, para cada sublista, percorre todos os seus elementos. Se o número total de elementos for `m`, a complexidade é \\(O(m)\\).\n",
        "- **Pior caso:** \\(O(m)\\), onde `m` é o número total de itens nas sublistas.\n",
        "\n",
        "#### **Alternativa e: Rotacionar Lista**\n",
        "```python\n",
        "def rotate_list(array, pos):\n",
        "    return [array[(i - pos) % len(array)] for i in range(len(array))]\n",
        "```\n",
        "- **Análise:** A função percorre toda a lista e calcula um novo índice para cada elemento. A operação de módulo é \\(O(1)\\).\n",
        "- **Complexidade no pior caso:** A função percorre todos os `n` elementos da lista, fazendo uma operação constante para cada.\n",
        "- **Pior caso:** \\(O(n)\\), onde `n` é o número de elementos na lista.\n",
        "\n",
        "#### **Alternativa f: Contar Ocorrências**\n",
        "```python\n",
        "def count_occurrences(array):\n",
        "    counts = {}\n",
        "    for item in array:\n",
        "        counts[item] = counts.get(item, 0) + 1\n",
        "    return counts\n",
        "```\n",
        "- **Análise:** A função percorre todos os `n` itens da lista, fazendo uma operação constante \\(O(1)\\) de verificação e atualização no dicionário.\n",
        "- **Complexidade no pior caso:** \\(O(n)\\), onde `n` é o número de elementos na lista.\n",
        "\n",
        "---\n",
        "\n",
        "### **Funções Trabalhando com Tuplas**\n",
        "\n",
        "#### **Alternativa a: Converter Lista de Tuplas para Dicionário**\n",
        "```python\n",
        "def convert_list_of_tuples_to_dict(array_of_tuples):\n",
        "    return dict(array_of_tuples)\n",
        "```\n",
        "- **Análise:** A função percorre todos os elementos da lista de tuplas e os adiciona a um dicionário.\n",
        "- **Complexidade no pior caso:** A função percorre todos os `n` elementos da lista, com cada operação de inserção no dicionário sendo \\(O(1)\\).\n",
        "- **Pior caso:** \\(O(n)\\), onde `n` é o número de tuplas.\n",
        "\n",
        "#### **Alternativa b: Trocar Primeiro e Último Elemento da Tupla**\n",
        "```python\n",
        "def swap_fst_and_lst_element(tup):\n",
        "    return (tup[-1], *tup[1:-1], tup[0])\n",
        "```\n",
        "- **Análise:** A função realiza operações constantes para acessar os elementos e rearranjar os itens da tupla.\n",
        "- **Complexidade no pior caso:** \\(O(n)\\), onde `n` é o número de elementos na tupla (porque a tupla precisa ser convertida em uma nova tupla, e isso envolve percorrer todos os elementos).\n",
        "\n",
        "#### **Alternativa c: Encontrar Mínimo e Máximo da Tupla**\n",
        "```python\n",
        "def find_minmax_tuple(tup):\n",
        "    min_value, max_value = tup[0], tup[0]\n",
        "    for num in tup:\n",
        "        if num < min_value:\n",
        "            min_value = num\n",
        "        if num > max_value:\n",
        "            max_value = num\n",
        "    return (max_value, min_value)\n",
        "```\n",
        "- **Análise:** A função percorre todos os elementos da tupla para encontrar o mínimo e o máximo.\n",
        "- **Complexidade no pior caso:** \\(O(n)\\), onde `n` é o número de elementos na tupla.\n",
        "\n",
        "#### **Alternativa d: Concatenar Tupla em uma String**\n",
        "```python\n",
        "def concatenate_tuple_into_str(tup):\n",
        "    string = ''\n",
        "    for char in tup:\n",
        "        string += str(char)\n",
        "    return string\n",
        "```\n",
        "- **Análise:** A função percorre todos os elementos da tupla e os converte para string, concatenando-os à variável `string`. Como strings são imutáveis, cada concatenação pode ser \\(O(n)\\) no pior caso.\n",
        "- **Complexidade no pior caso:** \\(O(n^2)\\), onde `n` é o número de elementos na tupla, devido à concatenação repetida de strings.\n",
        "\n",
        "---\n",
        "\n",
        "### **Funções Trabalhando com Dicionários**\n",
        "\n",
        "#### **Alternativa a: Mesclar Dicionários Somando os Valores**\n",
        "```python\n",
        "def merge_dicts_sum_values(dict1, dict2):\n",
        "    merged_dict = dict1.copy()\n",
        "    for key, value in dict2.items():\n",
        "        if key in merged_dict:\n",
        "            merged_dict[key] += value\n",
        "        else:\n",
        "            merged_dict[key] = value\n",
        "    return merged_dict\n",
        "```\n",
        "- **Análise:** A função percorre todos os itens em `dict2`, e para cada item, verifica se a chave já existe em `dict1`. A operação de verificação e inserção no dicionário é \\(O(1)\\).\n",
        "- **Complexidade no pior caso:** \\(O(n + m)\\), onde `n` e `m` são os tamanhos de `dict1` e `dict2`, respectivamente.\n",
        "\n",
        "#### **Alternativa b: Inverter Dicionário**\n",
        "```python\n",
        "def invert_dict(d):\n",
        "    return {value: key for key, value in d.items()}\n",
        "```\n",
        "- **Análise:** A função percorre todos os itens no dicionário `d` e cria um novo dicionário.\n",
        "- **Complexidade no pior caso:** \\(O(n)\\), onde `n` é o número de itens no dicionário.\n",
        "\n",
        "#### **Alternativa c: Valor Mais Frequente no Dicionário**\n",
        "```python\n",
        "def most_frequent_value(d):\n",
        "    frequency = {}\n",
        "    for value in d.values():\n",
        "        frequency[value] = frequency.get(value, 0) + 1\n",
        "    most_frequent = max(frequency, key=frequency.get)\n",
        "    return most_frequent\n",
        "```\n",
        "- **Análise:** A função percorre todos os valores no dicionário e conta a frequência de cada valor. Em seguida, encontra o valor mais frequente.\n",
        "- **Complexidade no pior caso:** \\(O(n)\\), onde `n` é o número de itens no dicionário.\n",
        "\n",
        "#### **Alternativa d: Agrupar Palavras pela Primeira Letra**\n",
        "```python\n",
        "def group_words_by_first_letter(words):\n",
        "    grouped_words = {}\n",
        "    for word in words:\n",
        "        first_letter = word[0].lower()\n",
        "        if first_letter not in grouped_words:\n",
        "            grouped_words[first_letter] = [word]\n",
        "        else:\n",
        "            grouped_words[first_letter].append(word)\n",
        "    return grouped_words\n",
        "```\n",
        "- **Análise:** A função percorre todos os `n` elementos na lista de palavras e agrupa cada palavra com base na primeira letra.\n",
        "- **Complexidade no pior caso:** \\(O(n)\\), onde `n` é o número de palavras na lista.\n",
        "\n",
        "---\n",
        "\n",
        "### **Funções Trabalhando com Conjuntos**\n",
        "\n",
        "#### **Alternativa a: Operações em Conjuntos**\n",
        "```python\n",
        "def set_operations(set1, set2):\n",
        "    union_set = set1 | set2\n",
        "    intersection_set = set1 & set2\n",
        "    difference_set1 = set1 - set2\n",
        "    difference_set2 = set2 - set1\n",
        "    return {\"Union\": union_set, \"Intersection\": intersection_set, \"Difference (Set 1 - Set 2)\": difference_set1, \"Difference\n",
        "\n",
        " (Set 2 - Set 1)\": difference_set2}\n",
        "```\n",
        "- **Análise:** As operações de união, interseção e diferença entre dois conjuntos são \\(O(\\min(|A|, |B|))\\), onde `A` e `B` são os conjuntos.\n",
        "- **Complexidade no pior caso:** \\(O(n + m)\\), onde `n` e `m` são os tamanhos dos dois conjuntos.\n",
        "\n",
        "#### **Alternativa b: Verificar Subconjunto**\n",
        "```python\n",
        "def check_subset(set1, set2):\n",
        "    return set1.issubset(set2)\n",
        "```\n",
        "- **Análise:** A operação de verificação de subconjunto é \\(O(\\min(|A|, |B|))\\), onde `A` e `B` são os conjuntos.\n",
        "- **Complexidade no pior caso:** \\(O(\\min(n, m))\\), onde `n` e `m` são os tamanhos dos conjuntos.\n",
        "\n",
        "#### **Alternativa c: Calcular Diferença Simétrica**\n",
        "```python\n",
        "def symmetric_difference(set1, set2):\n",
        "    return set1 ^ set2\n",
        "```\n",
        "- **Análise:** A operação de diferença simétrica entre dois conjuntos é \\(O(\\min(|A|, |B|))\\).\n",
        "- **Complexidade no pior caso:** \\(O(n + m)\\), onde `n` e `m` são os tamanhos dos conjuntos.\n",
        "\n",
        "#### **Alternativa d: Contagem de Elementos**\n",
        "```python\n",
        "def count_elements_in_set(set1):\n",
        "    return len(set1)\n",
        "```\n",
        "- **Análise:** A operação de contar o número de elementos em um conjunto é \\(O(1)\\), pois a implementação de conjuntos em Python mantém esse valor armazenado.\n",
        "- **Complexidade no pior caso:** \\(O(1)\\)."
      ],
      "metadata": {
        "id": "YAdQEkPg4LFz"
      }
    },
    {
      "cell_type": "markdown",
      "source": [
        "### Questão 5"
      ],
      "metadata": {
        "id": "aY5hcUCK4STP"
      }
    },
    {
      "cell_type": "markdown",
      "source": [
        "#### **Analisando a Complexidade de Tempo da Função**\n",
        "\n",
        "A função dada é:\n",
        "\n",
        "```python\n",
        "def mystery_function(n):\n",
        "    total = 0\n",
        "    for i in range(n):\n",
        "        for j in range(i):\n",
        "            total += j\n",
        "    return total\n",
        "```\n",
        "\n",
        "#### **Loop Externo (`i`):**\n",
        "- O loop externo percorre de `i = 0` até `i = n - 1`, ou seja, ele roda **n** vezes. Isso nos dá uma complexidade de **O(n)** para o loop externo.\n",
        "\n",
        "#### **Loop Interno (`j`):**\n",
        "- O loop interno percorre de `j = 0` até `j = i - 1`. Assim, para cada iteração do loop externo (onde `i` é a variável de iteração), o loop interno executa **i** vezes.\n",
        "\n",
        "#### **Total de Iterações:**\n",
        "O número total de operações (o total de iterações do loop interno) pode ser expresso como a soma dos números inteiros de 0 até `n-1`:\n",
        "\n",
        "$$\n",
        "0 + 1 + 2 + \\dots + (n-1)\n",
        "$$\n",
        "\n",
        "Essa soma é uma **série aritmética**. O valor dessa soma é dado pela fórmula:\n",
        "\n",
        "$$\n",
        "\\text{Soma} = \\frac{(n-1) \\cdot n}{2}\n",
        "$$\n",
        "\n",
        "Simplificando a expressão para o comportamento assintótico:\n",
        "\n",
        "$$\n",
        "O(n^2)\n",
        "$$\n",
        "\n",
        "#### **Conclusão:**\n",
        "\n",
        "A complexidade de tempo no pior caso é dominada pelos loops aninhados. Como o número total de operações é proporcional à soma dos primeiros `n-1` números inteiros, a complexidade de tempo é **O(n^2)**. Portanto, a **complexidade de tempo no pior caso** da função `mystery_function(n)` é:\n",
        "\n",
        "$$\n",
        "O(n^2)\n",
        "$$"
      ],
      "metadata": {
        "id": "cNieU3Kr8AdP"
      }
    }
  ]
}